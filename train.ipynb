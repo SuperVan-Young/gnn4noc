{
 "cells": [
  {
   "cell_type": "code",
   "execution_count": 1,
   "metadata": {},
   "outputs": [],
   "source": [
    "import os\n",
    "import torch\n",
    "import torch.nn as nn\n",
    "import torch.nn.functional as F\n",
    "import matplotlib.pyplot as plt\n",
    "\n",
    "from dataset.dataset import NoCDataset\n",
    "from model.vanilla import VanillaModel\n",
    "\n",
    "from tqdm import tqdm"
   ]
  },
  {
   "cell_type": "code",
   "execution_count": 2,
   "metadata": {},
   "outputs": [
    {
     "name": "stdout",
     "output_type": "stream",
     "text": [
      "#Samples = 559\n",
      "(Graph(num_nodes={'packet': 10, 'router': 12},\n",
      "      num_edges={('packet', 'pass', 'router'): 46, ('router', 'backpressure', 'router'): 16, ('router', 'connect', 'router'): 16, ('router', 'transfer', 'packet'): 46},\n",
      "      metagraph=[('packet', 'router', 'pass'), ('router', 'router', 'backpressure'), ('router', 'router', 'connect'), ('router', 'packet', 'transfer')]), tensor([1057.8928,  887.8571]))\n"
     ]
    }
   ],
   "source": [
    "dataset = NoCDataset()\n",
    "print(f\"#Samples = {len(dataset)}\")\n",
    "print(dataset[0])\n",
    "\n",
    "# TODO: use advanced dgl.dataloader instead of manually dividing dataset\n",
    "num_training = 0.9 * len(dataset)\n"
   ]
  },
  {
   "cell_type": "code",
   "execution_count": 3,
   "metadata": {},
   "outputs": [
    {
     "name": "stderr",
     "output_type": "stream",
     "text": [
      "  0%|          | 0/100 [00:00<?, ?it/s]"
     ]
    },
    {
     "name": "stdout",
     "output_type": "stream",
     "text": [
      "iteration: 0; loss = 74.66802978515625\n",
      "iteration: 100; loss = 32.879417419433594\n",
      "iteration: 200; loss = 14.707178115844727\n",
      "iteration: 300; loss = 6.074963569641113\n",
      "iteration: 400; loss = 6.498138427734375\n"
     ]
    },
    {
     "name": "stderr",
     "output_type": "stream",
     "text": [
      "  1%|          | 1/100 [00:02<03:33,  2.16s/it]"
     ]
    },
    {
     "name": "stdout",
     "output_type": "stream",
     "text": [
      "iteration: 500; loss = 7.965472221374512\n",
      "iteration: 0; loss = 8.72354793548584\n",
      "iteration: 100; loss = 13.729049682617188\n",
      "iteration: 200; loss = 7.677690505981445\n",
      "iteration: 300; loss = 5.306740760803223\n",
      "iteration: 400; loss = 5.947522163391113\n"
     ]
    },
    {
     "name": "stderr",
     "output_type": "stream",
     "text": [
      "  2%|▏         | 2/100 [00:04<03:32,  2.16s/it]"
     ]
    },
    {
     "name": "stdout",
     "output_type": "stream",
     "text": [
      "iteration: 500; loss = 8.174074172973633\n",
      "iteration: 0; loss = 9.350984573364258\n",
      "iteration: 100; loss = 12.21688175201416\n",
      "iteration: 200; loss = 7.843695640563965\n",
      "iteration: 300; loss = 5.785938262939453\n",
      "iteration: 400; loss = 5.68498420715332\n"
     ]
    },
    {
     "name": "stderr",
     "output_type": "stream",
     "text": [
      "  3%|▎         | 3/100 [00:06<03:31,  2.18s/it]"
     ]
    },
    {
     "name": "stdout",
     "output_type": "stream",
     "text": [
      "iteration: 500; loss = 8.220603942871094\n",
      "iteration: 0; loss = 9.39470100402832\n",
      "iteration: 100; loss = 11.13741683959961\n",
      "iteration: 200; loss = 7.850262641906738\n",
      "iteration: 300; loss = 6.107549667358398\n",
      "iteration: 400; loss = 5.713761806488037\n"
     ]
    },
    {
     "name": "stderr",
     "output_type": "stream",
     "text": [
      "  4%|▍         | 4/100 [00:08<03:27,  2.16s/it]"
     ]
    },
    {
     "name": "stdout",
     "output_type": "stream",
     "text": [
      "iteration: 500; loss = 8.182330131530762\n",
      "iteration: 0; loss = 9.40207290649414\n",
      "iteration: 100; loss = 10.653310775756836\n",
      "iteration: 200; loss = 7.69388484954834\n",
      "iteration: 300; loss = 6.081240653991699\n",
      "iteration: 400; loss = 5.890822410583496\n"
     ]
    },
    {
     "name": "stderr",
     "output_type": "stream",
     "text": [
      "  5%|▌         | 5/100 [00:10<03:24,  2.15s/it]"
     ]
    },
    {
     "name": "stdout",
     "output_type": "stream",
     "text": [
      "iteration: 500; loss = 8.016251564025879\n",
      "iteration: 0; loss = 9.155292510986328\n",
      "iteration: 100; loss = 10.127199172973633\n",
      "iteration: 200; loss = 7.596438407897949\n",
      "iteration: 300; loss = 6.101991653442383\n",
      "iteration: 400; loss = 6.068156719207764\n"
     ]
    },
    {
     "name": "stderr",
     "output_type": "stream",
     "text": [
      "  6%|▌         | 6/100 [00:12<03:22,  2.16s/it]"
     ]
    },
    {
     "name": "stdout",
     "output_type": "stream",
     "text": [
      "iteration: 500; loss = 7.977252960205078\n",
      "iteration: 0; loss = 9.049442291259766\n",
      "iteration: 100; loss = 9.792426109313965\n",
      "iteration: 200; loss = 7.629509925842285\n",
      "iteration: 300; loss = 5.650356769561768\n",
      "iteration: 400; loss = 6.347714424133301\n"
     ]
    },
    {
     "name": "stderr",
     "output_type": "stream",
     "text": [
      "  7%|▋         | 7/100 [00:15<03:18,  2.13s/it]"
     ]
    },
    {
     "name": "stdout",
     "output_type": "stream",
     "text": [
      "iteration: 500; loss = 8.010160446166992\n",
      "iteration: 0; loss = 9.100605964660645\n",
      "iteration: 100; loss = 9.779108047485352\n",
      "iteration: 200; loss = 7.741888046264648\n",
      "iteration: 300; loss = 5.680500030517578\n",
      "iteration: 400; loss = 6.305400371551514\n"
     ]
    },
    {
     "name": "stderr",
     "output_type": "stream",
     "text": [
      "  8%|▊         | 8/100 [00:17<03:20,  2.18s/it]"
     ]
    },
    {
     "name": "stdout",
     "output_type": "stream",
     "text": [
      "iteration: 500; loss = 7.421998023986816\n",
      "iteration: 0; loss = 8.350349426269531\n",
      "iteration: 100; loss = 8.64661979675293\n",
      "iteration: 200; loss = 7.884604454040527\n",
      "iteration: 300; loss = 5.264969825744629\n",
      "iteration: 400; loss = 6.276812553405762\n"
     ]
    },
    {
     "name": "stderr",
     "output_type": "stream",
     "text": [
      "  9%|▉         | 9/100 [00:19<03:18,  2.18s/it]"
     ]
    },
    {
     "name": "stdout",
     "output_type": "stream",
     "text": [
      "iteration: 500; loss = 6.621750831604004\n",
      "iteration: 0; loss = 7.436712741851807\n",
      "iteration: 100; loss = 7.157182693481445\n",
      "iteration: 200; loss = 8.039262771606445\n",
      "iteration: 300; loss = 4.064287185668945\n",
      "iteration: 400; loss = 6.218685150146484\n"
     ]
    },
    {
     "name": "stderr",
     "output_type": "stream",
     "text": [
      " 10%|█         | 10/100 [00:21<03:15,  2.17s/it]"
     ]
    },
    {
     "name": "stdout",
     "output_type": "stream",
     "text": [
      "iteration: 500; loss = 5.112462043762207\n",
      "iteration: 0; loss = 5.739530563354492\n",
      "iteration: 100; loss = 5.103909969329834\n",
      "iteration: 200; loss = 7.938422203063965\n",
      "iteration: 300; loss = 2.8777542114257812\n",
      "iteration: 400; loss = 6.356319427490234\n"
     ]
    },
    {
     "name": "stderr",
     "output_type": "stream",
     "text": [
      " 11%|█         | 11/100 [00:23<03:13,  2.18s/it]"
     ]
    },
    {
     "name": "stdout",
     "output_type": "stream",
     "text": [
      "iteration: 500; loss = 3.470053195953369\n",
      "iteration: 0; loss = 3.81467604637146\n",
      "iteration: 100; loss = 3.476485252380371\n",
      "iteration: 200; loss = 7.836202621459961\n",
      "iteration: 300; loss = 1.9684264659881592\n",
      "iteration: 400; loss = 6.287155628204346\n"
     ]
    },
    {
     "name": "stderr",
     "output_type": "stream",
     "text": [
      " 12%|█▏        | 12/100 [00:26<03:13,  2.20s/it]"
     ]
    },
    {
     "name": "stdout",
     "output_type": "stream",
     "text": [
      "iteration: 500; loss = 2.7794857025146484\n",
      "iteration: 0; loss = 2.976999282836914\n",
      "iteration: 100; loss = 2.4467835426330566\n",
      "iteration: 200; loss = 7.701805114746094\n",
      "iteration: 300; loss = 1.511405348777771\n",
      "iteration: 400; loss = 6.068869113922119\n"
     ]
    },
    {
     "name": "stderr",
     "output_type": "stream",
     "text": [
      " 13%|█▎        | 13/100 [00:28<03:11,  2.20s/it]"
     ]
    },
    {
     "name": "stdout",
     "output_type": "stream",
     "text": [
      "iteration: 500; loss = 2.173912286758423\n",
      "iteration: 0; loss = 2.280041217803955\n",
      "iteration: 100; loss = 2.068937301635742\n",
      "iteration: 200; loss = 7.574592590332031\n",
      "iteration: 300; loss = 1.2386897802352905\n",
      "iteration: 400; loss = 5.9718732833862305\n"
     ]
    },
    {
     "name": "stderr",
     "output_type": "stream",
     "text": [
      " 14%|█▍        | 14/100 [00:30<03:09,  2.20s/it]"
     ]
    },
    {
     "name": "stdout",
     "output_type": "stream",
     "text": [
      "iteration: 500; loss = 2.078094959259033\n",
      "iteration: 0; loss = 2.1419665813446045\n",
      "iteration: 100; loss = 1.874377965927124\n",
      "iteration: 200; loss = 7.661510944366455\n",
      "iteration: 300; loss = 1.3182251453399658\n",
      "iteration: 400; loss = 6.087156295776367\n"
     ]
    },
    {
     "name": "stderr",
     "output_type": "stream",
     "text": [
      " 15%|█▌        | 15/100 [00:32<03:06,  2.19s/it]"
     ]
    },
    {
     "name": "stdout",
     "output_type": "stream",
     "text": [
      "iteration: 500; loss = 2.3360061645507812\n",
      "iteration: 0; loss = 2.390929698944092\n",
      "iteration: 100; loss = 1.74078369140625\n",
      "iteration: 200; loss = 7.90366268157959\n",
      "iteration: 300; loss = 1.2211347818374634\n",
      "iteration: 400; loss = 6.250230312347412\n"
     ]
    },
    {
     "name": "stderr",
     "output_type": "stream",
     "text": [
      " 16%|█▌        | 16/100 [00:34<03:02,  2.17s/it]"
     ]
    },
    {
     "name": "stdout",
     "output_type": "stream",
     "text": [
      "iteration: 500; loss = 1.968357801437378\n",
      "iteration: 0; loss = 2.00325870513916\n",
      "iteration: 100; loss = 1.6264803409576416\n",
      "iteration: 200; loss = 7.707530975341797\n",
      "iteration: 300; loss = 1.2155730724334717\n",
      "iteration: 400; loss = 6.507170677185059\n"
     ]
    },
    {
     "name": "stderr",
     "output_type": "stream",
     "text": [
      " 17%|█▋        | 17/100 [00:37<03:01,  2.19s/it]"
     ]
    },
    {
     "name": "stdout",
     "output_type": "stream",
     "text": [
      "iteration: 500; loss = 2.2115156650543213\n",
      "iteration: 0; loss = 2.245647668838501\n",
      "iteration: 100; loss = 1.6110703945159912\n",
      "iteration: 200; loss = 7.751492500305176\n",
      "iteration: 300; loss = 1.137721300125122\n",
      "iteration: 400; loss = 6.23148250579834\n"
     ]
    },
    {
     "name": "stderr",
     "output_type": "stream",
     "text": [
      " 18%|█▊        | 18/100 [00:39<03:00,  2.20s/it]"
     ]
    },
    {
     "name": "stdout",
     "output_type": "stream",
     "text": [
      "iteration: 500; loss = 2.1680097579956055\n",
      "iteration: 0; loss = 2.192265748977661\n",
      "iteration: 100; loss = 1.5097343921661377\n",
      "iteration: 200; loss = 7.790816783905029\n",
      "iteration: 300; loss = 1.156538486480713\n",
      "iteration: 400; loss = 6.023856163024902\n"
     ]
    },
    {
     "name": "stderr",
     "output_type": "stream",
     "text": [
      " 19%|█▉        | 19/100 [00:41<02:57,  2.19s/it]"
     ]
    },
    {
     "name": "stdout",
     "output_type": "stream",
     "text": [
      "iteration: 500; loss = 1.937652349472046\n",
      "iteration: 0; loss = 1.9562559127807617\n",
      "iteration: 100; loss = 1.5520813465118408\n",
      "iteration: 200; loss = 7.787765026092529\n",
      "iteration: 300; loss = 1.036571979522705\n",
      "iteration: 400; loss = 6.389894485473633\n"
     ]
    },
    {
     "name": "stderr",
     "output_type": "stream",
     "text": [
      " 20%|██        | 20/100 [00:43<02:55,  2.19s/it]"
     ]
    },
    {
     "name": "stdout",
     "output_type": "stream",
     "text": [
      "iteration: 500; loss = 2.066721200942993\n",
      "iteration: 0; loss = 2.084704875946045\n",
      "iteration: 100; loss = 1.4634582996368408\n",
      "iteration: 200; loss = 8.062045097351074\n",
      "iteration: 300; loss = 1.2401000261306763\n",
      "iteration: 400; loss = 6.627157211303711\n"
     ]
    },
    {
     "name": "stderr",
     "output_type": "stream",
     "text": [
      " 21%|██        | 21/100 [00:45<02:52,  2.18s/it]"
     ]
    },
    {
     "name": "stdout",
     "output_type": "stream",
     "text": [
      "iteration: 500; loss = 1.9854164123535156\n",
      "iteration: 0; loss = 2.008690118789673\n",
      "iteration: 100; loss = 1.3510832786560059\n",
      "iteration: 200; loss = 8.117444038391113\n",
      "iteration: 300; loss = 1.150022029876709\n",
      "iteration: 400; loss = 6.21605110168457\n"
     ]
    },
    {
     "name": "stderr",
     "output_type": "stream",
     "text": [
      " 22%|██▏       | 22/100 [00:47<02:50,  2.19s/it]"
     ]
    },
    {
     "name": "stdout",
     "output_type": "stream",
     "text": [
      "iteration: 500; loss = 1.9478216171264648\n",
      "iteration: 0; loss = 1.936093807220459\n",
      "iteration: 100; loss = 1.3057258129119873\n",
      "iteration: 200; loss = 8.459281921386719\n",
      "iteration: 300; loss = 0.9973969459533691\n",
      "iteration: 400; loss = 6.002358436584473\n"
     ]
    },
    {
     "name": "stderr",
     "output_type": "stream",
     "text": [
      " 23%|██▎       | 23/100 [00:50<02:48,  2.18s/it]"
     ]
    },
    {
     "name": "stdout",
     "output_type": "stream",
     "text": [
      "iteration: 500; loss = 2.158632755279541\n",
      "iteration: 0; loss = 2.215073823928833\n",
      "iteration: 100; loss = 1.20076584815979\n",
      "iteration: 200; loss = 8.7433500289917\n",
      "iteration: 300; loss = 0.8980568647384644\n",
      "iteration: 400; loss = 5.4437408447265625\n"
     ]
    },
    {
     "name": "stderr",
     "output_type": "stream",
     "text": [
      " 24%|██▍       | 24/100 [00:52<02:46,  2.19s/it]"
     ]
    },
    {
     "name": "stdout",
     "output_type": "stream",
     "text": [
      "iteration: 500; loss = 2.135741949081421\n",
      "iteration: 0; loss = 2.094743013381958\n",
      "iteration: 100; loss = 1.1810176372528076\n",
      "iteration: 200; loss = 8.38262939453125\n",
      "iteration: 300; loss = 1.2701270580291748\n",
      "iteration: 400; loss = 4.808590412139893\n"
     ]
    },
    {
     "name": "stderr",
     "output_type": "stream",
     "text": [
      " 25%|██▌       | 25/100 [00:54<02:45,  2.20s/it]"
     ]
    },
    {
     "name": "stdout",
     "output_type": "stream",
     "text": [
      "iteration: 500; loss = 2.222769260406494\n",
      "iteration: 0; loss = 2.202582359313965\n",
      "iteration: 100; loss = 1.1632530689239502\n",
      "iteration: 200; loss = 8.519831657409668\n",
      "iteration: 300; loss = 1.416170597076416\n",
      "iteration: 400; loss = 5.1512274742126465\n"
     ]
    },
    {
     "name": "stderr",
     "output_type": "stream",
     "text": [
      " 26%|██▌       | 26/100 [00:56<02:43,  2.21s/it]"
     ]
    },
    {
     "name": "stdout",
     "output_type": "stream",
     "text": [
      "iteration: 500; loss = 2.0890817642211914\n",
      "iteration: 0; loss = 2.034370183944702\n",
      "iteration: 100; loss = 1.1566789150238037\n",
      "iteration: 200; loss = 9.094696044921875\n",
      "iteration: 300; loss = 0.9068517684936523\n",
      "iteration: 400; loss = 5.672717094421387\n"
     ]
    },
    {
     "name": "stderr",
     "output_type": "stream",
     "text": [
      " 27%|██▋       | 27/100 [00:58<02:40,  2.20s/it]"
     ]
    },
    {
     "name": "stdout",
     "output_type": "stream",
     "text": [
      "iteration: 500; loss = 2.1098058223724365\n",
      "iteration: 0; loss = 2.0524349212646484\n",
      "iteration: 100; loss = 1.1371124982833862\n",
      "iteration: 200; loss = 9.038568496704102\n",
      "iteration: 300; loss = 0.7593222856521606\n",
      "iteration: 400; loss = 4.681394577026367\n"
     ]
    },
    {
     "name": "stderr",
     "output_type": "stream",
     "text": [
      " 28%|██▊       | 28/100 [01:01<02:38,  2.20s/it]"
     ]
    },
    {
     "name": "stdout",
     "output_type": "stream",
     "text": [
      "iteration: 500; loss = 1.5369555950164795\n",
      "iteration: 0; loss = 1.463232159614563\n",
      "iteration: 100; loss = 1.269476294517517\n",
      "iteration: 200; loss = 9.500162124633789\n",
      "iteration: 300; loss = 0.884758472442627\n",
      "iteration: 400; loss = 4.675144195556641\n"
     ]
    },
    {
     "name": "stderr",
     "output_type": "stream",
     "text": [
      " 29%|██▉       | 29/100 [01:03<02:36,  2.20s/it]"
     ]
    },
    {
     "name": "stdout",
     "output_type": "stream",
     "text": [
      "iteration: 500; loss = 1.619052767753601\n",
      "iteration: 0; loss = 1.5065772533416748\n",
      "iteration: 100; loss = 1.1818861961364746\n",
      "iteration: 200; loss = 8.999977111816406\n",
      "iteration: 300; loss = 0.7212434411048889\n",
      "iteration: 400; loss = 5.803919792175293\n"
     ]
    },
    {
     "name": "stderr",
     "output_type": "stream",
     "text": [
      " 30%|███       | 30/100 [01:05<02:33,  2.20s/it]"
     ]
    },
    {
     "name": "stdout",
     "output_type": "stream",
     "text": [
      "iteration: 500; loss = 1.55571448802948\n",
      "iteration: 0; loss = 1.4525847434997559\n",
      "iteration: 100; loss = 1.2500709295272827\n",
      "iteration: 200; loss = 9.362701416015625\n",
      "iteration: 300; loss = 0.787432074546814\n",
      "iteration: 400; loss = 4.577017307281494\n"
     ]
    },
    {
     "name": "stderr",
     "output_type": "stream",
     "text": [
      " 31%|███       | 31/100 [01:07<02:29,  2.17s/it]"
     ]
    },
    {
     "name": "stdout",
     "output_type": "stream",
     "text": [
      "iteration: 500; loss = 1.4769532680511475\n",
      "iteration: 0; loss = 1.3258411884307861\n",
      "iteration: 100; loss = 1.2902731895446777\n"
     ]
    },
    {
     "name": "stderr",
     "output_type": "stream",
     "text": [
      " 31%|███       | 31/100 [01:08<02:32,  2.21s/it]"
     ]
    },
    {
     "name": "stdout",
     "output_type": "stream",
     "text": [
      "iteration: 200; loss = 9.56175422668457\n"
     ]
    },
    {
     "name": "stderr",
     "output_type": "stream",
     "text": [
      "\n"
     ]
    },
    {
     "ename": "KeyboardInterrupt",
     "evalue": "",
     "output_type": "error",
     "traceback": [
      "\u001b[0;31m---------------------------------------------------------------------------\u001b[0m",
      "\u001b[0;31mKeyboardInterrupt\u001b[0m                         Traceback (most recent call last)",
      "\u001b[1;32m/home/xuechenhao/gnn4noc/train.ipynb Cell 3'\u001b[0m in \u001b[0;36m<cell line: 9>\u001b[0;34m()\u001b[0m\n\u001b[1;32m      <a href='vscode-notebook-cell://ssh-remote%2B5950/home/xuechenhao/gnn4noc/train.ipynb#ch0000002vscode-remote?line=7'>8</a>\u001b[0m epoches \u001b[39m=\u001b[39m \u001b[39m100\u001b[39m\n\u001b[1;32m      <a href='vscode-notebook-cell://ssh-remote%2B5950/home/xuechenhao/gnn4noc/train.ipynb#ch0000002vscode-remote?line=8'>9</a>\u001b[0m \u001b[39mfor\u001b[39;00m e \u001b[39min\u001b[39;00m tqdm(\u001b[39mrange\u001b[39m(epoches)):\n\u001b[0;32m---> <a href='vscode-notebook-cell://ssh-remote%2B5950/home/xuechenhao/gnn4noc/train.ipynb#ch0000002vscode-remote?line=9'>10</a>\u001b[0m     \u001b[39mfor\u001b[39;00m i, data \u001b[39min\u001b[39;00m \u001b[39menumerate\u001b[39m(dataset):\n\u001b[1;32m     <a href='vscode-notebook-cell://ssh-remote%2B5950/home/xuechenhao/gnn4noc/train.ipynb#ch0000002vscode-remote?line=10'>11</a>\u001b[0m         \u001b[39mif\u001b[39;00m i \u001b[39m>\u001b[39m num_training:\n\u001b[1;32m     <a href='vscode-notebook-cell://ssh-remote%2B5950/home/xuechenhao/gnn4noc/train.ipynb#ch0000002vscode-remote?line=11'>12</a>\u001b[0m             \u001b[39mbreak\u001b[39;00m\n",
      "File \u001b[0;32m~/gnn4noc/dataset/dataset.py:26\u001b[0m, in \u001b[0;36mNoCDataset.__getitem__\u001b[0;34m(self, i)\u001b[0m\n\u001b[1;32m     <a href='file:///~/gnn4noc/dataset/dataset.py?line=23'>24</a>\u001b[0m sample_path \u001b[39m=\u001b[39m os\u001b[39m.\u001b[39mpath\u001b[39m.\u001b[39mjoin(\u001b[39mself\u001b[39m\u001b[39m.\u001b[39mdata_root, \u001b[39mself\u001b[39m\u001b[39m.\u001b[39msamples[i])\n\u001b[1;32m     <a href='file:///~/gnn4noc/dataset/dataset.py?line=24'>25</a>\u001b[0m \u001b[39mwith\u001b[39;00m \u001b[39mopen\u001b[39m(sample_path, \u001b[39m\"\u001b[39m\u001b[39mrb\u001b[39m\u001b[39m\"\u001b[39m) \u001b[39mas\u001b[39;00m f:\n\u001b[0;32m---> <a href='file:///~/gnn4noc/dataset/dataset.py?line=25'>26</a>\u001b[0m     graph, congestion \u001b[39m=\u001b[39m pkl\u001b[39m.\u001b[39;49mload(f)\n\u001b[1;32m     <a href='file:///~/gnn4noc/dataset/dataset.py?line=27'>28</a>\u001b[0m \u001b[39mreturn\u001b[39;00m graph, congestion\n",
      "File \u001b[0;32m~/anaconda3/envs/py38/lib/python3.8/site-packages/torch/storage.py:222\u001b[0m, in \u001b[0;36m_load_from_bytes\u001b[0;34m(b)\u001b[0m\n\u001b[1;32m    <a href='file:///~/anaconda3/envs/py38/lib/python3.8/site-packages/torch/storage.py?line=220'>221</a>\u001b[0m \u001b[39mdef\u001b[39;00m \u001b[39m_load_from_bytes\u001b[39m(b):\n\u001b[0;32m--> <a href='file:///~/anaconda3/envs/py38/lib/python3.8/site-packages/torch/storage.py?line=221'>222</a>\u001b[0m     \u001b[39mreturn\u001b[39;00m torch\u001b[39m.\u001b[39;49mload(io\u001b[39m.\u001b[39;49mBytesIO(b))\n",
      "File \u001b[0;32m~/anaconda3/envs/py38/lib/python3.8/site-packages/torch/serialization.py:713\u001b[0m, in \u001b[0;36mload\u001b[0;34m(f, map_location, pickle_module, **pickle_load_args)\u001b[0m\n\u001b[1;32m    <a href='file:///~/anaconda3/envs/py38/lib/python3.8/site-packages/torch/serialization.py?line=710'>711</a>\u001b[0m             \u001b[39mreturn\u001b[39;00m torch\u001b[39m.\u001b[39mjit\u001b[39m.\u001b[39mload(opened_file)\n\u001b[1;32m    <a href='file:///~/anaconda3/envs/py38/lib/python3.8/site-packages/torch/serialization.py?line=711'>712</a>\u001b[0m         \u001b[39mreturn\u001b[39;00m _load(opened_zipfile, map_location, pickle_module, \u001b[39m*\u001b[39m\u001b[39m*\u001b[39mpickle_load_args)\n\u001b[0;32m--> <a href='file:///~/anaconda3/envs/py38/lib/python3.8/site-packages/torch/serialization.py?line=712'>713</a>\u001b[0m \u001b[39mreturn\u001b[39;00m _legacy_load(opened_file, map_location, pickle_module, \u001b[39m*\u001b[39;49m\u001b[39m*\u001b[39;49mpickle_load_args)\n",
      "File \u001b[0;32m~/anaconda3/envs/py38/lib/python3.8/site-packages/torch/serialization.py:930\u001b[0m, in \u001b[0;36m_legacy_load\u001b[0;34m(f, map_location, pickle_module, **pickle_load_args)\u001b[0m\n\u001b[1;32m    <a href='file:///~/anaconda3/envs/py38/lib/python3.8/site-packages/torch/serialization.py?line=927'>928</a>\u001b[0m unpickler \u001b[39m=\u001b[39m UnpicklerWrapper(f, \u001b[39m*\u001b[39m\u001b[39m*\u001b[39mpickle_load_args)\n\u001b[1;32m    <a href='file:///~/anaconda3/envs/py38/lib/python3.8/site-packages/torch/serialization.py?line=928'>929</a>\u001b[0m unpickler\u001b[39m.\u001b[39mpersistent_load \u001b[39m=\u001b[39m persistent_load\n\u001b[0;32m--> <a href='file:///~/anaconda3/envs/py38/lib/python3.8/site-packages/torch/serialization.py?line=929'>930</a>\u001b[0m result \u001b[39m=\u001b[39m unpickler\u001b[39m.\u001b[39;49mload()\n\u001b[1;32m    <a href='file:///~/anaconda3/envs/py38/lib/python3.8/site-packages/torch/serialization.py?line=931'>932</a>\u001b[0m deserialized_storage_keys \u001b[39m=\u001b[39m pickle_module\u001b[39m.\u001b[39mload(f, \u001b[39m*\u001b[39m\u001b[39m*\u001b[39mpickle_load_args)\n\u001b[1;32m    <a href='file:///~/anaconda3/envs/py38/lib/python3.8/site-packages/torch/serialization.py?line=933'>934</a>\u001b[0m offset \u001b[39m=\u001b[39m f\u001b[39m.\u001b[39mtell() \u001b[39mif\u001b[39;00m f_should_read_directly \u001b[39melse\u001b[39;00m \u001b[39mNone\u001b[39;00m\n",
      "File \u001b[0;32m~/anaconda3/envs/py38/lib/python3.8/site-packages/torch/serialization.py:858\u001b[0m, in \u001b[0;36m_legacy_load.<locals>.persistent_load\u001b[0;34m(saved_id)\u001b[0m\n\u001b[1;32m    <a href='file:///~/anaconda3/envs/py38/lib/python3.8/site-packages/torch/serialization.py?line=854'>855</a>\u001b[0m typename \u001b[39m=\u001b[39m _maybe_decode_ascii(saved_id[\u001b[39m0\u001b[39m])\n\u001b[1;32m    <a href='file:///~/anaconda3/envs/py38/lib/python3.8/site-packages/torch/serialization.py?line=855'>856</a>\u001b[0m data \u001b[39m=\u001b[39m saved_id[\u001b[39m1\u001b[39m:]\n\u001b[0;32m--> <a href='file:///~/anaconda3/envs/py38/lib/python3.8/site-packages/torch/serialization.py?line=857'>858</a>\u001b[0m \u001b[39mif\u001b[39;00m typename \u001b[39m==\u001b[39;49m \u001b[39m'\u001b[39;49m\u001b[39mmodule\u001b[39;49m\u001b[39m'\u001b[39;49m:\n\u001b[1;32m    <a href='file:///~/anaconda3/envs/py38/lib/python3.8/site-packages/torch/serialization.py?line=858'>859</a>\u001b[0m     \u001b[39m# Ignore containers that don't have any sources saved\u001b[39;00m\n\u001b[1;32m    <a href='file:///~/anaconda3/envs/py38/lib/python3.8/site-packages/torch/serialization.py?line=859'>860</a>\u001b[0m     \u001b[39mif\u001b[39;00m \u001b[39mall\u001b[39m(data[\u001b[39m1\u001b[39m:]):\n\u001b[1;32m    <a href='file:///~/anaconda3/envs/py38/lib/python3.8/site-packages/torch/serialization.py?line=860'>861</a>\u001b[0m         _check_container_source(\u001b[39m*\u001b[39mdata)\n",
      "\u001b[0;31mKeyboardInterrupt\u001b[0m: "
     ]
    }
   ],
   "source": [
    "device = \"cpu\"\n",
    "# device = \"cuda:0\"\n",
    "\n",
    "model = VanillaModel().to(device)\n",
    "optimizer = torch.optim.Adam(model.parameters(), lr=3e-4)\n",
    "losses = []\n",
    "\n",
    "epoches = 100\n",
    "for e in tqdm(range(epoches)):\n",
    "    for i, data in enumerate(dataset):\n",
    "        if i > num_training:\n",
    "            break\n",
    "\n",
    "        g, congestion = data\n",
    "        g = g.to(device)\n",
    "\n",
    "        pred = model(g)\n",
    "        loss = F.mse_loss(pred, torch.log(congestion+1))\n",
    "        optimizer.zero_grad()\n",
    "        loss.backward()\n",
    "        optimizer.step()\n",
    "\n",
    "        if i % 100 == 0:\n",
    "            print(f\"iteration: {i}; loss = {loss}\")\n",
    "            losses.append(loss.item())\n",
    "            # print(f\"pred = {pred}\")\n",
    "            # print(f\"congestion = {congestion}\")\n",
    "            \n",
    "plt.ylim(0, 20)\n",
    "plt.plot(losses)\n"
   ]
  },
  {
   "cell_type": "code",
   "execution_count": 4,
   "metadata": {},
   "outputs": [
    {
     "name": "stdout",
     "output_type": "stream",
     "text": [
      "iteration: 504; loss = 2.2492332458496094\n",
      "pred = [224.05904 233.71704]\n",
      "congestion = [1118.0714  939.2857]\n",
      "iteration: 505; loss = 4.427812099456787\n",
      "pred = [10.185406   4.6935515]\n",
      "congestion = [0. 0.]\n",
      "iteration: 506; loss = 3.8778021335601807\n",
      "pred = [112.22044 120.26068]\n",
      "congestion = [838.12085 838.4623 ]\n",
      "iteration: 507; loss = 10.677654266357422\n",
      "pred = [ 0.35073853 -0.4048471 ]\n",
      "congestion = [132.3   0. ]\n",
      "iteration: 508; loss = 24.919662475585938\n",
      "pred = [149.622   164.65103]\n",
      "congestion = [0.15441176 0.        ]\n",
      "iteration: 509; loss = 16.004436492919922\n",
      "pred = [222.99495 123.44561]\n",
      "congestion = [4305.2856    0.    ]\n",
      "iteration: 510; loss = 11.50244426727295\n",
      "pred = [40.69868  19.383211]\n",
      "congestion = [0. 0.]\n",
      "iteration: 511; loss = 6.040027618408203\n",
      "pred = [9.872671 4.655108]\n",
      "congestion = [88.588036 88.588036]\n",
      "iteration: 512; loss = 2.320106029510498\n",
      "pred = [51.274147 53.530777]\n",
      "congestion = [247.46443 240.16798]\n",
      "iteration: 513; loss = 4.5643157958984375\n",
      "pred = [8.413722 6.577396]\n",
      "congestion = [0. 0.]\n",
      "iteration: 514; loss = 0.6411414742469788\n",
      "pred = [1.4880168 0.9579929]\n",
      "congestion = [0. 0.]\n",
      "iteration: 515; loss = 2.166912078857422\n",
      "pred = [222.95853 231.44656]\n",
      "congestion = [1080.      906.7143]\n",
      "iteration: 516; loss = 0.9690985083580017\n",
      "pred = [0.7553024 0.0654465]\n",
      "congestion = [4.0753503 1.6218487]\n",
      "iteration: 517; loss = 5.719492435455322\n",
      "pred = [276.5101  210.65833]\n",
      "congestion = [2727.8455 2559.1091]\n",
      "iteration: 518; loss = 13.260787010192871\n",
      "pred = [62.31947 58.49962]\n",
      "congestion = [0.     1.8125]\n",
      "iteration: 519; loss = 11.419563293457031\n",
      "pred = [40.210773 19.120367]\n",
      "congestion = [0. 0.]\n",
      "iteration: 520; loss = 1.423316478729248\n",
      "pred = [111.283226  92.49786 ]\n",
      "congestion = [341.83307 330.33224]\n",
      "iteration: 521; loss = 1.690016508102417\n",
      "pred = [246.22862 281.7809 ]\n",
      "congestion = [1048.6072  879.2857]\n",
      "iteration: 522; loss = 10.60763931274414\n",
      "pred = [34.63738  22.900877]\n",
      "congestion = [0.         0.30694547]\n",
      "iteration: 523; loss = 1.2599246501922607\n",
      "pred = [1.9829769 2.162136 ]\n",
      "congestion = [0. 0.]\n",
      "iteration: 524; loss = 0.5340701341629028\n",
      "pred = [2.9968712 1.7898269]\n",
      "congestion = [0.42727274 1.5545454 ]\n",
      "iteration: 525; loss = 0.16640809178352356\n",
      "pred = [4.7773094 5.202915 ]\n",
      "congestion = [2.7 3.3]\n",
      "iteration: 526; loss = 13.321036338806152\n",
      "pred = [62.74529  59.134018]\n",
      "congestion = [0.     1.8125]\n",
      "iteration: 527; loss = 1.8554519414901733\n",
      "pred = [2.7916205 3.0184112]\n",
      "congestion = [0. 0.]\n",
      "iteration: 528; loss = 2.0473995208740234\n",
      "pred = [226.61057 239.02324]\n",
      "congestion = [1059.9642  891.7143]\n",
      "iteration: 529; loss = 1.752913236618042\n",
      "pred = [35.270874 24.01935 ]\n",
      "congestion = [109.66493 111.55919]\n",
      "iteration: 530; loss = 2.0482778549194336\n",
      "pred = [4.790739 4.469473]\n",
      "congestion = [0. 1.]\n",
      "iteration: 531; loss = 20.862003326416016\n",
      "pred = [149.50893 162.05579]\n",
      "congestion = [0.33088234 1.        ]\n",
      "iteration: 532; loss = 24.842849731445312\n",
      "pred = [148.73096 163.10318]\n",
      "congestion = [0.15441176 0.        ]\n",
      "iteration: 533; loss = 4.000125885009766\n",
      "pred = [ 91.342865 105.88932 ]\n",
      "congestion = [772.0927 690.3414]\n",
      "iteration: 534; loss = 5.004028797149658\n",
      "pred = [9.592251  4.4237866]\n",
      "congestion = [73.  64.8]\n",
      "iteration: 535; loss = 1.5684590339660645\n",
      "pred = [111.320984  94.10388 ]\n",
      "congestion = [366.26532 353.79355]\n",
      "iteration: 536; loss = 1.54667067527771\n",
      "pred = [2.2936246 2.6446247]\n",
      "congestion = [0. 0.]\n",
      "iteration: 537; loss = 0.6679535508155823\n",
      "pred = [2.617183  1.1618576]\n",
      "congestion = [7.557505 0.      ]\n",
      "iteration: 538; loss = 2.7742576599121094\n",
      "pred = [12.278647   5.4471383]\n",
      "congestion = [2.1441422 0.       ]\n",
      "iteration: 539; loss = 6.777205467224121\n",
      "pred = [23.33227  19.077623]\n",
      "congestion = [0.        2.2050292]\n",
      "iteration: 540; loss = 1.2317750453948975\n",
      "pred = [1.9804304 2.0874913]\n",
      "congestion = [0. 0.]\n",
      "iteration: 541; loss = 13.833520889282227\n",
      "pred = [37.859306 42.72006 ]\n",
      "congestion = [0. 0.]\n",
      "iteration: 542; loss = 25.10995864868164\n",
      "pred = [154.5088  165.76447]\n",
      "congestion = [0.15441176 0.        ]\n",
      "iteration: 543; loss = 2.0133860111236572\n",
      "pred = [3.080864  3.1847897]\n",
      "congestion = [0. 0.]\n",
      "iteration: 544; loss = 0.3952588438987732\n",
      "pred = [1.1602995 0.5591086]\n",
      "congestion = [0. 0.]\n",
      "iteration: 545; loss = 0.127041295170784\n",
      "pred = [ 0.4130392  -0.30705386]\n",
      "congestion = [0. 0.]\n",
      "iteration: 546; loss = 9.613130569458008\n",
      "pred = [2.2397826 2.6727555]\n",
      "congestion = [212.33105   0.     ]\n",
      "iteration: 547; loss = 0.07462482154369354\n",
      "pred = [1.4122348  0.26934087]\n",
      "congestion = [2.2689717 0.       ]\n",
      "iteration: 548; loss = 1.962245225906372\n",
      "pred = [233.77805 254.24185]\n",
      "congestion = [1076.3572  904.3571]\n",
      "iteration: 549; loss = 1.5100765228271484\n",
      "pred = [110.87812  90.50993]\n",
      "congestion = [349.9746  337.75162]\n",
      "iteration: 550; loss = 20.902565002441406\n",
      "pred = [150.03172 162.95285]\n",
      "congestion = [0.33088234 1.        ]\n",
      "iteration: 551; loss = 6.642717361450195\n",
      "pred = [11.760087 12.571919]\n",
      "congestion = [0. 0.]\n",
      "iteration: 552; loss = 1.7391483783721924\n",
      "pred = [8.675245  4.2107906]\n",
      "congestion = [3.0616724 0.       ]\n",
      "iteration: 553; loss = 1.9512015581130981\n",
      "pred = [233.77805 254.24185]\n",
      "congestion = [1073.2142  899.6429]\n",
      "iteration: 554; loss = 4.581844806671143\n",
      "pred = [29.759407 17.753529]\n",
      "congestion = [64.47288  0.     ]\n",
      "iteration: 555; loss = 6.3910112380981445\n",
      "pred = [16.91727   15.5054035]\n",
      "congestion = [0. 1.]\n",
      "iteration: 556; loss = 1.3725152015686035\n",
      "pred = [111.32104  94.10388]\n",
      "congestion = [338.09033 325.86935]\n",
      "iteration: 557; loss = 0.6853066682815552\n",
      "pred = [1.9017551  0.62499666]\n",
      "congestion = [0. 0.]\n",
      "iteration: 558; loss = 1.8159364461898804\n",
      "pred = [110.21692   89.037735]\n",
      "congestion = [390.      376.07742]\n",
      "******************************\n",
      "average mae loss: 242.8072509765625\n"
     ]
    }
   ],
   "source": [
    "# test accuracy\n",
    "# we use relative error to measure\n",
    "\n",
    "mae_losses = []\n",
    "\n",
    "for i, data in enumerate(dataset):\n",
    "    if i <= num_training:\n",
    "        continue\n",
    "\n",
    "    g, congestion = data\n",
    "    g = g.to(device)\n",
    "\n",
    "    pred = model(g)\n",
    "    loss = F.mse_loss(pred, torch.log(congestion+1))\n",
    "    pred_congestion = torch.exp(pred) - 1\n",
    "\n",
    "    print(f\"iteration: {i}; loss = {loss.item()}\")\n",
    "    print(f\"pred = {pred_congestion.detach().numpy()}\")\n",
    "    print(f\"congestion = {congestion.numpy()}\")\n",
    "\n",
    "    mae_losses.append(F.l1_loss(pred_congestion, congestion))\n",
    "\n",
    "print(\"*\" * 30)\n",
    "mae_losses = torch.stack(mae_losses).mean()\n",
    "print(f\"average mae loss: {mae_losses}\")\n",
    "\n"
   ]
  },
  {
   "cell_type": "code",
   "execution_count": null,
   "metadata": {},
   "outputs": [],
   "source": []
  }
 ],
 "metadata": {
  "interpreter": {
   "hash": "96bcc5b7e4704e2a96f47d0e0ab54a35b61edd90a78c04f0a0f415e769481874"
  },
  "kernelspec": {
   "display_name": "Python 3.9.12 ('gnn')",
   "language": "python",
   "name": "python3"
  },
  "language_info": {
   "codemirror_mode": {
    "name": "ipython",
    "version": 3
   },
   "file_extension": ".py",
   "mimetype": "text/x-python",
   "name": "python",
   "nbconvert_exporter": "python",
   "pygments_lexer": "ipython3",
   "version": "3.9.12"
  },
  "orig_nbformat": 4
 },
 "nbformat": 4,
 "nbformat_minor": 2
}
