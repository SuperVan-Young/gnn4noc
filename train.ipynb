{
 "cells": [
  {
   "cell_type": "code",
   "execution_count": 1,
   "metadata": {},
   "outputs": [],
   "source": [
    "import os\n",
    "import torch\n",
    "import torch.nn as nn\n",
    "import torch.nn.functional as F\n",
    "import matplotlib.pyplot as plt\n",
    "from tqdm import tqdm\n",
    "\n",
    "from dataset.dataset import NoCDataset\n",
    "from model.vanilla import VanillaModel\n"
   ]
  },
  {
   "cell_type": "code",
   "execution_count": 2,
   "metadata": {},
   "outputs": [
    {
     "name": "stdout",
     "output_type": "stream",
     "text": [
      "#Samples = 2023\n"
     ]
    }
   ],
   "source": [
    "from dgl.dataloading import GraphDataLoader\n",
    "from torch.utils.data.sampler import SubsetRandomSampler\n",
    "\n",
    "dataset = NoCDataset()\n",
    "print(f\"#Samples = {len(dataset)}\")\n",
    "\n",
    "num_examples = len(dataset)\n",
    "num_train = int(num_examples * 0.9)\n",
    "\n",
    "train_sampler = SubsetRandomSampler(torch.arange(num_train))\n",
    "test_sampler = SubsetRandomSampler(torch.arange(num_train, num_examples))\n",
    "\n",
    "train_dataloader = GraphDataLoader(\n",
    "    dataset, sampler=train_sampler, batch_size=1, drop_last=False)\n",
    "test_dataloader = GraphDataLoader(\n",
    "    dataset, sampler=test_sampler, batch_size=1, drop_last=False)\n"
   ]
  },
  {
   "cell_type": "code",
   "execution_count": 3,
   "metadata": {},
   "outputs": [
    {
     "name": "stdout",
     "output_type": "stream",
     "text": [
      "############################################################\n",
      "epoch = 0\n",
      "############################################################\n"
     ]
    },
    {
     "name": "stderr",
     "output_type": "stream",
     "text": [
      "100%|██████████| 1820/1820 [00:08<00:00, 202.74it/s, loss=1.69]  \n"
     ]
    },
    {
     "name": "stdout",
     "output_type": "stream",
     "text": [
      "############################################################\n",
      "epoch = 1\n",
      "############################################################\n"
     ]
    },
    {
     "name": "stderr",
     "output_type": "stream",
     "text": [
      "100%|██████████| 1820/1820 [00:09<00:00, 202.19it/s, loss=2.06]  \n"
     ]
    },
    {
     "name": "stdout",
     "output_type": "stream",
     "text": [
      "############################################################\n",
      "epoch = 2\n",
      "############################################################\n"
     ]
    },
    {
     "name": "stderr",
     "output_type": "stream",
     "text": [
      "100%|██████████| 1820/1820 [00:08<00:00, 205.46it/s, loss=1.77]   \n"
     ]
    },
    {
     "name": "stdout",
     "output_type": "stream",
     "text": [
      "############################################################\n",
      "epoch = 3\n",
      "############################################################\n"
     ]
    },
    {
     "name": "stderr",
     "output_type": "stream",
     "text": [
      "100%|██████████| 1820/1820 [00:08<00:00, 203.42it/s, loss=0.727] \n"
     ]
    },
    {
     "name": "stdout",
     "output_type": "stream",
     "text": [
      "############################################################\n",
      "epoch = 4\n",
      "############################################################\n"
     ]
    },
    {
     "name": "stderr",
     "output_type": "stream",
     "text": [
      "100%|██████████| 1820/1820 [00:09<00:00, 199.39it/s, loss=0.0866] \n"
     ]
    },
    {
     "name": "stdout",
     "output_type": "stream",
     "text": [
      "############################################################\n",
      "epoch = 5\n",
      "############################################################\n"
     ]
    },
    {
     "name": "stderr",
     "output_type": "stream",
     "text": [
      "100%|██████████| 1820/1820 [00:09<00:00, 201.06it/s, loss=37.4]   \n"
     ]
    },
    {
     "name": "stdout",
     "output_type": "stream",
     "text": [
      "############################################################\n",
      "epoch = 6\n",
      "############################################################\n"
     ]
    },
    {
     "name": "stderr",
     "output_type": "stream",
     "text": [
      "100%|██████████| 1820/1820 [00:09<00:00, 198.41it/s, loss=2.22]   \n"
     ]
    },
    {
     "name": "stdout",
     "output_type": "stream",
     "text": [
      "############################################################\n",
      "epoch = 7\n",
      "############################################################\n"
     ]
    },
    {
     "name": "stderr",
     "output_type": "stream",
     "text": [
      "100%|██████████| 1820/1820 [00:08<00:00, 202.76it/s, loss=0.181]   \n"
     ]
    },
    {
     "name": "stdout",
     "output_type": "stream",
     "text": [
      "############################################################\n",
      "epoch = 8\n",
      "############################################################\n"
     ]
    },
    {
     "name": "stderr",
     "output_type": "stream",
     "text": [
      "100%|██████████| 1820/1820 [00:09<00:00, 197.96it/s, loss=0.0951] \n"
     ]
    },
    {
     "name": "stdout",
     "output_type": "stream",
     "text": [
      "############################################################\n",
      "epoch = 9\n",
      "############################################################\n"
     ]
    },
    {
     "name": "stderr",
     "output_type": "stream",
     "text": [
      "100%|██████████| 1820/1820 [00:09<00:00, 201.22it/s, loss=0.00533]\n"
     ]
    },
    {
     "name": "stdout",
     "output_type": "stream",
     "text": [
      "############################################################\n",
      "epoch = 10\n",
      "############################################################\n"
     ]
    },
    {
     "name": "stderr",
     "output_type": "stream",
     "text": [
      "100%|██████████| 1820/1820 [00:09<00:00, 200.60it/s, loss=1.68]    \n"
     ]
    },
    {
     "name": "stdout",
     "output_type": "stream",
     "text": [
      "############################################################\n",
      "epoch = 11\n",
      "############################################################\n"
     ]
    },
    {
     "name": "stderr",
     "output_type": "stream",
     "text": [
      "100%|██████████| 1820/1820 [00:09<00:00, 200.12it/s, loss=0.0374] \n"
     ]
    },
    {
     "name": "stdout",
     "output_type": "stream",
     "text": [
      "############################################################\n",
      "epoch = 12\n",
      "############################################################\n"
     ]
    },
    {
     "name": "stderr",
     "output_type": "stream",
     "text": [
      "100%|██████████| 1820/1820 [00:09<00:00, 200.16it/s, loss=0.132]  \n"
     ]
    },
    {
     "name": "stdout",
     "output_type": "stream",
     "text": [
      "############################################################\n",
      "epoch = 13\n",
      "############################################################\n"
     ]
    },
    {
     "name": "stderr",
     "output_type": "stream",
     "text": [
      "100%|██████████| 1820/1820 [00:09<00:00, 200.45it/s, loss=0.151]  \n"
     ]
    },
    {
     "name": "stdout",
     "output_type": "stream",
     "text": [
      "############################################################\n",
      "epoch = 14\n",
      "############################################################\n"
     ]
    },
    {
     "name": "stderr",
     "output_type": "stream",
     "text": [
      "100%|██████████| 1820/1820 [00:09<00:00, 199.00it/s, loss=0.0535]  \n"
     ]
    },
    {
     "name": "stdout",
     "output_type": "stream",
     "text": [
      "############################################################\n",
      "epoch = 15\n",
      "############################################################\n"
     ]
    },
    {
     "name": "stderr",
     "output_type": "stream",
     "text": [
      "100%|██████████| 1820/1820 [00:09<00:00, 199.22it/s, loss=0.553]  \n"
     ]
    },
    {
     "name": "stdout",
     "output_type": "stream",
     "text": [
      "############################################################\n",
      "epoch = 16\n",
      "############################################################\n"
     ]
    },
    {
     "name": "stderr",
     "output_type": "stream",
     "text": [
      "100%|██████████| 1820/1820 [00:09<00:00, 200.26it/s, loss=1.42]   \n"
     ]
    },
    {
     "name": "stdout",
     "output_type": "stream",
     "text": [
      "############################################################\n",
      "epoch = 17\n",
      "############################################################\n"
     ]
    },
    {
     "name": "stderr",
     "output_type": "stream",
     "text": [
      "100%|██████████| 1820/1820 [00:08<00:00, 202.28it/s, loss=0.393]  \n"
     ]
    },
    {
     "name": "stdout",
     "output_type": "stream",
     "text": [
      "############################################################\n",
      "epoch = 18\n",
      "############################################################\n"
     ]
    },
    {
     "name": "stderr",
     "output_type": "stream",
     "text": [
      "100%|██████████| 1820/1820 [00:09<00:00, 201.26it/s, loss=0.0029] \n"
     ]
    },
    {
     "name": "stdout",
     "output_type": "stream",
     "text": [
      "############################################################\n",
      "epoch = 19\n",
      "############################################################\n"
     ]
    },
    {
     "name": "stderr",
     "output_type": "stream",
     "text": [
      "100%|██████████| 1820/1820 [00:09<00:00, 199.72it/s, loss=1.07]   \n"
     ]
    },
    {
     "name": "stdout",
     "output_type": "stream",
     "text": [
      "############################################################\n",
      "epoch = 20\n",
      "############################################################\n"
     ]
    },
    {
     "name": "stderr",
     "output_type": "stream",
     "text": [
      "100%|██████████| 1820/1820 [00:09<00:00, 198.90it/s, loss=0.168]  \n"
     ]
    },
    {
     "name": "stdout",
     "output_type": "stream",
     "text": [
      "############################################################\n",
      "epoch = 21\n",
      "############################################################\n"
     ]
    },
    {
     "name": "stderr",
     "output_type": "stream",
     "text": [
      "100%|██████████| 1820/1820 [00:09<00:00, 200.68it/s, loss=1.43]   \n"
     ]
    },
    {
     "name": "stdout",
     "output_type": "stream",
     "text": [
      "############################################################\n",
      "epoch = 22\n",
      "############################################################\n"
     ]
    },
    {
     "name": "stderr",
     "output_type": "stream",
     "text": [
      "100%|██████████| 1820/1820 [00:09<00:00, 198.60it/s, loss=0.323]   \n"
     ]
    },
    {
     "name": "stdout",
     "output_type": "stream",
     "text": [
      "############################################################\n",
      "epoch = 23\n",
      "############################################################\n"
     ]
    },
    {
     "name": "stderr",
     "output_type": "stream",
     "text": [
      "100%|██████████| 1820/1820 [00:09<00:00, 200.31it/s, loss=0.107]  \n"
     ]
    },
    {
     "name": "stdout",
     "output_type": "stream",
     "text": [
      "############################################################\n",
      "epoch = 24\n",
      "############################################################\n"
     ]
    },
    {
     "name": "stderr",
     "output_type": "stream",
     "text": [
      "100%|██████████| 1820/1820 [00:09<00:00, 198.36it/s, loss=0.129]  \n"
     ]
    },
    {
     "name": "stdout",
     "output_type": "stream",
     "text": [
      "############################################################\n",
      "epoch = 25\n",
      "############################################################\n"
     ]
    },
    {
     "name": "stderr",
     "output_type": "stream",
     "text": [
      "100%|██████████| 1820/1820 [00:09<00:00, 201.18it/s, loss=0.215]   \n"
     ]
    },
    {
     "name": "stdout",
     "output_type": "stream",
     "text": [
      "############################################################\n",
      "epoch = 26\n",
      "############################################################\n"
     ]
    },
    {
     "name": "stderr",
     "output_type": "stream",
     "text": [
      "100%|██████████| 1820/1820 [00:09<00:00, 197.31it/s, loss=0.00836] \n"
     ]
    },
    {
     "name": "stdout",
     "output_type": "stream",
     "text": [
      "############################################################\n",
      "epoch = 27\n",
      "############################################################\n"
     ]
    },
    {
     "name": "stderr",
     "output_type": "stream",
     "text": [
      "100%|██████████| 1820/1820 [00:09<00:00, 200.17it/s, loss=0.0888] \n"
     ]
    },
    {
     "name": "stdout",
     "output_type": "stream",
     "text": [
      "############################################################\n",
      "epoch = 28\n",
      "############################################################\n"
     ]
    },
    {
     "name": "stderr",
     "output_type": "stream",
     "text": [
      "100%|██████████| 1820/1820 [00:09<00:00, 197.45it/s, loss=13]     \n"
     ]
    },
    {
     "name": "stdout",
     "output_type": "stream",
     "text": [
      "############################################################\n",
      "epoch = 29\n",
      "############################################################\n"
     ]
    },
    {
     "name": "stderr",
     "output_type": "stream",
     "text": [
      "100%|██████████| 1820/1820 [00:09<00:00, 200.90it/s, loss=4.25]   \n"
     ]
    }
   ],
   "source": [
    "device = \"cpu\"\n",
    "# device = \"cuda:0\"\n",
    "\n",
    "model = VanillaModel().to(device)\n",
    "optimizer = torch.optim.Adam(model.parameters(), lr=3e-4)\n",
    "losses = []\n",
    "\n",
    "epoches = 30\n",
    "for e in range(epoches):\n",
    "    print(\"#\" * 60)\n",
    "    print(f\"epoch = {e}\")\n",
    "    print(\"#\" * 60)\n",
    "\n",
    "    pbar = tqdm(train_dataloader)\n",
    "\n",
    "    for i, data in enumerate(pbar):\n",
    "\n",
    "        g, congestion = data\n",
    "        g = g.to(device)\n",
    "\n",
    "        pred = model(g)\n",
    "        loss = F.mse_loss(pred, congestion.squeeze())\n",
    "        optimizer.zero_grad()\n",
    "        loss.backward()\n",
    "        optimizer.step()\n",
    "\n",
    "        if i % 30 == 0:\n",
    "            losses.append(loss.item())\n",
    "            pbar.set_postfix(loss=loss.item())\n",
    "\n"
   ]
  },
  {
   "cell_type": "code",
   "execution_count": 8,
   "metadata": {},
   "outputs": [
    {
     "data": {
      "text/plain": [
       "[<matplotlib.lines.Line2D at 0x7fac502da1f0>]"
      ]
     },
     "execution_count": 8,
     "metadata": {},
     "output_type": "execute_result"
    },
    {
     "data": {
      "image/png": "[encoded data removed]",
      "text/plain": [
       "<Figure size 432x288 with 1 Axes>"
      ]
     },
     "metadata": {
      "needs_background": "light"
     },
     "output_type": "display_data"
    }
   ],
   "source": [
    "plt.plot(losses)"
   ]
  },
  {
   "cell_type": "code",
   "execution_count": 4,
   "metadata": {},
   "outputs": [
    {
     "name": "stderr",
     "output_type": "stream",
     "text": [
      " 25%|██▍       | 50/203 [00:00<00:00, 248.82it/s]"
     ]
    },
    {
     "name": "stdout",
     "output_type": "stream",
     "text": [
      "iteration: 0; loss = 0.0002903510467149317\n",
      "pred = [0. 0.]\n",
      "congestion = [0.02409776 0.        ]\n",
      "iteration: 1; loss = 5.269167900085449\n",
      "pred = [6.362832 6.307218]\n",
      "congestion = [8.630323 8.630323]\n",
      "iteration: 2; loss = 0.0\n",
      "pred = [0. 0.]\n",
      "congestion = [0. 0.]\n",
      "iteration: 3; loss = 0.35025525093078613\n",
      "pred = [0.52705145 0.65401477]\n",
      "congestion = [0.         0.00383996]\n",
      "iteration: 4; loss = 5.1851049647666514e-05\n",
      "pred = [0.         0.01050374]\n",
      "congestion = [0.00032552 0.00032552]\n",
      "iteration: 5; loss = 0.02130516618490219\n",
      "pred = [0.25526386 0.17305414]\n",
      "congestion = [0.14273566 0.        ]\n",
      "iteration: 6; loss = 0.0023364219814538956\n",
      "pred = [0.07578307 0.00775635]\n",
      "congestion = [0.00786634 0.        ]\n",
      "iteration: 7; loss = 0.004489779472351074\n",
      "pred = [0. 0.]\n",
      "congestion = [0.09416034 0.01064846]\n",
      "iteration: 8; loss = 0.0\n",
      "pred = [0. 0.]\n",
      "congestion = [0. 0.]\n",
      "iteration: 9; loss = 30.85293197631836\n",
      "pred = [5.6451125 5.462469 ]\n",
      "congestion = [0. 0.]\n",
      "iteration: 10; loss = 24.75495147705078\n",
      "pred = [4.903796  5.0460567]\n",
      "congestion = [0. 0.]\n",
      "iteration: 11; loss = 5.492663383483887\n",
      "pred = [2.36049   2.3266745]\n",
      "congestion = [0. 0.]\n",
      "iteration: 12; loss = 15.067342758178711\n",
      "pred = [4.104538  3.6457913]\n",
      "congestion = [0.00014361 0.00043403]\n",
      "iteration: 13; loss = 1.7501452020951547e-05\n",
      "pred = [0. 0.]\n",
      "congestion = [0.00588276 0.00062934]\n",
      "iteration: 14; loss = 3.24062442779541\n",
      "pred = [5.4725914 4.7077436]\n",
      "congestion = [7.4747024 6.2802577]\n",
      "iteration: 15; loss = 0.17092196643352509\n",
      "pred = [0.5223191 0.5065033]\n",
      "congestion = [0.23026027 0.        ]\n",
      "iteration: 16; loss = 0.025697380304336548\n",
      "pred = [0. 0.]\n",
      "congestion = [0.16030402 0.16030402]\n",
      "iteration: 17; loss = 0.06278376281261444\n",
      "pred = [0.2937745  0.19815166]\n",
      "congestion = [0. 0.]\n",
      "iteration: 18; loss = 4.1878975025611e-06\n",
      "pred = [0. 0.]\n",
      "congestion = [0.0028941 0.       ]\n",
      "iteration: 19; loss = 0.0010616780491545796\n",
      "pred = [0.050837 0.      ]\n",
      "congestion = [0.00475711 0.        ]\n",
      "iteration: 20; loss = 0.00011029939923901111\n",
      "pred = [0.         0.01485257]\n",
      "congestion = [0. 0.]\n",
      "iteration: 21; loss = 3.1560096740722656\n",
      "pred = [6.3198204 6.258944 ]\n",
      "congestion = [8.065638 8.065638]\n",
      "iteration: 22; loss = 0.009953992441296577\n",
      "pred = [0.10452121 0.09834149]\n",
      "congestion = [0.00334347 0.        ]\n",
      "iteration: 23; loss = 0.0033105360344052315\n",
      "pred = [0.08050793 0.01181291]\n",
      "congestion = [0. 0.]\n",
      "iteration: 24; loss = 3.1049726009368896\n",
      "pred = [6.3293796 6.269672 ]\n",
      "congestion = [8.061366 8.061366]\n",
      "iteration: 25; loss = 0.5578282475471497\n",
      "pred = [0.98632    0.37792766]\n",
      "congestion = [0. 0.]\n",
      "iteration: 26; loss = 0.00039430902688764036\n",
      "pred = [0.02648813 0.00932723]\n",
      "congestion = [0. 0.]\n",
      "iteration: 27; loss = 0.3766799569129944\n",
      "pred = [1.5049467 1.4074303]\n",
      "congestion = [0.8361812 0.8541558]\n",
      "iteration: 28; loss = 0.0548439547419548\n",
      "pred = [0.23049021 0.24229221]\n",
      "congestion = [0.         0.00446416]\n",
      "iteration: 29; loss = 0.00015498079301323742\n",
      "pred = [0.01759231 0.00068715]\n",
      "congestion = [0. 0.]\n",
      "iteration: 30; loss = 0.022599434480071068\n",
      "pred = [0.16214576 0.15470214]\n",
      "congestion = [0.01631669 0.        ]\n",
      "iteration: 31; loss = 2.948863983154297\n",
      "pred = [6.3198204 6.258944 ]\n",
      "congestion = [8.006338 8.006338]\n",
      "iteration: 32; loss = 10.263427734375\n",
      "pred = [3.8348439 3.5273073]\n",
      "congestion = [7.103764  6.6643467]\n",
      "iteration: 33; loss = 2.592594623565674\n",
      "pred = [6.176453 6.098033]\n",
      "congestion = [7.746919 7.746919]\n",
      "iteration: 34; loss = 3.020660877227783\n",
      "pred = [1.8293294 1.6416276]\n",
      "congestion = [0.0000000e+00 1.9929847e-05]\n",
      "iteration: 35; loss = 0.572141170501709\n",
      "pred = [0.99741316 0.38658673]\n",
      "congestion = [0. 0.]\n",
      "iteration: 36; loss = 2.4907798767089844\n",
      "pred = [6.3293786 6.269672 ]\n",
      "congestion = [7.8774633 7.8774633]\n",
      "iteration: 37; loss = 0.002754141576588154\n",
      "pred = [0.8026477 0.7251941]\n",
      "congestion = [0.78332096 0.79685134]\n",
      "iteration: 38; loss = 5.57218599319458\n",
      "pred = [2.3970144 2.323509 ]\n",
      "congestion = [0. 0.]\n",
      "iteration: 39; loss = 18.471908569335938\n",
      "pred = [4.5570226 4.0224404]\n",
      "congestion = [0.         0.00033123]\n",
      "iteration: 40; loss = 3.0849716663360596\n",
      "pred = [1.8475071 1.6603394]\n",
      "congestion = [0.0000000e+00 1.9929847e-05]\n",
      "iteration: 41; loss = 0.7426487803459167\n",
      "pred = [0.96254325 0.7520655 ]\n",
      "congestion = [0.00198365 0.00198365]\n",
      "iteration: 42; loss = 0.48680567741394043\n",
      "pred = [2.181033  2.0319812]\n",
      "congestion = [1.4107941 1.4152611]\n",
      "iteration: 43; loss = 12.955018997192383\n",
      "pred = [4.243984  3.8027961]\n",
      "congestion = [8.042633 7.191056]\n",
      "iteration: 44; loss = 3.4421379950799746e-06\n",
      "pred = [0. 0.]\n",
      "congestion = [0.00262379 0.        ]\n",
      "iteration: 45; loss = 2.0568974018096924\n",
      "pred = [1.4791956 1.3877231]\n",
      "congestion = [0. 0.]\n",
      "iteration: 46; loss = 7.194601607807272e-07\n",
      "pred = [0. 0.]\n",
      "congestion = [0.00031791 0.00115666]\n",
      "iteration: 47; loss = 0.03019741177558899\n",
      "pred = [0.17382547 0.1737752 ]\n",
      "congestion = [5.2609426e-05 0.0000000e+00]\n",
      "iteration: 48; loss = 0.3357067108154297\n",
      "pred = [0.73577726 0.36061782]\n",
      "congestion = [0. 0.]\n",
      "iteration: 49; loss = 1.4013173768034903e-06\n",
      "pred = [0. 0.]\n",
      "congestion = [0.         0.00167411]\n",
      "iteration: 50; loss = 2.0841925163495034e-07\n",
      "pred = [0. 0.]\n",
      "congestion = [5.9901795e-06 6.4560253e-04]\n"
     ]
    },
    {
     "name": "stderr",
     "output_type": "stream",
     "text": [
      " 37%|███▋      | 75/203 [00:00<00:00, 245.92it/s]"
     ]
    },
    {
     "name": "stdout",
     "output_type": "stream",
     "text": [
      "iteration: 51; loss = 0.018639113754034042\n",
      "pred = [0.07872567 0.11507998]\n",
      "congestion = [0.23375736 0.        ]\n",
      "iteration: 52; loss = 5.450107097625732\n",
      "pred = [2.3651667 2.3035192]\n",
      "congestion = [0. 0.]\n",
      "iteration: 53; loss = 2.5456912517547607\n",
      "pred = [1.829587  1.5812566]\n",
      "congestion = [0.11473819 0.11473819]\n",
      "iteration: 54; loss = 2.6406068801879883\n",
      "pred = [6.399624 6.349278]\n",
      "congestion = [7.9992504 7.9992504]\n",
      "iteration: 55; loss = 0.5916706323623657\n",
      "pred = [2.2301722 2.0835383]\n",
      "congestion = [1.3891438 1.3936017]\n",
      "iteration: 56; loss = 0.00015268691640812904\n",
      "pred = [0.0176197  0.01732802]\n",
      "congestion = [0.01988099 0.        ]\n",
      "iteration: 57; loss = 4.721133232116699\n",
      "pred = [6.357549  6.3012896]\n",
      "congestion = [8.502054 8.502054]\n",
      "iteration: 58; loss = 0.03315120190382004\n",
      "pred = [0.29203975 0.2547071 ]\n",
      "congestion = [0.25426808 0.        ]\n",
      "iteration: 59; loss = 0.00044468362466432154\n",
      "pred = [0. 0.]\n",
      "congestion = [0.00148607 0.02978521]\n",
      "iteration: 60; loss = 0.005733382888138294\n",
      "pred = [0. 0.]\n",
      "congestion = [0.10708299 0.        ]\n",
      "iteration: 61; loss = 2.652418375015259\n",
      "pred = [6.280721 6.21506 ]\n",
      "congestion = [7.8761845 7.8761845]\n",
      "iteration: 62; loss = 6.589851379394531\n",
      "pred = [2.7231002 2.414051 ]\n",
      "congestion = [0.01120627 0.00047832]\n",
      "iteration: 63; loss = 4.5150299072265625\n",
      "pred = [2.1431296 2.106432 ]\n",
      "congestion = [0. 0.]\n",
      "iteration: 64; loss = 0.004236966371536255\n",
      "pred = [0. 0.]\n",
      "congestion = [0.09168698 0.0082116 ]\n",
      "iteration: 65; loss = 0.008305707946419716\n",
      "pred = [0.08708806 0.09501098]\n",
      "congestion = [0. 0.]\n",
      "iteration: 66; loss = 2.3878870010375977\n",
      "pred = [6.2401714 6.1695485]\n",
      "congestion = [7.7497354 7.7497354]\n",
      "iteration: 67; loss = 2.1574697494506836\n",
      "pred = [4.859904  4.3548656]\n",
      "congestion = [3.156195  3.1664567]\n",
      "iteration: 68; loss = 12.104949951171875\n",
      "pred = [4.3342943 3.8746817]\n",
      "congestion = [7.576107 7.576107]\n",
      "iteration: 69; loss = 4.25794792175293\n",
      "pred = [5.4754004 4.712722 ]\n",
      "congestion = [7.7643847 6.5228176]\n",
      "iteration: 70; loss = 0.036171041429042816\n",
      "pred = [0.21019393 0.2007921 ]\n",
      "congestion = [0.03123972 0.        ]\n",
      "iteration: 71; loss = 2.8251516819000244\n",
      "pred = [6.367282  6.3123055]\n",
      "congestion = [8.020388 8.020388]\n",
      "iteration: 72; loss = 4.216428351355717e-06\n",
      "pred = [0. 0.]\n",
      "congestion = [0.00290394 0.        ]\n",
      "iteration: 73; loss = 2.5902249813079834\n",
      "pred = [2.4815104 2.2065675]\n",
      "congestion = [0.7405033 0.7405033]\n",
      "iteration: 74; loss = 15.679671287536621\n",
      "pred = [4.168303  3.7396405]\n",
      "congestion = [3.829657e-05 0.000000e+00]\n",
      "iteration: 75; loss = 2.9380677005974576e-05\n",
      "pred = [0. 0.]\n",
      "congestion = [0.00366085 0.00673495]\n",
      "iteration: 76; loss = 0.3556409776210785\n",
      "pred = [0.53168666 0.658497  ]\n",
      "congestion = [0.         0.00382818]\n",
      "iteration: 77; loss = 2.07232624234166e-05\n",
      "pred = [0.0064379 0.       ]\n",
      "congestion = [0. 0.]\n",
      "iteration: 78; loss = 2.4706003665924072\n",
      "pred = [6.3293786 6.269672 ]\n",
      "congestion = [7.871056 7.871056]\n",
      "iteration: 79; loss = 2.2150015830993652\n",
      "pred = [6.2959256 6.232126 ]\n",
      "congestion = [7.751972 7.751972]\n",
      "iteration: 80; loss = 0.0\n",
      "pred = [0. 0.]\n",
      "congestion = [0. 0.]\n",
      "iteration: 81; loss = 3.017138957977295\n",
      "pred = [0.9644922  0.71101654]\n",
      "congestion = [2.7987833 2.3449242]\n",
      "iteration: 82; loss = 0.0024585651699453592\n",
      "pred = [0.         0.01592785]\n",
      "congestion = [0.06828934 0.        ]\n",
      "iteration: 83; loss = 3.146221876144409\n",
      "pred = [5.4725914 4.707743 ]\n",
      "congestion = [7.452877 6.24752 ]\n",
      "iteration: 84; loss = 6.604012966156006\n",
      "pred = [2.6081007 2.5315711]\n",
      "congestion = [0.00057823 0.        ]\n",
      "iteration: 85; loss = 0.4005241394042969\n",
      "pred = [0.7345379 0.522415 ]\n",
      "congestion = [0.00781181 0.        ]\n",
      "iteration: 86; loss = 0.0\n",
      "pred = [0. 0.]\n",
      "congestion = [0. 0.]\n",
      "iteration: 87; loss = 16.504230499267578\n",
      "pred = [4.122664  4.0015125]\n",
      "congestion = [0. 0.]\n",
      "iteration: 88; loss = 0.0011090723564848304\n",
      "pred = [0.05180717 0.        ]\n",
      "congestion = [0.00470998 0.        ]\n",
      "iteration: 89; loss = 0.005728115327656269\n",
      "pred = [0. 0.]\n",
      "congestion = [0.10703378 0.        ]\n",
      "iteration: 90; loss = 18.411460876464844\n",
      "pred = [4.5599027 4.004106 ]\n",
      "congestion = [0.         0.00033123]\n",
      "iteration: 91; loss = 1.5036087036132812\n",
      "pred = [1.2289646 1.2844565]\n",
      "congestion = [0.06389413 0.        ]\n",
      "iteration: 92; loss = 1.9430410861968994\n",
      "pred = [1.5165958 1.263661 ]\n",
      "congestion = [0.00357143 0.        ]\n",
      "iteration: 93; loss = 25.84222984313965\n",
      "pred = [5.4571266 4.6801953]\n",
      "congestion = [0. 0.]\n",
      "iteration: 94; loss = 0.0015656007453799248\n",
      "pred = [0.04072532 0.03870064]\n",
      "congestion = [0.         0.00032552]\n",
      "iteration: 95; loss = 0.005211342591792345\n",
      "pred = [0.09952556 0.02295457]\n",
      "congestion = [0.         0.00020926]\n",
      "iteration: 96; loss = 0.006967982742935419\n",
      "pred = [0.1300692  0.04668245]\n",
      "congestion = [0.01642679 0.01472356]\n",
      "iteration: 97; loss = 1.2324347496032715\n",
      "pred = [1.2431986 1.0041617]\n",
      "congestion = [0.03633124 0.        ]\n"
     ]
    },
    {
     "name": "stderr",
     "output_type": "stream",
     "text": [
      " 61%|██████    | 124/203 [00:00<00:00, 231.43it/s]"
     ]
    },
    {
     "name": "stdout",
     "output_type": "stream",
     "text": [
      "iteration: 98; loss = 0.0006969466921873391\n",
      "pred = [0.04458296 0.        ]\n",
      "congestion = [0.08191784 0.        ]\n",
      "iteration: 99; loss = 4.223580360412598\n",
      "pred = [6.31982  6.258944]\n",
      "congestion = [8.344292 8.344292]\n",
      "iteration: 100; loss = 0.0012244503013789654\n",
      "pred = [0.04948637 0.        ]\n",
      "congestion = [0. 0.]\n",
      "iteration: 101; loss = 0.022501563653349876\n",
      "pred = [0.17995675 0.11259741]\n",
      "congestion = [0.00016534 0.        ]\n",
      "iteration: 102; loss = 0.006316143088042736\n",
      "pred = [0.11190644 0.01045153]\n",
      "congestion = [0. 0.]\n",
      "iteration: 103; loss = 13.873697280883789\n",
      "pred = [3.7663891 3.682863 ]\n",
      "congestion = [0.00011905 0.00011905]\n",
      "iteration: 104; loss = 1.8534542322158813\n",
      "pred = [6.295926 6.232127]\n",
      "congestion = [7.625069 7.625069]\n",
      "iteration: 105; loss = 2.211327314376831\n",
      "pred = [6.2959256 6.2321267]\n",
      "congestion = [7.750737 7.750737]\n",
      "iteration: 106; loss = 0.006321825087070465\n",
      "pred = [0.10868876 0.03007279]\n",
      "congestion = [6.6688335e-05 1.0056908e-03]\n",
      "iteration: 107; loss = 5.502472877502441\n",
      "pred = [2.3779502 2.3130713]\n",
      "congestion = [0. 0.]\n",
      "iteration: 108; loss = 1.8642704486846924\n",
      "pred = [4.897746 4.385791]\n",
      "congestion = [3.2964668 3.306696 ]\n",
      "iteration: 109; loss = 1.456977367401123\n",
      "pred = [2.6707056 2.5328474]\n",
      "congestion = [1.3973517 1.3959548]\n",
      "iteration: 110; loss = 1.7101850509643555\n",
      "pred = [1.3577332 1.262169 ]\n",
      "congestion = [0.00285205 0.00333333]\n",
      "iteration: 111; loss = 21.526599884033203\n",
      "pred = [4.773222 4.810268]\n",
      "congestion = [9.424504 9.43831 ]\n",
      "iteration: 112; loss = 9.258955833502114e-05\n",
      "pred = [0.01642278 0.        ]\n",
      "congestion = [0.0047385  0.00697545]\n",
      "iteration: 113; loss = 0.0831906646490097\n",
      "pred = [0.33326775 0.23518917]\n",
      "congestion = [0. 0.]\n",
      "iteration: 114; loss = 0.0043173558078706264\n",
      "pred = [0.01692882 0.04063536]\n",
      "congestion = [0.10049603 0.        ]\n",
      "iteration: 115; loss = 0.08415518701076508\n",
      "pred = [4.479878  4.4802322]\n",
      "congestion = [4.185 4.195]\n",
      "iteration: 116; loss = 0.019905710592865944\n",
      "pred = [0.15082671 0.14961685]\n",
      "congestion = [0.0188183 0.       ]\n",
      "iteration: 117; loss = 2.825150966644287\n",
      "pred = [6.3672824 6.3123055]\n",
      "congestion = [8.020388 8.020388]\n",
      "iteration: 118; loss = 5.2629547119140625\n",
      "pred = [6.362831 6.307218]\n",
      "congestion = [8.628969 8.628969]\n",
      "iteration: 119; loss = 66.82093811035156\n",
      "pred = [1.468104  1.2089114]\n",
      "congestion = [9.5118885 9.5118885]\n",
      "iteration: 120; loss = 0.37966638803482056\n",
      "pred = [0.6753849  0.55062515]\n",
      "congestion = [0. 0.]\n",
      "iteration: 121; loss = 1.1011642217636108\n",
      "pred = [1.070825  1.0274543]\n",
      "congestion = [0. 0.]\n",
      "iteration: 122; loss = 1.8265625456592716e-08\n",
      "pred = [0. 0.]\n",
      "congestion = [0.         0.00019113]\n",
      "iteration: 123; loss = 8.422844257438555e-05\n",
      "pred = [0.01295733 0.00075124]\n",
      "congestion = [0. 0.]\n",
      "iteration: 124; loss = 0.9533249139785767\n",
      "pred = [1.0018604  0.95528305]\n",
      "congestion = [0.00482266 0.        ]\n",
      "iteration: 125; loss = 5.833995819091797\n",
      "pred = [2.42322   2.4074876]\n",
      "congestion = [0. 0.]\n",
      "iteration: 126; loss = 3.0430068969726562\n",
      "pred = [2.6402311 2.3750513]\n",
      "congestion = [0.76826584 0.76826584]\n",
      "iteration: 127; loss = 2.1329686641693115\n",
      "pred = [6.3198204 6.258944 ]\n",
      "congestion = [7.7495337 7.7495337]\n",
      "iteration: 128; loss = 8.653221130371094\n",
      "pred = [4.287951 4.266936]\n",
      "congestion = [7.2190604 7.2190604]\n",
      "iteration: 129; loss = 1.8374381065368652\n",
      "pred = [6.2959256 6.2321267]\n",
      "congestion = [7.619172 7.619172]\n",
      "iteration: 130; loss = 0.006387563422322273\n",
      "pred = [0.06354755 0.10127647]\n",
      "congestion = [0.         0.00780543]\n",
      "iteration: 131; loss = 0.029109887778759003\n",
      "pred = [0.22731091 0.24008512]\n",
      "congestion = [0.060502   0.06574476]\n",
      "iteration: 132; loss = 3.7374539375305176\n",
      "pred = [6.3516808 6.2947025]\n",
      "congestion = [8.256231 8.256231]\n",
      "iteration: 133; loss = 4.093073844909668\n",
      "pred = [6.384386 6.331858]\n",
      "congestion = [8.381086 8.381086]\n",
      "iteration: 134; loss = 0.28895649313926697\n",
      "pred = [0.58801544 0.49401832]\n",
      "congestion = [0.0102102 0.       ]\n",
      "iteration: 135; loss = 0.018107745796442032\n",
      "pred = [0.12375295 0.14457074]\n",
      "congestion = [0. 0.]\n",
      "iteration: 136; loss = 2.6542882919311523\n",
      "pred = [6.28072   6.2150593]\n",
      "congestion = [7.8767576 7.8767576]\n",
      "iteration: 137; loss = 1.8179892301559448\n",
      "pred = [6.3087926 6.246567 ]\n",
      "congestion = [7.625649 7.625649]\n",
      "iteration: 138; loss = 0.26962459087371826\n",
      "pred = [0.6163049  0.49160743]\n",
      "congestion = [0.07080389 0.        ]\n",
      "iteration: 139; loss = 4.066909313201904\n",
      "pred = [6.384386 6.331858]\n",
      "congestion = [8.374609 8.374609]\n",
      "iteration: 140; loss = 0.009221742860972881\n",
      "pred = [0.00716549 0.        ]\n",
      "congestion = [0.14297229 0.        ]\n",
      "iteration: 141; loss = 2.3507862091064453\n",
      "pred = [6.3784003 6.325015 ]\n",
      "congestion = [7.8847027 7.8847027]\n",
      "iteration: 142; loss = 9.213602066040039\n",
      "pred = [4.2879505 4.266936 ]\n",
      "congestion = [7.3128166 7.3128166]\n"
     ]
    },
    {
     "name": "stderr",
     "output_type": "stream",
     "text": [
      " 85%|████████▍ | 172/203 [00:00<00:00, 230.22it/s]"
     ]
    },
    {
     "name": "stdout",
     "output_type": "stream",
     "text": [
      "iteration: 143; loss = 9.992276191711426\n",
      "pred = [4.2896466 4.266248 ]\n",
      "congestion = [7.438982 7.438982]\n",
      "iteration: 144; loss = 19.627269744873047\n",
      "pred = [4.495831 4.363719]\n",
      "congestion = [0. 0.]\n",
      "iteration: 145; loss = 0.010020734742283821\n",
      "pred = [0.10864836 0.09075794]\n",
      "congestion = [0. 0.]\n",
      "iteration: 146; loss = 16.640396118164062\n",
      "pred = [4.5060863 4.169875 ]\n",
      "congestion = [8.392225 8.433526]\n",
      "iteration: 147; loss = 4.51747989654541\n",
      "pred = [6.357548 6.301289]\n",
      "congestion = [8.454669 8.454669]\n",
      "iteration: 148; loss = 0.0008937461534515023\n",
      "pred = [0.01716486 0.0389563 ]\n",
      "congestion = [9.2535331e-05 2.7777778e-04]\n",
      "iteration: 149; loss = 2.676150321960449\n",
      "pred = [1.841329  1.5898007]\n",
      "congestion = [0.08451191 0.08451191]\n",
      "iteration: 150; loss = 2.2602033615112305\n",
      "pred = [6.3377423 6.279058 ]\n",
      "congestion = [7.811511 7.811511]\n",
      "iteration: 151; loss = 2.875455141067505\n",
      "pred = [5.474763  4.7114015]\n",
      "congestion = [7.360863  6.1924605]\n",
      "iteration: 152; loss = 1.4868736267089844\n",
      "pred = [1.3330352 1.0940471]\n",
      "congestion = [0.0000000e+00 7.9719386e-05]\n",
      "iteration: 153; loss = 0.0024766712449491024\n",
      "pred = [0.07037999 0.        ]\n",
      "congestion = [0. 0.]\n",
      "iteration: 154; loss = 3.5537919998168945\n",
      "pred = [1.9412013 1.8277922]\n",
      "congestion = [0.         0.00041118]\n",
      "iteration: 155; loss = 2.629843235015869\n",
      "pred = [5.468971 4.701646]\n",
      "congestion = [7.281994  6.1061506]\n",
      "iteration: 156; loss = 0.5916182994842529\n",
      "pred = [0.84669447 0.6828946 ]\n",
      "congestion = [0. 0.]\n",
      "iteration: 157; loss = 0.004612822085618973\n",
      "pred = [0.07349959 0.06207146]\n",
      "congestion = [9.9999997e-05 1.1869523e-04]\n",
      "iteration: 158; loss = 3.3024744987487793\n",
      "pred = [5.4756465 4.7132945]\n",
      "congestion = [7.5      6.296627]\n",
      "iteration: 159; loss = 15.26103401184082\n",
      "pred = [4.11855  3.682381]\n",
      "congestion = [3.829657e-05 0.000000e+00]\n",
      "iteration: 160; loss = 0.28295496106147766\n",
      "pred = [0.6292491  0.50462073]\n",
      "congestion = [0.07133523 0.        ]\n",
      "iteration: 161; loss = 33.028812408447266\n",
      "pred = [1.598811  1.3879828]\n",
      "congestion = [9.607002 0.      ]\n",
      "iteration: 162; loss = 3.422520239837468e-05\n",
      "pred = [0.00297281 0.        ]\n",
      "congestion = [0.01124629 0.        ]\n",
      "iteration: 163; loss = 5.6714630126953125\n",
      "pred = [6.3672824 6.312306 ]\n",
      "congestion = [8.721119 8.721119]\n",
      "iteration: 164; loss = 0.21792322397232056\n",
      "pred = [0.60651267 0.47633696]\n",
      "congestion = [0.07916209 0.07916209]\n",
      "iteration: 165; loss = 0.00686922762542963\n",
      "pred = [0.11691433 0.01394762]\n",
      "congestion = [0.00046875 0.00057292]\n",
      "iteration: 166; loss = 0.0\n",
      "pred = [0. 0.]\n",
      "congestion = [0. 0.]\n",
      "iteration: 167; loss = 18.446714401245117\n",
      "pred = [4.558176  4.0148625]\n",
      "congestion = [0.         0.00033123]\n",
      "iteration: 168; loss = 0.0\n",
      "pred = [0. 0.]\n",
      "congestion = [0. 0.]\n",
      "iteration: 169; loss = 1.066650152206421\n",
      "pred = [1.0547817 1.0103148]\n",
      "congestion = [0. 0.]\n",
      "iteration: 170; loss = 5.325385700416518e-06\n",
      "pred = [0. 0.]\n",
      "congestion = [0.00303225 0.00120673]\n",
      "iteration: 171; loss = 0.0005840847734361887\n",
      "pred = [0.0341785 0.       ]\n",
      "congestion = [0. 0.]\n",
      "iteration: 172; loss = 15.17579460144043\n",
      "pred = [4.116892  3.6615775]\n",
      "congestion = [0.00014361 0.00043403]\n",
      "iteration: 173; loss = 15.861549377441406\n",
      "pred = [4.5963597 4.267964 ]\n",
      "congestion = [8.38981  8.431236]\n",
      "iteration: 174; loss = 0.008176404982805252\n",
      "pred = [0.12151718 0.0400387 ]\n",
      "congestion = [0.         0.00020926]\n",
      "iteration: 175; loss = 0.0\n",
      "pred = [0. 0.]\n",
      "congestion = [0. 0.]\n",
      "iteration: 176; loss = 2.2585561964660883e-05\n",
      "pred = [0. 0.]\n",
      "congestion = [0.00672095 0.        ]\n",
      "iteration: 177; loss = 15.926974296569824\n",
      "pred = [4.2227654 3.7446659]\n",
      "congestion = [3.829657e-05 0.000000e+00]\n",
      "iteration: 178; loss = 1.668816328048706\n",
      "pred = [1.3424907 1.2455093]\n",
      "congestion = [0.00285205 0.00333333]\n",
      "iteration: 179; loss = 2.2490812625619583e-05\n",
      "pred = [0. 0.]\n",
      "congestion = [0.00670683 0.        ]\n",
      "iteration: 180; loss = 3.416558265686035\n",
      "pred = [2.8223522 2.2691908]\n",
      "congestion = [4.12 0.  ]\n",
      "iteration: 181; loss = 1.5006651665316895e-05\n",
      "pred = [0. 0.]\n",
      "congestion = [0.00547844 0.        ]\n",
      "iteration: 182; loss = 2.4706003665924072\n",
      "pred = [6.3293786 6.269672 ]\n",
      "congestion = [7.871056 7.871056]\n",
      "iteration: 183; loss = 0.34051713347435\n",
      "pred = [0. 0.]\n",
      "congestion = [0.48648298 0.66660976]\n",
      "iteration: 184; loss = 0.027614114806056023\n",
      "pred = [0.22023255 0.08245395]\n",
      "congestion = [0.00016534 0.        ]\n",
      "iteration: 185; loss = 0.00583200016990304\n",
      "pred = [0. 0.]\n",
      "congestion = [0.108 0.   ]\n",
      "iteration: 186; loss = 0.018698152154684067\n",
      "pred = [0.28979862 0.28337434]\n",
      "congestion = [0.42962575 0.4169583 ]\n",
      "iteration: 187; loss = 9.541545867919922\n",
      "pred = [3.3436031 3.2931795]\n",
      "congestion = [0.2600735  0.19884036]\n",
      "iteration: 188; loss = 4.342124938964844\n",
      "pred = [3.2442248 3.023804 ]\n",
      "congestion = [1.0531625 1.0531453]\n",
      "iteration: 189; loss = 3.9859232902526855\n",
      "pred = [6.3451214 6.287341 ]\n",
      "congestion = [8.3125 8.3125]\n",
      "iteration: 190; loss = 10.818631172180176\n",
      "pred = [3.4151497 3.1581664]\n",
      "congestion = [0. 0.]\n",
      "iteration: 191; loss = 0.03009124845266342\n",
      "pred = [4.4914274 4.4853287]\n",
      "congestion = [4.3108335 4.3192916]\n"
     ]
    },
    {
     "name": "stderr",
     "output_type": "stream",
     "text": [
      "100%|██████████| 203/203 [00:00<00:00, 236.86it/s]"
     ]
    },
    {
     "name": "stdout",
     "output_type": "stream",
     "text": [
      "iteration: 192; loss = 0.00029088943847455084\n",
      "pred = [0.         0.02412009]\n",
      "congestion = [0. 0.]\n",
      "iteration: 193; loss = 70.08749389648438\n",
      "pred = [1.246005   0.95343024]\n",
      "congestion = [9.423516 9.515164]\n",
      "iteration: 194; loss = 2.1858530044555664\n",
      "pred = [6.308793 6.246567]\n",
      "congestion = [7.7558155 7.7558155]\n",
      "iteration: 195; loss = 0.3929092288017273\n",
      "pred = [0. 0.]\n",
      "congestion = [0.5303829  0.71029043]\n",
      "iteration: 196; loss = 1.4013173768034903e-06\n",
      "pred = [0. 0.]\n",
      "congestion = [0.         0.00167411]\n",
      "iteration: 197; loss = 5.837662696838379\n",
      "pred = [2.4280207 2.4041715]\n",
      "congestion = [0. 0.]\n",
      "iteration: 198; loss = 1.1414275604693103e-06\n",
      "pred = [0. 0.]\n",
      "congestion = [0.00106838 0.00106838]\n",
      "iteration: 199; loss = 35.906742095947266\n",
      "pred = [6.0493555 5.934541 ]\n",
      "congestion = [0. 0.]\n",
      "iteration: 200; loss = 0.8584591150283813\n",
      "pred = [0.9565288 0.8955283]\n",
      "congestion = [0. 0.]\n",
      "iteration: 201; loss = 0.5534491539001465\n",
      "pred = [0.7797011 0.7085667]\n",
      "congestion = [0.         0.00219247]\n",
      "iteration: 202; loss = 0.003897079499438405\n",
      "pred = [0.08827768 0.        ]\n",
      "congestion = [0.         0.00109986]\n",
      "******************************\n",
      "mae loss: 1.3090248107910156\n"
     ]
    },
    {
     "name": "stderr",
     "output_type": "stream",
     "text": [
      "\n"
     ]
    }
   ],
   "source": [
    "# test accuracy\n",
    "# we use relative error to measure\n",
    "\n",
    "mae_losses = []\n",
    "\n",
    "pbar = tqdm(test_dataloader)\n",
    "for i, data in enumerate(pbar):\n",
    "\n",
    "    g, congestion = data\n",
    "    congestion = congestion.squeeze()\n",
    "    g = g.to(device)\n",
    "\n",
    "    pred = model(g)\n",
    "    pred = F.relu(pred)\n",
    "    loss = F.mse_loss(pred, congestion)\n",
    "\n",
    "    print(f\"iteration: {i}; loss = {loss.item()}\")\n",
    "    print(f\"pred = {pred.detach().numpy()}\")\n",
    "    print(f\"congestion = {congestion.numpy()}\")\n",
    "\n",
    "    mae_losses.append(F.l1_loss(pred, congestion))\n",
    "\n",
    "print(\"*\" * 30)\n",
    "mae_losses = torch.stack(mae_losses).mean()\n",
    "print(f\"mae loss: {mae_losses}\")\n"
   ]
  },
  {
   "cell_type": "code",
   "execution_count": null,
   "metadata": {},
   "outputs": [],
   "source": []
  }
 ],
 "metadata": {
  "interpreter": {
   "hash": "96bcc5b7e4704e2a96f47d0e0ab54a35b61edd90a78c04f0a0f415e769481874"
  },
  "kernelspec": {
   "display_name": "Python 3.9.12 ('gnn')",
   "language": "python",
   "name": "python3"
  },
  "language_info": {
   "codemirror_mode": {
    "name": "ipython",
    "version": 3
   },
   "file_extension": ".py",
   "mimetype": "text/x-python",
   "name": "python",
   "nbconvert_exporter": "python",
   "pygments_lexer": "ipython3",
   "version": "3.8.13"
  },
  "orig_nbformat": 4
 },
 "nbformat": 4,
 "nbformat_minor": 2
}
