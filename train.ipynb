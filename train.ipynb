{
 "cells": [
  {
   "cell_type": "code",
   "execution_count": 1,
   "metadata": {},
   "outputs": [],
   "source": [
    "import os\n",
    "import torch\n",
    "import torch.nn as nn\n",
    "import torch.nn.functional as F\n",
    "import matplotlib.pyplot as plt\n",
    "\n",
    "from dataset.dataset import NoCDataset\n",
    "from model.vanilla import VanillaModel\n",
    "\n",
    "from tqdm import tqdm"
   ]
  },
  {
   "cell_type": "code",
   "execution_count": 2,
   "metadata": {},
   "outputs": [
    {
     "name": "stdout",
     "output_type": "stream",
     "text": [
      "#Samples = 559\n",
      "(Graph(num_nodes={'packet': 10, 'router': 12},\n",
      "      num_edges={('packet', 'pass', 'router'): 46, ('router', 'backpressure', 'router'): 16, ('router', 'connect', 'router'): 16, ('router', 'transfer', 'packet'): 46},\n",
      "      metagraph=[('packet', 'router', 'pass'), ('router', 'router', 'backpressure'), ('router', 'router', 'connect'), ('router', 'packet', 'transfer')]), tensor([1057.8928,  887.8571]))\n"
     ]
    }
   ],
   "source": [
    "dataset = NoCDataset()\n",
    "print(f\"#Samples = {len(dataset)}\")\n",
    "print(dataset[0])\n",
    "\n",
    "# TODO: use advanced dgl.dataloader instead of manually dividing dataset\n",
    "num_training = 0.9 * len(dataset)\n"
   ]
  },
  {
   "cell_type": "code",
   "execution_count": 5,
   "metadata": {},
   "outputs": [
    {
     "name": "stderr",
     "output_type": "stream",
     "text": [
      "  0%|          | 0/100 [00:00<?, ?it/s]"
     ]
    },
    {
     "name": "stdout",
     "output_type": "stream",
     "text": [
      "iteration: 0; loss = 90.5848388671875\n",
      "iteration: 100; loss = 24.426420211791992\n",
      "iteration: 200; loss = 15.197343826293945\n",
      "iteration: 300; loss = 7.454904079437256\n",
      "iteration: 400; loss = 6.675256729125977\n"
     ]
    },
    {
     "name": "stderr",
     "output_type": "stream",
     "text": [
      "  1%|          | 1/100 [00:03<06:22,  3.86s/it]"
     ]
    },
    {
     "name": "stdout",
     "output_type": "stream",
     "text": [
      "iteration: 500; loss = 7.523663520812988\n",
      "iteration: 0; loss = 8.845500946044922\n",
      "iteration: 100; loss = 10.212442398071289\n",
      "iteration: 200; loss = 7.753923416137695\n",
      "iteration: 300; loss = 5.9914140701293945\n",
      "iteration: 400; loss = 6.324829578399658\n"
     ]
    },
    {
     "name": "stderr",
     "output_type": "stream",
     "text": [
      "  2%|▏         | 2/100 [00:07<06:13,  3.81s/it]"
     ]
    },
    {
     "name": "stdout",
     "output_type": "stream",
     "text": [
      "iteration: 500; loss = 7.800098419189453\n",
      "iteration: 0; loss = 8.957642555236816\n",
      "iteration: 100; loss = 9.726606369018555\n",
      "iteration: 200; loss = 8.005084037780762\n",
      "iteration: 300; loss = 5.8300676345825195\n",
      "iteration: 400; loss = 6.038851737976074\n"
     ]
    },
    {
     "name": "stderr",
     "output_type": "stream",
     "text": [
      "  3%|▎         | 3/100 [00:11<06:10,  3.82s/it]"
     ]
    },
    {
     "name": "stdout",
     "output_type": "stream",
     "text": [
      "iteration: 500; loss = 7.665209770202637\n",
      "iteration: 0; loss = 8.66726303100586\n",
      "iteration: 100; loss = 9.440008163452148\n",
      "iteration: 200; loss = 8.116987228393555\n",
      "iteration: 300; loss = 5.464106559753418\n",
      "iteration: 400; loss = 6.070445537567139\n"
     ]
    },
    {
     "name": "stderr",
     "output_type": "stream",
     "text": [
      "  4%|▍         | 4/100 [00:15<06:09,  3.85s/it]"
     ]
    },
    {
     "name": "stdout",
     "output_type": "stream",
     "text": [
      "iteration: 500; loss = 8.028295516967773\n",
      "iteration: 0; loss = 8.924420356750488\n",
      "iteration: 100; loss = 9.13081169128418\n",
      "iteration: 200; loss = 8.409296989440918\n",
      "iteration: 300; loss = 5.2625412940979\n",
      "iteration: 400; loss = 5.9106035232543945\n"
     ]
    },
    {
     "name": "stderr",
     "output_type": "stream",
     "text": [
      "  5%|▌         | 5/100 [00:19<06:04,  3.83s/it]"
     ]
    },
    {
     "name": "stdout",
     "output_type": "stream",
     "text": [
      "iteration: 500; loss = 7.869128704071045\n",
      "iteration: 0; loss = 8.663934707641602\n",
      "iteration: 100; loss = 8.759931564331055\n",
      "iteration: 200; loss = 8.702604293823242\n",
      "iteration: 300; loss = 4.867667198181152\n",
      "iteration: 400; loss = 5.9379167556762695\n"
     ]
    },
    {
     "name": "stderr",
     "output_type": "stream",
     "text": [
      "  6%|▌         | 6/100 [00:23<06:01,  3.84s/it]"
     ]
    },
    {
     "name": "stdout",
     "output_type": "stream",
     "text": [
      "iteration: 500; loss = 7.718590259552002\n",
      "iteration: 0; loss = 8.416864395141602\n",
      "iteration: 100; loss = 11.096772193908691\n",
      "iteration: 200; loss = 8.926416397094727\n",
      "iteration: 300; loss = 4.440793037414551\n",
      "iteration: 400; loss = 6.315412998199463\n"
     ]
    },
    {
     "name": "stderr",
     "output_type": "stream",
     "text": [
      "  7%|▋         | 7/100 [00:26<05:59,  3.86s/it]"
     ]
    },
    {
     "name": "stdout",
     "output_type": "stream",
     "text": [
      "iteration: 500; loss = 7.389350891113281\n",
      "iteration: 0; loss = 8.050125122070312\n",
      "iteration: 100; loss = 7.678874969482422\n",
      "iteration: 200; loss = 8.922239303588867\n",
      "iteration: 300; loss = 3.969238758087158\n",
      "iteration: 400; loss = 6.543637275695801\n"
     ]
    },
    {
     "name": "stderr",
     "output_type": "stream",
     "text": [
      "  8%|▊         | 8/100 [00:30<05:58,  3.89s/it]"
     ]
    },
    {
     "name": "stdout",
     "output_type": "stream",
     "text": [
      "iteration: 500; loss = 6.475584983825684\n",
      "iteration: 0; loss = 7.0108489990234375\n",
      "iteration: 100; loss = 6.38168478012085\n",
      "iteration: 200; loss = 8.961115837097168\n",
      "iteration: 300; loss = 3.191039800643921\n",
      "iteration: 400; loss = 6.8591413497924805\n"
     ]
    },
    {
     "name": "stderr",
     "output_type": "stream",
     "text": [
      "  9%|▉         | 9/100 [00:34<05:54,  3.90s/it]"
     ]
    },
    {
     "name": "stdout",
     "output_type": "stream",
     "text": [
      "iteration: 500; loss = 5.360538482666016\n",
      "iteration: 0; loss = 5.771203517913818\n",
      "iteration: 100; loss = 4.945820331573486\n",
      "iteration: 200; loss = 9.13500690460205\n",
      "iteration: 300; loss = 2.3567795753479004\n",
      "iteration: 400; loss = 7.028533935546875\n"
     ]
    },
    {
     "name": "stderr",
     "output_type": "stream",
     "text": [
      " 10%|█         | 10/100 [00:38<05:49,  3.88s/it]"
     ]
    },
    {
     "name": "stdout",
     "output_type": "stream",
     "text": [
      "iteration: 500; loss = 3.963198661804199\n",
      "iteration: 0; loss = 4.375500202178955\n",
      "iteration: 100; loss = 3.294252872467041\n",
      "iteration: 200; loss = 9.02314281463623\n",
      "iteration: 300; loss = 1.7167831659317017\n",
      "iteration: 400; loss = 7.054058074951172\n"
     ]
    },
    {
     "name": "stderr",
     "output_type": "stream",
     "text": [
      " 11%|█         | 11/100 [00:42<05:45,  3.88s/it]"
     ]
    },
    {
     "name": "stdout",
     "output_type": "stream",
     "text": [
      "iteration: 500; loss = 2.9288854598999023\n",
      "iteration: 0; loss = 3.0526437759399414\n",
      "iteration: 100; loss = 2.660667896270752\n",
      "iteration: 200; loss = 8.753861427307129\n",
      "iteration: 300; loss = 1.2726259231567383\n",
      "iteration: 400; loss = 6.638981819152832\n"
     ]
    },
    {
     "name": "stderr",
     "output_type": "stream",
     "text": [
      " 12%|█▏        | 12/100 [00:46<05:40,  3.87s/it]"
     ]
    },
    {
     "name": "stdout",
     "output_type": "stream",
     "text": [
      "iteration: 500; loss = 2.4212327003479004\n",
      "iteration: 0; loss = 2.4468154907226562\n",
      "iteration: 100; loss = 2.287660837173462\n",
      "iteration: 200; loss = 8.56445598602295\n",
      "iteration: 300; loss = 1.049000859260559\n",
      "iteration: 400; loss = 6.491892337799072\n"
     ]
    },
    {
     "name": "stderr",
     "output_type": "stream",
     "text": [
      " 13%|█▎        | 13/100 [00:50<05:37,  3.88s/it]"
     ]
    },
    {
     "name": "stdout",
     "output_type": "stream",
     "text": [
      "iteration: 500; loss = 2.254035472869873\n",
      "iteration: 0; loss = 2.2340099811553955\n",
      "iteration: 100; loss = 2.0648574829101562\n",
      "iteration: 200; loss = 8.511449813842773\n",
      "iteration: 300; loss = 0.9562273621559143\n",
      "iteration: 400; loss = 6.287265777587891\n"
     ]
    },
    {
     "name": "stderr",
     "output_type": "stream",
     "text": [
      " 14%|█▍        | 14/100 [00:54<05:34,  3.89s/it]"
     ]
    },
    {
     "name": "stdout",
     "output_type": "stream",
     "text": [
      "iteration: 500; loss = 2.184464454650879\n",
      "iteration: 0; loss = 2.135382890701294\n",
      "iteration: 100; loss = 1.93131685256958\n",
      "iteration: 200; loss = 8.381985664367676\n",
      "iteration: 300; loss = 0.8499190807342529\n",
      "iteration: 400; loss = 6.386030197143555\n"
     ]
    },
    {
     "name": "stderr",
     "output_type": "stream",
     "text": [
      " 15%|█▌        | 15/100 [00:58<05:30,  3.89s/it]"
     ]
    },
    {
     "name": "stdout",
     "output_type": "stream",
     "text": [
      "iteration: 500; loss = 2.251161575317383\n",
      "iteration: 0; loss = 2.1765263080596924\n",
      "iteration: 100; loss = 1.658082127571106\n",
      "iteration: 200; loss = 8.375616073608398\n",
      "iteration: 300; loss = 0.8569464683532715\n",
      "iteration: 400; loss = 6.131328582763672\n"
     ]
    },
    {
     "name": "stderr",
     "output_type": "stream",
     "text": [
      " 16%|█▌        | 16/100 [01:01<05:27,  3.89s/it]"
     ]
    },
    {
     "name": "stdout",
     "output_type": "stream",
     "text": [
      "iteration: 500; loss = 2.2458486557006836\n",
      "iteration: 0; loss = 2.2028536796569824\n",
      "iteration: 100; loss = 1.6291404962539673\n",
      "iteration: 200; loss = 8.295654296875\n",
      "iteration: 300; loss = 0.836912989616394\n",
      "iteration: 400; loss = 6.476940631866455\n"
     ]
    },
    {
     "name": "stderr",
     "output_type": "stream",
     "text": [
      " 17%|█▋        | 17/100 [01:05<05:22,  3.88s/it]"
     ]
    },
    {
     "name": "stdout",
     "output_type": "stream",
     "text": [
      "iteration: 500; loss = 2.2653183937072754\n",
      "iteration: 0; loss = 2.222468137741089\n",
      "iteration: 100; loss = 1.7787351608276367\n",
      "iteration: 200; loss = 8.267036437988281\n",
      "iteration: 300; loss = 0.8060801029205322\n",
      "iteration: 400; loss = 6.345046043395996\n"
     ]
    },
    {
     "name": "stderr",
     "output_type": "stream",
     "text": [
      " 18%|█▊        | 18/100 [01:09<05:17,  3.88s/it]"
     ]
    },
    {
     "name": "stdout",
     "output_type": "stream",
     "text": [
      "iteration: 500; loss = 2.032024383544922\n",
      "iteration: 0; loss = 1.9355263710021973\n",
      "iteration: 100; loss = 1.7555478811264038\n",
      "iteration: 200; loss = 8.132591247558594\n",
      "iteration: 300; loss = 0.724175214767456\n",
      "iteration: 400; loss = 6.342360496520996\n"
     ]
    },
    {
     "name": "stderr",
     "output_type": "stream",
     "text": [
      " 19%|█▉        | 19/100 [01:13<05:14,  3.88s/it]"
     ]
    },
    {
     "name": "stdout",
     "output_type": "stream",
     "text": [
      "iteration: 500; loss = 2.16489839553833\n",
      "iteration: 0; loss = 2.061400890350342\n",
      "iteration: 100; loss = 1.6041103601455688\n",
      "iteration: 200; loss = 8.27747631072998\n",
      "iteration: 300; loss = 0.6633046865463257\n",
      "iteration: 400; loss = 6.290240287780762\n"
     ]
    },
    {
     "name": "stderr",
     "output_type": "stream",
     "text": [
      " 20%|██        | 20/100 [01:17<05:09,  3.87s/it]"
     ]
    },
    {
     "name": "stdout",
     "output_type": "stream",
     "text": [
      "iteration: 500; loss = 2.2036867141723633\n",
      "iteration: 0; loss = 2.107423782348633\n",
      "iteration: 100; loss = 1.5277632474899292\n",
      "iteration: 200; loss = 8.135238647460938\n",
      "iteration: 300; loss = 0.6450411081314087\n",
      "iteration: 400; loss = 6.184232234954834\n"
     ]
    },
    {
     "name": "stderr",
     "output_type": "stream",
     "text": [
      " 21%|██        | 21/100 [01:21<05:06,  3.88s/it]"
     ]
    },
    {
     "name": "stdout",
     "output_type": "stream",
     "text": [
      "iteration: 500; loss = 2.17785906791687\n",
      "iteration: 0; loss = 2.0751919746398926\n",
      "iteration: 100; loss = 1.6716526746749878\n",
      "iteration: 200; loss = 8.21340274810791\n",
      "iteration: 300; loss = 0.6206797361373901\n",
      "iteration: 400; loss = 6.245696067810059\n"
     ]
    },
    {
     "name": "stderr",
     "output_type": "stream",
     "text": [
      " 22%|██▏       | 22/100 [01:25<05:01,  3.87s/it]"
     ]
    },
    {
     "name": "stdout",
     "output_type": "stream",
     "text": [
      "iteration: 500; loss = 2.383596420288086\n",
      "iteration: 0; loss = 2.2958855628967285\n",
      "iteration: 100; loss = 1.597424864768982\n",
      "iteration: 200; loss = 8.24795150756836\n",
      "iteration: 300; loss = 0.5408060550689697\n",
      "iteration: 400; loss = 6.000288009643555\n"
     ]
    },
    {
     "name": "stderr",
     "output_type": "stream",
     "text": [
      " 23%|██▎       | 23/100 [01:29<04:58,  3.88s/it]"
     ]
    },
    {
     "name": "stdout",
     "output_type": "stream",
     "text": [
      "iteration: 500; loss = 2.368208169937134\n",
      "iteration: 0; loss = 2.2687196731567383\n",
      "iteration: 100; loss = 1.6061583757400513\n",
      "iteration: 200; loss = 8.35826301574707\n",
      "iteration: 300; loss = 0.5173569321632385\n",
      "iteration: 400; loss = 5.979513168334961\n"
     ]
    },
    {
     "name": "stderr",
     "output_type": "stream",
     "text": [
      " 24%|██▍       | 24/100 [01:32<04:55,  3.88s/it]"
     ]
    },
    {
     "name": "stdout",
     "output_type": "stream",
     "text": [
      "iteration: 500; loss = 2.3392558097839355\n",
      "iteration: 0; loss = 2.238534927368164\n",
      "iteration: 100; loss = 1.7006912231445312\n",
      "iteration: 200; loss = 8.521159172058105\n",
      "iteration: 300; loss = 0.4458984136581421\n",
      "iteration: 400; loss = 5.66026496887207\n"
     ]
    },
    {
     "name": "stderr",
     "output_type": "stream",
     "text": [
      " 25%|██▌       | 25/100 [01:36<04:52,  3.91s/it]"
     ]
    },
    {
     "name": "stdout",
     "output_type": "stream",
     "text": [
      "iteration: 500; loss = 2.3267292976379395\n",
      "iteration: 0; loss = 2.221757411956787\n",
      "iteration: 100; loss = 1.6734309196472168\n",
      "iteration: 200; loss = 8.519609451293945\n",
      "iteration: 300; loss = 0.48365849256515503\n",
      "iteration: 400; loss = 5.720831394195557\n"
     ]
    },
    {
     "name": "stderr",
     "output_type": "stream",
     "text": [
      " 26%|██▌       | 26/100 [01:40<04:47,  3.89s/it]"
     ]
    },
    {
     "name": "stdout",
     "output_type": "stream",
     "text": [
      "iteration: 500; loss = 2.218323230743408\n",
      "iteration: 0; loss = 2.0980019569396973\n",
      "iteration: 100; loss = 1.5693167448043823\n",
      "iteration: 200; loss = 8.897041320800781\n",
      "iteration: 300; loss = 0.45329707860946655\n",
      "iteration: 400; loss = 5.924520015716553\n"
     ]
    },
    {
     "name": "stderr",
     "output_type": "stream",
     "text": [
      " 27%|██▋       | 27/100 [01:44<04:43,  3.88s/it]"
     ]
    },
    {
     "name": "stdout",
     "output_type": "stream",
     "text": [
      "iteration: 500; loss = 2.24137544631958\n",
      "iteration: 0; loss = 2.1119091510772705\n",
      "iteration: 100; loss = 1.7445149421691895\n",
      "iteration: 200; loss = 8.863329887390137\n",
      "iteration: 300; loss = 0.4704750180244446\n",
      "iteration: 400; loss = 5.239340782165527\n"
     ]
    },
    {
     "name": "stderr",
     "output_type": "stream",
     "text": [
      " 28%|██▊       | 28/100 [01:48<04:39,  3.89s/it]"
     ]
    },
    {
     "name": "stdout",
     "output_type": "stream",
     "text": [
      "iteration: 500; loss = 2.255312919616699\n",
      "iteration: 0; loss = 2.15344500541687\n",
      "iteration: 100; loss = 1.7391767501831055\n",
      "iteration: 200; loss = 9.311077117919922\n",
      "iteration: 300; loss = 0.5450315475463867\n",
      "iteration: 400; loss = 5.220911502838135\n"
     ]
    },
    {
     "name": "stderr",
     "output_type": "stream",
     "text": [
      " 29%|██▉       | 29/100 [01:52<04:37,  3.91s/it]"
     ]
    },
    {
     "name": "stdout",
     "output_type": "stream",
     "text": [
      "iteration: 500; loss = 1.9269769191741943\n",
      "iteration: 0; loss = 1.8354120254516602\n",
      "iteration: 100; loss = 1.708784818649292\n",
      "iteration: 200; loss = 9.868010520935059\n",
      "iteration: 300; loss = 0.3840988278388977\n",
      "iteration: 400; loss = 4.727683067321777\n"
     ]
    },
    {
     "name": "stderr",
     "output_type": "stream",
     "text": [
      " 30%|███       | 30/100 [01:56<04:33,  3.90s/it]"
     ]
    },
    {
     "name": "stdout",
     "output_type": "stream",
     "text": [
      "iteration: 500; loss = 1.9040393829345703\n",
      "iteration: 0; loss = 1.7807788848876953\n",
      "iteration: 100; loss = 1.773486852645874\n",
      "iteration: 200; loss = 9.966211318969727\n",
      "iteration: 300; loss = 0.44074547290802\n",
      "iteration: 400; loss = 4.797552108764648\n"
     ]
    },
    {
     "name": "stderr",
     "output_type": "stream",
     "text": [
      " 31%|███       | 31/100 [02:00<04:27,  3.88s/it]"
     ]
    },
    {
     "name": "stdout",
     "output_type": "stream",
     "text": [
      "iteration: 500; loss = 1.88968825340271\n",
      "iteration: 0; loss = 1.8169686794281006\n",
      "iteration: 100; loss = 1.6929643154144287\n",
      "iteration: 200; loss = 10.258719444274902\n",
      "iteration: 300; loss = 0.46417444944381714\n",
      "iteration: 400; loss = 4.7477335929870605\n"
     ]
    },
    {
     "name": "stderr",
     "output_type": "stream",
     "text": [
      " 32%|███▏      | 32/100 [02:03<04:22,  3.86s/it]"
     ]
    },
    {
     "name": "stdout",
     "output_type": "stream",
     "text": [
      "iteration: 500; loss = 1.8101134300231934\n",
      "iteration: 0; loss = 1.7377846240997314\n",
      "iteration: 100; loss = 1.9472274780273438\n",
      "iteration: 200; loss = 10.415637016296387\n",
      "iteration: 300; loss = 0.3988122045993805\n",
      "iteration: 400; loss = 4.79780912399292\n"
     ]
    },
    {
     "name": "stderr",
     "output_type": "stream",
     "text": [
      " 33%|███▎      | 33/100 [02:07<04:18,  3.85s/it]"
     ]
    },
    {
     "name": "stdout",
     "output_type": "stream",
     "text": [
      "iteration: 500; loss = 1.7916889190673828\n",
      "iteration: 0; loss = 1.698393702507019\n",
      "iteration: 100; loss = 1.6852480173110962\n",
      "iteration: 200; loss = 10.789766311645508\n",
      "iteration: 300; loss = 0.29944437742233276\n",
      "iteration: 400; loss = 4.814255714416504\n"
     ]
    },
    {
     "name": "stderr",
     "output_type": "stream",
     "text": [
      " 34%|███▍      | 34/100 [02:11<04:16,  3.89s/it]"
     ]
    },
    {
     "name": "stdout",
     "output_type": "stream",
     "text": [
      "iteration: 500; loss = 1.6647353172302246\n",
      "iteration: 0; loss = 1.5838909149169922\n",
      "iteration: 100; loss = 1.8741238117218018\n",
      "iteration: 200; loss = 10.825170516967773\n",
      "iteration: 300; loss = 0.3037537634372711\n",
      "iteration: 400; loss = 4.715598106384277\n"
     ]
    },
    {
     "name": "stderr",
     "output_type": "stream",
     "text": [
      " 35%|███▌      | 35/100 [02:15<04:13,  3.91s/it]"
     ]
    },
    {
     "name": "stdout",
     "output_type": "stream",
     "text": [
      "iteration: 500; loss = 1.569090723991394\n",
      "iteration: 0; loss = 1.4995472431182861\n",
      "iteration: 100; loss = 1.9873175621032715\n",
      "iteration: 200; loss = 11.314051628112793\n",
      "iteration: 300; loss = 0.24737876653671265\n",
      "iteration: 400; loss = 4.988848686218262\n"
     ]
    },
    {
     "name": "stderr",
     "output_type": "stream",
     "text": [
      " 36%|███▌      | 36/100 [02:19<04:09,  3.89s/it]"
     ]
    },
    {
     "name": "stdout",
     "output_type": "stream",
     "text": [
      "iteration: 500; loss = 1.396768569946289\n",
      "iteration: 0; loss = 1.341522455215454\n",
      "iteration: 100; loss = 1.968074083328247\n",
      "iteration: 200; loss = 11.04177474975586\n",
      "iteration: 300; loss = 0.07307561486959457\n",
      "iteration: 400; loss = 4.899199485778809\n"
     ]
    },
    {
     "name": "stderr",
     "output_type": "stream",
     "text": [
      " 37%|███▋      | 37/100 [02:23<04:05,  3.90s/it]"
     ]
    },
    {
     "name": "stdout",
     "output_type": "stream",
     "text": [
      "iteration: 500; loss = 1.3602477312088013\n",
      "iteration: 0; loss = 1.29351806640625\n",
      "iteration: 100; loss = 1.937696933746338\n",
      "iteration: 200; loss = 10.865859985351562\n",
      "iteration: 300; loss = 0.18870225548744202\n",
      "iteration: 400; loss = 5.651426315307617\n"
     ]
    },
    {
     "name": "stderr",
     "output_type": "stream",
     "text": [
      " 38%|███▊      | 38/100 [02:27<04:04,  3.94s/it]"
     ]
    },
    {
     "name": "stdout",
     "output_type": "stream",
     "text": [
      "iteration: 500; loss = 1.143810510635376\n",
      "iteration: 0; loss = 1.0766334533691406\n",
      "iteration: 100; loss = 1.8835645914077759\n",
      "iteration: 200; loss = 10.968644142150879\n",
      "iteration: 300; loss = 0.10381119698286057\n",
      "iteration: 400; loss = 5.253266334533691\n"
     ]
    },
    {
     "name": "stderr",
     "output_type": "stream",
     "text": [
      " 39%|███▉      | 39/100 [02:31<03:59,  3.92s/it]"
     ]
    },
    {
     "name": "stdout",
     "output_type": "stream",
     "text": [
      "iteration: 500; loss = 1.1727163791656494\n",
      "iteration: 0; loss = 1.1034274101257324\n",
      "iteration: 100; loss = 2.009164571762085\n",
      "iteration: 200; loss = 11.167764663696289\n",
      "iteration: 300; loss = 0.03613678365945816\n",
      "iteration: 400; loss = 5.468672275543213\n"
     ]
    },
    {
     "name": "stderr",
     "output_type": "stream",
     "text": [
      " 40%|████      | 40/100 [02:35<03:53,  3.89s/it]"
     ]
    },
    {
     "name": "stdout",
     "output_type": "stream",
     "text": [
      "iteration: 500; loss = 1.1036512851715088\n",
      "iteration: 0; loss = 1.0282841920852661\n",
      "iteration: 100; loss = 2.2225594520568848\n",
      "iteration: 200; loss = 11.220817565917969\n",
      "iteration: 300; loss = 0.03474850952625275\n",
      "iteration: 400; loss = 5.668136119842529\n"
     ]
    },
    {
     "name": "stderr",
     "output_type": "stream",
     "text": [
      " 41%|████      | 41/100 [02:39<03:49,  3.89s/it]"
     ]
    },
    {
     "name": "stdout",
     "output_type": "stream",
     "text": [
      "iteration: 500; loss = 1.0813233852386475\n",
      "iteration: 0; loss = 0.9982860088348389\n",
      "iteration: 100; loss = 2.335916757583618\n",
      "iteration: 200; loss = 11.778331756591797\n",
      "iteration: 300; loss = 0.02597595751285553\n",
      "iteration: 400; loss = 6.105434894561768\n"
     ]
    },
    {
     "name": "stderr",
     "output_type": "stream",
     "text": [
      " 42%|████▏     | 42/100 [02:42<03:44,  3.87s/it]"
     ]
    },
    {
     "name": "stdout",
     "output_type": "stream",
     "text": [
      "iteration: 500; loss = 1.0205752849578857\n",
      "iteration: 0; loss = 0.9381512999534607\n",
      "iteration: 100; loss = 2.6216795444488525\n",
      "iteration: 200; loss = 11.824182510375977\n",
      "iteration: 300; loss = 0.030441807582974434\n",
      "iteration: 400; loss = 5.859167098999023\n"
     ]
    },
    {
     "name": "stderr",
     "output_type": "stream",
     "text": [
      " 43%|████▎     | 43/100 [02:46<03:41,  3.88s/it]"
     ]
    },
    {
     "name": "stdout",
     "output_type": "stream",
     "text": [
      "iteration: 500; loss = 0.9462982416152954\n",
      "iteration: 0; loss = 0.8588389158248901\n",
      "iteration: 100; loss = 2.4937920570373535\n",
      "iteration: 200; loss = 11.469802856445312\n",
      "iteration: 300; loss = 0.009451648220419884\n",
      "iteration: 400; loss = 5.911890983581543\n"
     ]
    },
    {
     "name": "stderr",
     "output_type": "stream",
     "text": [
      " 44%|████▍     | 44/100 [02:50<03:37,  3.88s/it]"
     ]
    },
    {
     "name": "stdout",
     "output_type": "stream",
     "text": [
      "iteration: 500; loss = 0.7304590940475464\n",
      "iteration: 0; loss = 0.651516318321228\n",
      "iteration: 100; loss = 2.6815969944000244\n",
      "iteration: 200; loss = 11.606452941894531\n",
      "iteration: 300; loss = 0.0037793810479342937\n",
      "iteration: 400; loss = 6.340647220611572\n"
     ]
    },
    {
     "name": "stderr",
     "output_type": "stream",
     "text": [
      " 45%|████▌     | 45/100 [02:54<03:32,  3.86s/it]"
     ]
    },
    {
     "name": "stdout",
     "output_type": "stream",
     "text": [
      "iteration: 500; loss = 0.6566365957260132\n",
      "iteration: 0; loss = 0.5807203054428101\n",
      "iteration: 100; loss = 2.6407880783081055\n",
      "iteration: 200; loss = 11.375301361083984\n",
      "iteration: 300; loss = 0.005803077016025782\n",
      "iteration: 400; loss = 6.371323585510254\n"
     ]
    },
    {
     "name": "stderr",
     "output_type": "stream",
     "text": [
      " 46%|████▌     | 46/100 [02:58<03:27,  3.84s/it]"
     ]
    },
    {
     "name": "stdout",
     "output_type": "stream",
     "text": [
      "iteration: 500; loss = 0.7516423463821411\n",
      "iteration: 0; loss = 0.6612533330917358\n",
      "iteration: 100; loss = 2.7354319095611572\n",
      "iteration: 200; loss = 11.540628433227539\n",
      "iteration: 300; loss = 0.031105246394872665\n",
      "iteration: 400; loss = 6.681894302368164\n"
     ]
    },
    {
     "name": "stderr",
     "output_type": "stream",
     "text": [
      " 47%|████▋     | 47/100 [03:02<03:25,  3.87s/it]"
     ]
    },
    {
     "name": "stdout",
     "output_type": "stream",
     "text": [
      "iteration: 500; loss = 0.6968153715133667\n",
      "iteration: 0; loss = 0.5701179504394531\n",
      "iteration: 100; loss = 2.966048240661621\n",
      "iteration: 200; loss = 11.661005020141602\n",
      "iteration: 300; loss = 0.05613144114613533\n",
      "iteration: 400; loss = 6.714278221130371\n"
     ]
    },
    {
     "name": "stderr",
     "output_type": "stream",
     "text": [
      " 48%|████▊     | 48/100 [03:06<03:23,  3.90s/it]"
     ]
    },
    {
     "name": "stdout",
     "output_type": "stream",
     "text": [
      "iteration: 500; loss = 0.667086660861969\n",
      "iteration: 0; loss = 0.5623563528060913\n",
      "iteration: 100; loss = 2.731074333190918\n",
      "iteration: 200; loss = 11.668315887451172\n",
      "iteration: 300; loss = 0.09074877202510834\n",
      "iteration: 400; loss = 6.855045318603516\n"
     ]
    },
    {
     "name": "stderr",
     "output_type": "stream",
     "text": [
      " 49%|████▉     | 49/100 [03:10<03:18,  3.89s/it]"
     ]
    },
    {
     "name": "stdout",
     "output_type": "stream",
     "text": [
      "iteration: 500; loss = 0.5750209093093872\n",
      "iteration: 0; loss = 0.49738970398902893\n",
      "iteration: 100; loss = 2.983428478240967\n",
      "iteration: 200; loss = 11.775721549987793\n",
      "iteration: 300; loss = 0.21331867575645447\n",
      "iteration: 400; loss = 6.849189758300781\n"
     ]
    },
    {
     "name": "stderr",
     "output_type": "stream",
     "text": [
      " 50%|█████     | 50/100 [03:14<03:14,  3.88s/it]"
     ]
    },
    {
     "name": "stdout",
     "output_type": "stream",
     "text": [
      "iteration: 500; loss = 0.5946893095970154\n",
      "iteration: 0; loss = 0.45115548372268677\n",
      "iteration: 100; loss = 3.0958781242370605\n",
      "iteration: 200; loss = 11.917928695678711\n",
      "iteration: 300; loss = 0.20128780603408813\n",
      "iteration: 400; loss = 6.80536413192749\n"
     ]
    },
    {
     "name": "stderr",
     "output_type": "stream",
     "text": [
      " 51%|█████     | 51/100 [03:17<03:09,  3.87s/it]"
     ]
    },
    {
     "name": "stdout",
     "output_type": "stream",
     "text": [
      "iteration: 500; loss = 0.4988340437412262\n",
      "iteration: 0; loss = 0.36728715896606445\n",
      "iteration: 100; loss = 3.40805721282959\n",
      "iteration: 200; loss = 11.950552940368652\n",
      "iteration: 300; loss = 0.19663292169570923\n",
      "iteration: 400; loss = 6.7039690017700195\n"
     ]
    },
    {
     "name": "stderr",
     "output_type": "stream",
     "text": [
      " 52%|█████▏    | 52/100 [03:21<03:07,  3.90s/it]"
     ]
    },
    {
     "name": "stdout",
     "output_type": "stream",
     "text": [
      "iteration: 500; loss = 0.49745088815689087\n",
      "iteration: 0; loss = 0.3600567877292633\n",
      "iteration: 100; loss = 3.424872398376465\n",
      "iteration: 200; loss = 11.994743347167969\n",
      "iteration: 300; loss = 0.21268656849861145\n",
      "iteration: 400; loss = 6.9080095291137695\n"
     ]
    },
    {
     "name": "stderr",
     "output_type": "stream",
     "text": [
      " 53%|█████▎    | 53/100 [03:25<03:04,  3.93s/it]"
     ]
    },
    {
     "name": "stdout",
     "output_type": "stream",
     "text": [
      "iteration: 500; loss = 0.436740517616272\n",
      "iteration: 0; loss = 0.30783915519714355\n",
      "iteration: 100; loss = 3.642343044281006\n",
      "iteration: 200; loss = 12.18592643737793\n",
      "iteration: 300; loss = 0.25019997358322144\n",
      "iteration: 400; loss = 6.215667724609375\n"
     ]
    },
    {
     "name": "stderr",
     "output_type": "stream",
     "text": [
      " 54%|█████▍    | 54/100 [03:29<02:59,  3.91s/it]"
     ]
    },
    {
     "name": "stdout",
     "output_type": "stream",
     "text": [
      "iteration: 500; loss = 0.37448349595069885\n",
      "iteration: 0; loss = 0.2513349652290344\n",
      "iteration: 100; loss = 3.7123615741729736\n",
      "iteration: 200; loss = 12.16972827911377\n",
      "iteration: 300; loss = 0.21233484148979187\n",
      "iteration: 400; loss = 6.8337626457214355\n"
     ]
    },
    {
     "name": "stderr",
     "output_type": "stream",
     "text": [
      " 55%|█████▌    | 55/100 [03:33<02:56,  3.91s/it]"
     ]
    },
    {
     "name": "stdout",
     "output_type": "stream",
     "text": [
      "iteration: 500; loss = 0.38207465410232544\n",
      "iteration: 0; loss = 0.25271719694137573\n",
      "iteration: 100; loss = 3.840796709060669\n",
      "iteration: 200; loss = 12.236946105957031\n",
      "iteration: 300; loss = 0.19437971711158752\n",
      "iteration: 400; loss = 6.899389266967773\n"
     ]
    },
    {
     "name": "stderr",
     "output_type": "stream",
     "text": [
      " 56%|█████▌    | 56/100 [03:37<02:51,  3.90s/it]"
     ]
    },
    {
     "name": "stdout",
     "output_type": "stream",
     "text": [
      "iteration: 500; loss = 0.3379564881324768\n",
      "iteration: 0; loss = 0.21056392788887024\n",
      "iteration: 100; loss = 3.673654556274414\n",
      "iteration: 200; loss = 12.229216575622559\n",
      "iteration: 300; loss = 0.2005370557308197\n",
      "iteration: 400; loss = 7.118080139160156\n"
     ]
    },
    {
     "name": "stderr",
     "output_type": "stream",
     "text": [
      " 57%|█████▋    | 57/100 [03:41<02:47,  3.89s/it]"
     ]
    },
    {
     "name": "stdout",
     "output_type": "stream",
     "text": [
      "iteration: 500; loss = 0.3128776550292969\n",
      "iteration: 0; loss = 0.19160565733909607\n",
      "iteration: 100; loss = 3.9372847080230713\n",
      "iteration: 200; loss = 12.085371971130371\n",
      "iteration: 300; loss = 0.16628560423851013\n",
      "iteration: 400; loss = 6.762489318847656\n"
     ]
    },
    {
     "name": "stderr",
     "output_type": "stream",
     "text": [
      " 58%|█████▊    | 58/100 [03:45<02:42,  3.87s/it]"
     ]
    },
    {
     "name": "stdout",
     "output_type": "stream",
     "text": [
      "iteration: 500; loss = 0.29650598764419556\n",
      "iteration: 0; loss = 0.1692863404750824\n",
      "iteration: 100; loss = 4.068973064422607\n",
      "iteration: 200; loss = 12.144269943237305\n",
      "iteration: 300; loss = 0.1523376852273941\n",
      "iteration: 400; loss = 7.021800994873047\n"
     ]
    },
    {
     "name": "stderr",
     "output_type": "stream",
     "text": [
      " 59%|█████▉    | 59/100 [03:49<02:38,  3.87s/it]"
     ]
    },
    {
     "name": "stdout",
     "output_type": "stream",
     "text": [
      "iteration: 500; loss = 0.2560061812400818\n",
      "iteration: 0; loss = 0.13529321551322937\n",
      "iteration: 100; loss = 3.8161110877990723\n",
      "iteration: 200; loss = 12.541552543640137\n",
      "iteration: 300; loss = 0.14697343111038208\n",
      "iteration: 400; loss = 7.064723968505859\n"
     ]
    },
    {
     "name": "stderr",
     "output_type": "stream",
     "text": [
      " 60%|██████    | 60/100 [03:52<02:34,  3.85s/it]"
     ]
    },
    {
     "name": "stdout",
     "output_type": "stream",
     "text": [
      "iteration: 500; loss = 0.22259238362312317\n",
      "iteration: 0; loss = 0.10774417966604233\n",
      "iteration: 100; loss = 3.731062173843384\n",
      "iteration: 200; loss = 12.459709167480469\n",
      "iteration: 300; loss = 0.1875934600830078\n",
      "iteration: 400; loss = 7.508918762207031\n"
     ]
    },
    {
     "name": "stderr",
     "output_type": "stream",
     "text": [
      " 61%|██████    | 61/100 [03:56<02:30,  3.86s/it]"
     ]
    },
    {
     "name": "stdout",
     "output_type": "stream",
     "text": [
      "iteration: 500; loss = 0.2408868670463562\n",
      "iteration: 0; loss = 0.11774246394634247\n",
      "iteration: 100; loss = 3.6843483448028564\n",
      "iteration: 200; loss = 12.28622055053711\n",
      "iteration: 300; loss = 0.15346962213516235\n",
      "iteration: 400; loss = 7.3636980056762695\n"
     ]
    },
    {
     "name": "stderr",
     "output_type": "stream",
     "text": [
      " 62%|██████▏   | 62/100 [04:00<02:26,  3.85s/it]"
     ]
    },
    {
     "name": "stdout",
     "output_type": "stream",
     "text": [
      "iteration: 500; loss = 0.1758301705121994\n",
      "iteration: 0; loss = 0.07161357998847961\n",
      "iteration: 100; loss = 3.8486804962158203\n",
      "iteration: 200; loss = 12.442198753356934\n",
      "iteration: 300; loss = 0.16910725831985474\n",
      "iteration: 400; loss = 7.344019889831543\n"
     ]
    },
    {
     "name": "stderr",
     "output_type": "stream",
     "text": [
      " 63%|██████▎   | 63/100 [04:04<02:22,  3.85s/it]"
     ]
    },
    {
     "name": "stdout",
     "output_type": "stream",
     "text": [
      "iteration: 500; loss = 0.1519872546195984\n",
      "iteration: 0; loss = 0.054769594222307205\n",
      "iteration: 100; loss = 3.8048036098480225\n",
      "iteration: 200; loss = 12.59544563293457\n",
      "iteration: 300; loss = 0.16139231622219086\n",
      "iteration: 400; loss = 7.514104843139648\n"
     ]
    },
    {
     "name": "stderr",
     "output_type": "stream",
     "text": [
      " 64%|██████▍   | 64/100 [04:08<02:18,  3.85s/it]"
     ]
    },
    {
     "name": "stdout",
     "output_type": "stream",
     "text": [
      "iteration: 500; loss = 0.16840288043022156\n",
      "iteration: 0; loss = 0.06102832406759262\n",
      "iteration: 100; loss = 3.9542574882507324\n",
      "iteration: 200; loss = 12.659746170043945\n",
      "iteration: 300; loss = 0.1292160451412201\n",
      "iteration: 400; loss = 7.588276386260986\n"
     ]
    },
    {
     "name": "stderr",
     "output_type": "stream",
     "text": [
      " 65%|██████▌   | 65/100 [04:12<02:14,  3.85s/it]"
     ]
    },
    {
     "name": "stdout",
     "output_type": "stream",
     "text": [
      "iteration: 500; loss = 0.14305312931537628\n",
      "iteration: 0; loss = 0.04333237558603287\n",
      "iteration: 100; loss = 3.8866779804229736\n",
      "iteration: 200; loss = 12.667289733886719\n",
      "iteration: 300; loss = 0.1009996235370636\n",
      "iteration: 400; loss = 7.6655964851379395\n"
     ]
    },
    {
     "name": "stderr",
     "output_type": "stream",
     "text": [
      " 66%|██████▌   | 66/100 [04:15<02:10,  3.84s/it]"
     ]
    },
    {
     "name": "stdout",
     "output_type": "stream",
     "text": [
      "iteration: 500; loss = 0.1338338702917099\n",
      "iteration: 0; loss = 0.037391699850559235\n",
      "iteration: 100; loss = 3.8800933361053467\n",
      "iteration: 200; loss = 12.73422622680664\n",
      "iteration: 300; loss = 0.13153252005577087\n",
      "iteration: 400; loss = 7.603968620300293\n"
     ]
    },
    {
     "name": "stderr",
     "output_type": "stream",
     "text": [
      " 67%|██████▋   | 67/100 [04:19<02:07,  3.86s/it]"
     ]
    },
    {
     "name": "stdout",
     "output_type": "stream",
     "text": [
      "iteration: 500; loss = 0.12025253474712372\n",
      "iteration: 0; loss = 0.029721707105636597\n",
      "iteration: 100; loss = 3.703580617904663\n",
      "iteration: 200; loss = 12.73393726348877\n",
      "iteration: 300; loss = 0.10371480882167816\n",
      "iteration: 400; loss = 7.638673305511475\n"
     ]
    },
    {
     "name": "stderr",
     "output_type": "stream",
     "text": [
      " 68%|██████▊   | 68/100 [04:23<02:03,  3.86s/it]"
     ]
    },
    {
     "name": "stdout",
     "output_type": "stream",
     "text": [
      "iteration: 500; loss = 0.1353093683719635\n",
      "iteration: 0; loss = 0.03398757800459862\n",
      "iteration: 100; loss = 3.673828601837158\n",
      "iteration: 200; loss = 12.830680847167969\n",
      "iteration: 300; loss = 0.09548327326774597\n",
      "iteration: 400; loss = 7.590639114379883\n"
     ]
    },
    {
     "name": "stderr",
     "output_type": "stream",
     "text": [
      " 69%|██████▉   | 69/100 [04:27<01:59,  3.85s/it]"
     ]
    },
    {
     "name": "stdout",
     "output_type": "stream",
     "text": [
      "iteration: 500; loss = 0.11864344030618668\n",
      "iteration: 0; loss = 0.02717379666864872\n",
      "iteration: 100; loss = 3.690321922302246\n",
      "iteration: 200; loss = 12.832741737365723\n",
      "iteration: 300; loss = 0.1037289947271347\n",
      "iteration: 400; loss = 7.720757484436035\n"
     ]
    },
    {
     "name": "stderr",
     "output_type": "stream",
     "text": [
      " 70%|███████   | 70/100 [04:31<01:55,  3.84s/it]"
     ]
    },
    {
     "name": "stdout",
     "output_type": "stream",
     "text": [
      "iteration: 500; loss = 0.11358429491519928\n",
      "iteration: 0; loss = 0.022184422239661217\n",
      "iteration: 100; loss = 3.7653160095214844\n",
      "iteration: 200; loss = 12.999534606933594\n",
      "iteration: 300; loss = 0.1007683277130127\n",
      "iteration: 400; loss = 7.588344573974609\n"
     ]
    },
    {
     "name": "stderr",
     "output_type": "stream",
     "text": [
      " 71%|███████   | 71/100 [04:35<01:51,  3.83s/it]"
     ]
    },
    {
     "name": "stdout",
     "output_type": "stream",
     "text": [
      "iteration: 500; loss = 0.11523805558681488\n",
      "iteration: 0; loss = 0.023661376908421516\n",
      "iteration: 100; loss = 3.7590041160583496\n",
      "iteration: 200; loss = 12.60775375366211\n",
      "iteration: 300; loss = 0.07995879650115967\n",
      "iteration: 400; loss = 7.67667293548584\n"
     ]
    },
    {
     "name": "stderr",
     "output_type": "stream",
     "text": [
      " 72%|███████▏  | 72/100 [04:38<01:47,  3.83s/it]"
     ]
    },
    {
     "name": "stdout",
     "output_type": "stream",
     "text": [
      "iteration: 500; loss = 0.08349348604679108\n",
      "iteration: 0; loss = 0.012586266733705997\n",
      "iteration: 100; loss = 3.5710716247558594\n",
      "iteration: 200; loss = 12.563961029052734\n",
      "iteration: 300; loss = 0.0491805337369442\n",
      "iteration: 400; loss = 7.91780948638916\n"
     ]
    },
    {
     "name": "stderr",
     "output_type": "stream",
     "text": [
      " 73%|███████▎  | 73/100 [04:42<01:43,  3.84s/it]"
     ]
    },
    {
     "name": "stdout",
     "output_type": "stream",
     "text": [
      "iteration: 500; loss = 0.09958681464195251\n",
      "iteration: 0; loss = 0.021198445931077003\n",
      "iteration: 100; loss = 3.187225341796875\n",
      "iteration: 200; loss = 13.185932159423828\n",
      "iteration: 300; loss = 0.05168923735618591\n",
      "iteration: 400; loss = 7.643224716186523\n"
     ]
    },
    {
     "name": "stderr",
     "output_type": "stream",
     "text": [
      " 74%|███████▍  | 74/100 [04:46<01:41,  3.89s/it]"
     ]
    },
    {
     "name": "stdout",
     "output_type": "stream",
     "text": [
      "iteration: 500; loss = 0.07525631040334702\n",
      "iteration: 0; loss = 0.013396669179201126\n",
      "iteration: 100; loss = 3.04948091506958\n",
      "iteration: 200; loss = 13.719514846801758\n",
      "iteration: 300; loss = 0.07630482316017151\n",
      "iteration: 400; loss = 7.821937561035156\n"
     ]
    },
    {
     "name": "stderr",
     "output_type": "stream",
     "text": [
      " 75%|███████▌  | 75/100 [04:50<01:37,  3.90s/it]"
     ]
    },
    {
     "name": "stdout",
     "output_type": "stream",
     "text": [
      "iteration: 500; loss = 0.06262525916099548\n",
      "iteration: 0; loss = 0.008461183868348598\n",
      "iteration: 100; loss = 3.2706804275512695\n",
      "iteration: 200; loss = 13.697368621826172\n",
      "iteration: 300; loss = 0.05290762335062027\n",
      "iteration: 400; loss = 7.869093418121338\n"
     ]
    },
    {
     "name": "stderr",
     "output_type": "stream",
     "text": [
      " 76%|███████▌  | 76/100 [04:54<01:33,  3.88s/it]"
     ]
    },
    {
     "name": "stdout",
     "output_type": "stream",
     "text": [
      "iteration: 500; loss = 0.07093361765146255\n",
      "iteration: 0; loss = 0.01137813925743103\n",
      "iteration: 100; loss = 3.143610715866089\n",
      "iteration: 200; loss = 13.594944953918457\n",
      "iteration: 300; loss = 0.039649542421102524\n",
      "iteration: 400; loss = 8.277748107910156\n"
     ]
    },
    {
     "name": "stderr",
     "output_type": "stream",
     "text": [
      " 77%|███████▋  | 77/100 [04:58<01:29,  3.89s/it]"
     ]
    },
    {
     "name": "stdout",
     "output_type": "stream",
     "text": [
      "iteration: 500; loss = 0.05696626007556915\n",
      "iteration: 0; loss = 0.007130442652851343\n",
      "iteration: 100; loss = 3.0460731983184814\n",
      "iteration: 200; loss = 13.748403549194336\n",
      "iteration: 300; loss = 0.07912320643663406\n",
      "iteration: 400; loss = 8.074652671813965\n"
     ]
    },
    {
     "name": "stderr",
     "output_type": "stream",
     "text": [
      " 78%|███████▊  | 78/100 [05:02<01:25,  3.90s/it]"
     ]
    },
    {
     "name": "stdout",
     "output_type": "stream",
     "text": [
      "iteration: 500; loss = 0.06403346359729767\n",
      "iteration: 0; loss = 0.009208917617797852\n",
      "iteration: 100; loss = 2.8729326725006104\n",
      "iteration: 200; loss = 13.782964706420898\n",
      "iteration: 300; loss = 0.03313906863331795\n",
      "iteration: 400; loss = 7.939350605010986\n"
     ]
    },
    {
     "name": "stderr",
     "output_type": "stream",
     "text": [
      " 79%|███████▉  | 79/100 [05:06<01:22,  3.92s/it]"
     ]
    },
    {
     "name": "stdout",
     "output_type": "stream",
     "text": [
      "iteration: 500; loss = 0.03403111547231674\n",
      "iteration: 0; loss = 0.006465349346399307\n",
      "iteration: 100; loss = 2.889078140258789\n",
      "iteration: 200; loss = 13.264022827148438\n",
      "iteration: 300; loss = 0.02529199793934822\n",
      "iteration: 400; loss = 7.786128520965576\n"
     ]
    },
    {
     "name": "stderr",
     "output_type": "stream",
     "text": [
      " 80%|████████  | 80/100 [05:10<01:17,  3.90s/it]"
     ]
    },
    {
     "name": "stdout",
     "output_type": "stream",
     "text": [
      "iteration: 500; loss = 0.04752393439412117\n",
      "iteration: 0; loss = 0.00449218088760972\n",
      "iteration: 100; loss = 2.744858741760254\n",
      "iteration: 200; loss = 13.449665069580078\n",
      "iteration: 300; loss = 0.02309071086347103\n"
     ]
    },
    {
     "name": "stderr",
     "output_type": "stream",
     "text": [
      " 80%|████████  | 80/100 [05:13<01:18,  3.92s/it]\n"
     ]
    },
    {
     "ename": "KeyboardInterrupt",
     "evalue": "",
     "output_type": "error",
     "traceback": [
      "\u001b[0;31m---------------------------------------------------------------------------\u001b[0m",
      "\u001b[0;31mKeyboardInterrupt\u001b[0m                         Traceback (most recent call last)",
      "\u001b[1;32m/home/xuechenhao/gnn4noc/train.ipynb Cell 3'\u001b[0m in \u001b[0;36m<cell line: 9>\u001b[0;34m()\u001b[0m\n\u001b[1;32m     <a href='vscode-notebook-cell://ssh-remote%2B5950/home/xuechenhao/gnn4noc/train.ipynb#ch0000002vscode-remote?line=13'>14</a>\u001b[0m g, congestion \u001b[39m=\u001b[39m data\n\u001b[1;32m     <a href='vscode-notebook-cell://ssh-remote%2B5950/home/xuechenhao/gnn4noc/train.ipynb#ch0000002vscode-remote?line=14'>15</a>\u001b[0m g \u001b[39m=\u001b[39m g\u001b[39m.\u001b[39mto(device)\n\u001b[0;32m---> <a href='vscode-notebook-cell://ssh-remote%2B5950/home/xuechenhao/gnn4noc/train.ipynb#ch0000002vscode-remote?line=16'>17</a>\u001b[0m pred \u001b[39m=\u001b[39m model(g)\n\u001b[1;32m     <a href='vscode-notebook-cell://ssh-remote%2B5950/home/xuechenhao/gnn4noc/train.ipynb#ch0000002vscode-remote?line=17'>18</a>\u001b[0m loss \u001b[39m=\u001b[39m F\u001b[39m.\u001b[39mmse_loss(pred, torch\u001b[39m.\u001b[39mlog(congestion\u001b[39m+\u001b[39m\u001b[39m1\u001b[39m))\n\u001b[1;32m     <a href='vscode-notebook-cell://ssh-remote%2B5950/home/xuechenhao/gnn4noc/train.ipynb#ch0000002vscode-remote?line=18'>19</a>\u001b[0m optimizer\u001b[39m.\u001b[39mzero_grad()\n",
      "File \u001b[0;32m~/anaconda3/envs/py38/lib/python3.8/site-packages/torch/nn/modules/module.py:1130\u001b[0m, in \u001b[0;36mModule._call_impl\u001b[0;34m(self, *input, **kwargs)\u001b[0m\n\u001b[1;32m   <a href='file:///~/anaconda3/envs/py38/lib/python3.8/site-packages/torch/nn/modules/module.py?line=1125'>1126</a>\u001b[0m \u001b[39m# If we don't have any hooks, we want to skip the rest of the logic in\u001b[39;00m\n\u001b[1;32m   <a href='file:///~/anaconda3/envs/py38/lib/python3.8/site-packages/torch/nn/modules/module.py?line=1126'>1127</a>\u001b[0m \u001b[39m# this function, and just call forward.\u001b[39;00m\n\u001b[1;32m   <a href='file:///~/anaconda3/envs/py38/lib/python3.8/site-packages/torch/nn/modules/module.py?line=1127'>1128</a>\u001b[0m \u001b[39mif\u001b[39;00m \u001b[39mnot\u001b[39;00m (\u001b[39mself\u001b[39m\u001b[39m.\u001b[39m_backward_hooks \u001b[39mor\u001b[39;00m \u001b[39mself\u001b[39m\u001b[39m.\u001b[39m_forward_hooks \u001b[39mor\u001b[39;00m \u001b[39mself\u001b[39m\u001b[39m.\u001b[39m_forward_pre_hooks \u001b[39mor\u001b[39;00m _global_backward_hooks\n\u001b[1;32m   <a href='file:///~/anaconda3/envs/py38/lib/python3.8/site-packages/torch/nn/modules/module.py?line=1128'>1129</a>\u001b[0m         \u001b[39mor\u001b[39;00m _global_forward_hooks \u001b[39mor\u001b[39;00m _global_forward_pre_hooks):\n\u001b[0;32m-> <a href='file:///~/anaconda3/envs/py38/lib/python3.8/site-packages/torch/nn/modules/module.py?line=1129'>1130</a>\u001b[0m     \u001b[39mreturn\u001b[39;00m forward_call(\u001b[39m*\u001b[39;49m\u001b[39minput\u001b[39;49m, \u001b[39m*\u001b[39;49m\u001b[39m*\u001b[39;49mkwargs)\n\u001b[1;32m   <a href='file:///~/anaconda3/envs/py38/lib/python3.8/site-packages/torch/nn/modules/module.py?line=1130'>1131</a>\u001b[0m \u001b[39m# Do not call functions when jit is used\u001b[39;00m\n\u001b[1;32m   <a href='file:///~/anaconda3/envs/py38/lib/python3.8/site-packages/torch/nn/modules/module.py?line=1131'>1132</a>\u001b[0m full_backward_hooks, non_full_backward_hooks \u001b[39m=\u001b[39m [], []\n",
      "File \u001b[0;32m~/gnn4noc/model/vanilla.py:140\u001b[0m, in \u001b[0;36mVanillaModel.forward\u001b[0;34m(self, g)\u001b[0m\n\u001b[1;32m    <a href='file:///~/gnn4noc/model/vanilla.py?line=137'>138</a>\u001b[0m \u001b[39mself\u001b[39m\u001b[39m.\u001b[39mconnect_mp_2(g)\n\u001b[1;32m    <a href='file:///~/gnn4noc/model/vanilla.py?line=138'>139</a>\u001b[0m \u001b[39mself\u001b[39m\u001b[39m.\u001b[39mbp_mp_1(g)\n\u001b[0;32m--> <a href='file:///~/gnn4noc/model/vanilla.py?line=139'>140</a>\u001b[0m \u001b[39mself\u001b[39;49m\u001b[39m.\u001b[39;49mtransfer_mp(g)\n\u001b[1;32m    <a href='file:///~/gnn4noc/model/vanilla.py?line=140'>141</a>\u001b[0m embed \u001b[39m=\u001b[39m \u001b[39mself\u001b[39m\u001b[39m.\u001b[39mgraph_embedding(g)\n\u001b[1;32m    <a href='file:///~/gnn4noc/model/vanilla.py?line=141'>142</a>\u001b[0m pred \u001b[39m=\u001b[39m \u001b[39mself\u001b[39m\u001b[39m.\u001b[39mprediction_head(embed)\n",
      "File \u001b[0;32m~/anaconda3/envs/py38/lib/python3.8/site-packages/torch/nn/modules/module.py:1130\u001b[0m, in \u001b[0;36mModule._call_impl\u001b[0;34m(self, *input, **kwargs)\u001b[0m\n\u001b[1;32m   <a href='file:///~/anaconda3/envs/py38/lib/python3.8/site-packages/torch/nn/modules/module.py?line=1125'>1126</a>\u001b[0m \u001b[39m# If we don't have any hooks, we want to skip the rest of the logic in\u001b[39;00m\n\u001b[1;32m   <a href='file:///~/anaconda3/envs/py38/lib/python3.8/site-packages/torch/nn/modules/module.py?line=1126'>1127</a>\u001b[0m \u001b[39m# this function, and just call forward.\u001b[39;00m\n\u001b[1;32m   <a href='file:///~/anaconda3/envs/py38/lib/python3.8/site-packages/torch/nn/modules/module.py?line=1127'>1128</a>\u001b[0m \u001b[39mif\u001b[39;00m \u001b[39mnot\u001b[39;00m (\u001b[39mself\u001b[39m\u001b[39m.\u001b[39m_backward_hooks \u001b[39mor\u001b[39;00m \u001b[39mself\u001b[39m\u001b[39m.\u001b[39m_forward_hooks \u001b[39mor\u001b[39;00m \u001b[39mself\u001b[39m\u001b[39m.\u001b[39m_forward_pre_hooks \u001b[39mor\u001b[39;00m _global_backward_hooks\n\u001b[1;32m   <a href='file:///~/anaconda3/envs/py38/lib/python3.8/site-packages/torch/nn/modules/module.py?line=1128'>1129</a>\u001b[0m         \u001b[39mor\u001b[39;00m _global_forward_hooks \u001b[39mor\u001b[39;00m _global_forward_pre_hooks):\n\u001b[0;32m-> <a href='file:///~/anaconda3/envs/py38/lib/python3.8/site-packages/torch/nn/modules/module.py?line=1129'>1130</a>\u001b[0m     \u001b[39mreturn\u001b[39;00m forward_call(\u001b[39m*\u001b[39;49m\u001b[39minput\u001b[39;49m, \u001b[39m*\u001b[39;49m\u001b[39m*\u001b[39;49mkwargs)\n\u001b[1;32m   <a href='file:///~/anaconda3/envs/py38/lib/python3.8/site-packages/torch/nn/modules/module.py?line=1130'>1131</a>\u001b[0m \u001b[39m# Do not call functions when jit is used\u001b[39;00m\n\u001b[1;32m   <a href='file:///~/anaconda3/envs/py38/lib/python3.8/site-packages/torch/nn/modules/module.py?line=1131'>1132</a>\u001b[0m full_backward_hooks, non_full_backward_hooks \u001b[39m=\u001b[39m [], []\n",
      "File \u001b[0;32m~/gnn4noc/model/vanilla.py:82\u001b[0m, in \u001b[0;36mMessagePassing.forward\u001b[0;34m(self, g)\u001b[0m\n\u001b[1;32m     <a href='file:///~/gnn4noc/model/vanilla.py?line=76'>77</a>\u001b[0m g\u001b[39m.\u001b[39mnodes[\u001b[39mself\u001b[39m\u001b[39m.\u001b[39msrctype]\u001b[39m.\u001b[39mdata[\u001b[39m'\u001b[39m\u001b[39mh\u001b[39m\u001b[39m'\u001b[39m] \u001b[39m=\u001b[39m \u001b[39mself\u001b[39m\u001b[39m.\u001b[39mmlp_m(srcfeat)\n\u001b[1;32m     <a href='file:///~/gnn4noc/model/vanilla.py?line=77'>78</a>\u001b[0m g\u001b[39m.\u001b[39mmulti_update_all(\n\u001b[1;32m     <a href='file:///~/gnn4noc/model/vanilla.py?line=78'>79</a>\u001b[0m     {\u001b[39mself\u001b[39m\u001b[39m.\u001b[39metype: (fn\u001b[39m.\u001b[39mcopy_u(\u001b[39m'\u001b[39m\u001b[39mh\u001b[39m\u001b[39m'\u001b[39m, \u001b[39m'\u001b[39m\u001b[39mm\u001b[39m\u001b[39m'\u001b[39m), fn\u001b[39m.\u001b[39msum(\u001b[39m'\u001b[39m\u001b[39mm\u001b[39m\u001b[39m'\u001b[39m, \u001b[39m'\u001b[39m\u001b[39mh_sum\u001b[39m\u001b[39m'\u001b[39m))},\n\u001b[1;32m     <a href='file:///~/gnn4noc/model/vanilla.py?line=79'>80</a>\u001b[0m     \u001b[39m\"\u001b[39m\u001b[39msum\u001b[39m\u001b[39m\"\u001b[39m\n\u001b[1;32m     <a href='file:///~/gnn4noc/model/vanilla.py?line=80'>81</a>\u001b[0m )\n\u001b[0;32m---> <a href='file:///~/gnn4noc/model/vanilla.py?line=81'>82</a>\u001b[0m g\u001b[39m.\u001b[39;49mmulti_update_all(\n\u001b[1;32m     <a href='file:///~/gnn4noc/model/vanilla.py?line=82'>83</a>\u001b[0m     {\u001b[39mself\u001b[39;49m\u001b[39m.\u001b[39;49metype: (fn\u001b[39m.\u001b[39;49mcopy_u(\u001b[39m'\u001b[39;49m\u001b[39mh\u001b[39;49m\u001b[39m'\u001b[39;49m, \u001b[39m'\u001b[39;49m\u001b[39mm\u001b[39;49m\u001b[39m'\u001b[39;49m), fn\u001b[39m.\u001b[39;49mmax(\u001b[39m'\u001b[39;49m\u001b[39mm\u001b[39;49m\u001b[39m'\u001b[39;49m, \u001b[39m'\u001b[39;49m\u001b[39mh_max\u001b[39;49m\u001b[39m'\u001b[39;49m))},\n\u001b[1;32m     <a href='file:///~/gnn4noc/model/vanilla.py?line=83'>84</a>\u001b[0m     \u001b[39m\"\u001b[39;49m\u001b[39msum\u001b[39;49m\u001b[39m\"\u001b[39;49m\n\u001b[1;32m     <a href='file:///~/gnn4noc/model/vanilla.py?line=84'>85</a>\u001b[0m )\n\u001b[1;32m     <a href='file:///~/gnn4noc/model/vanilla.py?line=85'>86</a>\u001b[0m g\u001b[39m.\u001b[39mmulti_update_all(\n\u001b[1;32m     <a href='file:///~/gnn4noc/model/vanilla.py?line=86'>87</a>\u001b[0m     {\u001b[39mself\u001b[39m\u001b[39m.\u001b[39metype: (fn\u001b[39m.\u001b[39mcopy_u(\u001b[39m'\u001b[39m\u001b[39mh\u001b[39m\u001b[39m'\u001b[39m, \u001b[39m'\u001b[39m\u001b[39mm\u001b[39m\u001b[39m'\u001b[39m), fn\u001b[39m.\u001b[39mmean(\u001b[39m'\u001b[39m\u001b[39mm\u001b[39m\u001b[39m'\u001b[39m, \u001b[39m'\u001b[39m\u001b[39mh_mean\u001b[39m\u001b[39m'\u001b[39m))},\n\u001b[1;32m     <a href='file:///~/gnn4noc/model/vanilla.py?line=87'>88</a>\u001b[0m     \u001b[39m\"\u001b[39m\u001b[39msum\u001b[39m\u001b[39m\"\u001b[39m\n\u001b[1;32m     <a href='file:///~/gnn4noc/model/vanilla.py?line=88'>89</a>\u001b[0m )\n\u001b[1;32m     <a href='file:///~/gnn4noc/model/vanilla.py?line=90'>91</a>\u001b[0m h_sum \u001b[39m=\u001b[39m g\u001b[39m.\u001b[39mnodes[\u001b[39mself\u001b[39m\u001b[39m.\u001b[39mdsttype]\u001b[39m.\u001b[39mdata[\u001b[39m'\u001b[39m\u001b[39mh_sum\u001b[39m\u001b[39m'\u001b[39m]\n",
      "File \u001b[0;32m~/anaconda3/envs/py38/lib/python3.8/site-packages/dgl-0.9-py3.8-linux-x86_64.egg/dgl/heterograph.py:5023\u001b[0m, in \u001b[0;36mDGLHeteroGraph.multi_update_all\u001b[0;34m(self, etype_dict, cross_reducer, apply_node_func)\u001b[0m\n\u001b[1;32m   <a href='file:///~/anaconda3/envs/py38/lib/python3.8/site-packages/dgl-0.9-py3.8-linux-x86_64.egg/dgl/heterograph.py?line=5020'>5021</a>\u001b[0m     mfunc, rfunc, afunc \u001b[39m=\u001b[39m args\n\u001b[1;32m   <a href='file:///~/anaconda3/envs/py38/lib/python3.8/site-packages/dgl-0.9-py3.8-linux-x86_64.egg/dgl/heterograph.py?line=5021'>5022</a>\u001b[0m     g \u001b[39m=\u001b[39m \u001b[39mself\u001b[39m \u001b[39mif\u001b[39;00m etype \u001b[39mis\u001b[39;00m \u001b[39mNone\u001b[39;00m \u001b[39melse\u001b[39;00m \u001b[39mself\u001b[39m[etype]\n\u001b[0;32m-> <a href='file:///~/anaconda3/envs/py38/lib/python3.8/site-packages/dgl-0.9-py3.8-linux-x86_64.egg/dgl/heterograph.py?line=5022'>5023</a>\u001b[0m     all_out[dtid]\u001b[39m.\u001b[39mappend(core\u001b[39m.\u001b[39;49mmessage_passing(g, mfunc, rfunc, afunc))\n\u001b[1;32m   <a href='file:///~/anaconda3/envs/py38/lib/python3.8/site-packages/dgl-0.9-py3.8-linux-x86_64.egg/dgl/heterograph.py?line=5023'>5024</a>\u001b[0m     merge_order[dtid]\u001b[39m.\u001b[39mappend(etid)  \u001b[39m# use edge type id as merge order hint\u001b[39;00m\n\u001b[1;32m   <a href='file:///~/anaconda3/envs/py38/lib/python3.8/site-packages/dgl-0.9-py3.8-linux-x86_64.egg/dgl/heterograph.py?line=5024'>5025</a>\u001b[0m \u001b[39mfor\u001b[39;00m dtid, frames \u001b[39min\u001b[39;00m all_out\u001b[39m.\u001b[39mitems():\n\u001b[1;32m   <a href='file:///~/anaconda3/envs/py38/lib/python3.8/site-packages/dgl-0.9-py3.8-linux-x86_64.egg/dgl/heterograph.py?line=5025'>5026</a>\u001b[0m     \u001b[39m# merge by cross_reducer\u001b[39;00m\n",
      "File \u001b[0;32m~/anaconda3/envs/py38/lib/python3.8/site-packages/dgl-0.9-py3.8-linux-x86_64.egg/dgl/core.py:357\u001b[0m, in \u001b[0;36mmessage_passing\u001b[0;34m(g, mfunc, rfunc, afunc)\u001b[0m\n\u001b[1;32m    <a href='file:///~/anaconda3/envs/py38/lib/python3.8/site-packages/dgl-0.9-py3.8-linux-x86_64.egg/dgl/core.py?line=335'>336</a>\u001b[0m \u001b[39m\"\"\"Invoke message passing computation on the whole graph.\u001b[39;00m\n\u001b[1;32m    <a href='file:///~/anaconda3/envs/py38/lib/python3.8/site-packages/dgl-0.9-py3.8-linux-x86_64.egg/dgl/core.py?line=336'>337</a>\u001b[0m \n\u001b[1;32m    <a href='file:///~/anaconda3/envs/py38/lib/python3.8/site-packages/dgl-0.9-py3.8-linux-x86_64.egg/dgl/core.py?line=337'>338</a>\u001b[0m \u001b[39mParameters\u001b[39;00m\n\u001b[0;32m   (...)\u001b[0m\n\u001b[1;32m    <a href='file:///~/anaconda3/envs/py38/lib/python3.8/site-packages/dgl-0.9-py3.8-linux-x86_64.egg/dgl/core.py?line=351'>352</a>\u001b[0m \u001b[39m    Results from the message passing computation.\u001b[39;00m\n\u001b[1;32m    <a href='file:///~/anaconda3/envs/py38/lib/python3.8/site-packages/dgl-0.9-py3.8-linux-x86_64.egg/dgl/core.py?line=352'>353</a>\u001b[0m \u001b[39m\"\"\"\u001b[39;00m\n\u001b[1;32m    <a href='file:///~/anaconda3/envs/py38/lib/python3.8/site-packages/dgl-0.9-py3.8-linux-x86_64.egg/dgl/core.py?line=353'>354</a>\u001b[0m \u001b[39mif\u001b[39;00m (is_builtin(mfunc) \u001b[39mand\u001b[39;00m is_builtin(rfunc) \u001b[39mand\u001b[39;00m\n\u001b[1;32m    <a href='file:///~/anaconda3/envs/py38/lib/python3.8/site-packages/dgl-0.9-py3.8-linux-x86_64.egg/dgl/core.py?line=354'>355</a>\u001b[0m         \u001b[39mgetattr\u001b[39m(ops, \u001b[39m'\u001b[39m\u001b[39m{}\u001b[39;00m\u001b[39m_\u001b[39m\u001b[39m{}\u001b[39;00m\u001b[39m'\u001b[39m\u001b[39m.\u001b[39mformat(mfunc\u001b[39m.\u001b[39mname, rfunc\u001b[39m.\u001b[39mname), \u001b[39mNone\u001b[39;00m) \u001b[39mis\u001b[39;00m \u001b[39mnot\u001b[39;00m \u001b[39mNone\u001b[39;00m):\n\u001b[1;32m    <a href='file:///~/anaconda3/envs/py38/lib/python3.8/site-packages/dgl-0.9-py3.8-linux-x86_64.egg/dgl/core.py?line=355'>356</a>\u001b[0m     \u001b[39m# invoke fused message passing\u001b[39;00m\n\u001b[0;32m--> <a href='file:///~/anaconda3/envs/py38/lib/python3.8/site-packages/dgl-0.9-py3.8-linux-x86_64.egg/dgl/core.py?line=356'>357</a>\u001b[0m     ndata \u001b[39m=\u001b[39m invoke_gspmm(g, mfunc, rfunc)\n\u001b[1;32m    <a href='file:///~/anaconda3/envs/py38/lib/python3.8/site-packages/dgl-0.9-py3.8-linux-x86_64.egg/dgl/core.py?line=357'>358</a>\u001b[0m \u001b[39melse\u001b[39;00m:\n\u001b[1;32m    <a href='file:///~/anaconda3/envs/py38/lib/python3.8/site-packages/dgl-0.9-py3.8-linux-x86_64.egg/dgl/core.py?line=358'>359</a>\u001b[0m     \u001b[39m# invoke message passing in two separate steps\u001b[39;00m\n\u001b[1;32m    <a href='file:///~/anaconda3/envs/py38/lib/python3.8/site-packages/dgl-0.9-py3.8-linux-x86_64.egg/dgl/core.py?line=359'>360</a>\u001b[0m     \u001b[39m# message phase\u001b[39;00m\n\u001b[1;32m    <a href='file:///~/anaconda3/envs/py38/lib/python3.8/site-packages/dgl-0.9-py3.8-linux-x86_64.egg/dgl/core.py?line=360'>361</a>\u001b[0m     \u001b[39mif\u001b[39;00m is_builtin(mfunc):\n",
      "File \u001b[0;32m~/anaconda3/envs/py38/lib/python3.8/site-packages/dgl-0.9-py3.8-linux-x86_64.egg/dgl/core.py:332\u001b[0m, in \u001b[0;36minvoke_gspmm\u001b[0;34m(graph, mfunc, rfunc, srcdata, dstdata, edata)\u001b[0m\n\u001b[1;32m    <a href='file:///~/anaconda3/envs/py38/lib/python3.8/site-packages/dgl-0.9-py3.8-linux-x86_64.egg/dgl/core.py?line=329'>330</a>\u001b[0m         \u001b[39melse\u001b[39;00m: \u001b[39m# \"copy_e\"\u001b[39;00m\n\u001b[1;32m    <a href='file:///~/anaconda3/envs/py38/lib/python3.8/site-packages/dgl-0.9-py3.8-linux-x86_64.egg/dgl/core.py?line=330'>331</a>\u001b[0m             x \u001b[39m=\u001b[39m data_dict_to_list(graph, x, mfunc, \u001b[39m'\u001b[39m\u001b[39me\u001b[39m\u001b[39m'\u001b[39m)\n\u001b[0;32m--> <a href='file:///~/anaconda3/envs/py38/lib/python3.8/site-packages/dgl-0.9-py3.8-linux-x86_64.egg/dgl/core.py?line=331'>332</a>\u001b[0m     z \u001b[39m=\u001b[39m op(graph, x)\n\u001b[1;32m    <a href='file:///~/anaconda3/envs/py38/lib/python3.8/site-packages/dgl-0.9-py3.8-linux-x86_64.egg/dgl/core.py?line=332'>333</a>\u001b[0m \u001b[39mreturn\u001b[39;00m {rfunc\u001b[39m.\u001b[39mout_field : z}\n",
      "File \u001b[0;32m~/anaconda3/envs/py38/lib/python3.8/site-packages/dgl-0.9-py3.8-linux-x86_64.egg/dgl/ops/spmm.py:189\u001b[0m, in \u001b[0;36m_gen_copy_reduce_func.<locals>.func\u001b[0;34m(g, x)\u001b[0m\n\u001b[1;32m    <a href='file:///~/anaconda3/envs/py38/lib/python3.8/site-packages/dgl-0.9-py3.8-linux-x86_64.egg/dgl/ops/spmm.py?line=186'>187</a>\u001b[0m \u001b[39mdef\u001b[39;00m \u001b[39mfunc\u001b[39m(g, x):\n\u001b[1;32m    <a href='file:///~/anaconda3/envs/py38/lib/python3.8/site-packages/dgl-0.9-py3.8-linux-x86_64.egg/dgl/ops/spmm.py?line=187'>188</a>\u001b[0m     \u001b[39mif\u001b[39;00m binary_op \u001b[39m==\u001b[39m \u001b[39m'\u001b[39m\u001b[39mcopy_u\u001b[39m\u001b[39m'\u001b[39m:\n\u001b[0;32m--> <a href='file:///~/anaconda3/envs/py38/lib/python3.8/site-packages/dgl-0.9-py3.8-linux-x86_64.egg/dgl/ops/spmm.py?line=188'>189</a>\u001b[0m         \u001b[39mreturn\u001b[39;00m gspmm(g, \u001b[39m'\u001b[39;49m\u001b[39mcopy_lhs\u001b[39;49m\u001b[39m'\u001b[39;49m, reduce_op, x, \u001b[39mNone\u001b[39;49;00m)\n\u001b[1;32m    <a href='file:///~/anaconda3/envs/py38/lib/python3.8/site-packages/dgl-0.9-py3.8-linux-x86_64.egg/dgl/ops/spmm.py?line=189'>190</a>\u001b[0m     \u001b[39melse\u001b[39;00m:\n\u001b[1;32m    <a href='file:///~/anaconda3/envs/py38/lib/python3.8/site-packages/dgl-0.9-py3.8-linux-x86_64.egg/dgl/ops/spmm.py?line=190'>191</a>\u001b[0m         \u001b[39mreturn\u001b[39;00m gspmm(g, \u001b[39m'\u001b[39m\u001b[39mcopy_rhs\u001b[39m\u001b[39m'\u001b[39m, reduce_op, \u001b[39mNone\u001b[39;00m, x)\n",
      "File \u001b[0;32m~/anaconda3/envs/py38/lib/python3.8/site-packages/dgl-0.9-py3.8-linux-x86_64.egg/dgl/ops/spmm.py:75\u001b[0m, in \u001b[0;36mgspmm\u001b[0;34m(g, op, reduce_op, lhs_data, rhs_data)\u001b[0m\n\u001b[1;32m     <a href='file:///~/anaconda3/envs/py38/lib/python3.8/site-packages/dgl-0.9-py3.8-linux-x86_64.egg/dgl/ops/spmm.py?line=72'>73</a>\u001b[0m         lhs_data, rhs_data \u001b[39m=\u001b[39m reshape_lhs_rhs(lhs_data, rhs_data)\n\u001b[1;32m     <a href='file:///~/anaconda3/envs/py38/lib/python3.8/site-packages/dgl-0.9-py3.8-linux-x86_64.egg/dgl/ops/spmm.py?line=73'>74</a>\u001b[0m     \u001b[39m# With max and min reducers infinity will be returned for zero degree nodes\u001b[39;00m\n\u001b[0;32m---> <a href='file:///~/anaconda3/envs/py38/lib/python3.8/site-packages/dgl-0.9-py3.8-linux-x86_64.egg/dgl/ops/spmm.py?line=74'>75</a>\u001b[0m     ret \u001b[39m=\u001b[39m gspmm_internal(g\u001b[39m.\u001b[39;49m_graph, op,\n\u001b[1;32m     <a href='file:///~/anaconda3/envs/py38/lib/python3.8/site-packages/dgl-0.9-py3.8-linux-x86_64.egg/dgl/ops/spmm.py?line=75'>76</a>\u001b[0m                          \u001b[39m'\u001b[39;49m\u001b[39msum\u001b[39;49m\u001b[39m'\u001b[39;49m \u001b[39mif\u001b[39;49;00m reduce_op \u001b[39m==\u001b[39;49m \u001b[39m'\u001b[39;49m\u001b[39mmean\u001b[39;49m\u001b[39m'\u001b[39;49m \u001b[39melse\u001b[39;49;00m reduce_op,\n\u001b[1;32m     <a href='file:///~/anaconda3/envs/py38/lib/python3.8/site-packages/dgl-0.9-py3.8-linux-x86_64.egg/dgl/ops/spmm.py?line=76'>77</a>\u001b[0m                          lhs_data, rhs_data)\n\u001b[1;32m     <a href='file:///~/anaconda3/envs/py38/lib/python3.8/site-packages/dgl-0.9-py3.8-linux-x86_64.egg/dgl/ops/spmm.py?line=77'>78</a>\u001b[0m \u001b[39melse\u001b[39;00m:\n\u001b[1;32m     <a href='file:///~/anaconda3/envs/py38/lib/python3.8/site-packages/dgl-0.9-py3.8-linux-x86_64.egg/dgl/ops/spmm.py?line=78'>79</a>\u001b[0m     \u001b[39m# lhs_data or rhs_data is None only in unary functions like ``copy-u`` or ``copy_e``\u001b[39;00m\n\u001b[1;32m     <a href='file:///~/anaconda3/envs/py38/lib/python3.8/site-packages/dgl-0.9-py3.8-linux-x86_64.egg/dgl/ops/spmm.py?line=79'>80</a>\u001b[0m     lhs_data \u001b[39m=\u001b[39m [\u001b[39mNone\u001b[39;00m] \u001b[39m*\u001b[39m g\u001b[39m.\u001b[39m_graph\u001b[39m.\u001b[39mnumber_of_ntypes() \u001b[39mif\u001b[39;00m lhs_data \u001b[39mis\u001b[39;00m \u001b[39mNone\u001b[39;00m \u001b[39melse\u001b[39;00m lhs_data\n",
      "File \u001b[0;32m~/anaconda3/envs/py38/lib/python3.8/site-packages/dgl-0.9-py3.8-linux-x86_64.egg/dgl/backend/pytorch/sparse.py:724\u001b[0m, in \u001b[0;36mgspmm\u001b[0;34m(gidx, op, reduce_op, lhs_data, rhs_data)\u001b[0m\n\u001b[1;32m    <a href='file:///~/anaconda3/envs/py38/lib/python3.8/site-packages/dgl-0.9-py3.8-linux-x86_64.egg/dgl/backend/pytorch/sparse.py?line=721'>722</a>\u001b[0m     op \u001b[39m=\u001b[39m \u001b[39m'\u001b[39m\u001b[39mmul\u001b[39m\u001b[39m'\u001b[39m\n\u001b[1;32m    <a href='file:///~/anaconda3/envs/py38/lib/python3.8/site-packages/dgl-0.9-py3.8-linux-x86_64.egg/dgl/backend/pytorch/sparse.py?line=722'>723</a>\u001b[0m     rhs_data \u001b[39m=\u001b[39m \u001b[39m1.\u001b[39m \u001b[39m/\u001b[39m rhs_data\n\u001b[0;32m--> <a href='file:///~/anaconda3/envs/py38/lib/python3.8/site-packages/dgl-0.9-py3.8-linux-x86_64.egg/dgl/backend/pytorch/sparse.py?line=723'>724</a>\u001b[0m \u001b[39mreturn\u001b[39;00m GSpMM\u001b[39m.\u001b[39;49mapply(gidx, op, reduce_op, lhs_data, rhs_data)\n",
      "File \u001b[0;32m~/anaconda3/envs/py38/lib/python3.8/site-packages/torch/cuda/amp/autocast_mode.py:118\u001b[0m, in \u001b[0;36mcustom_fwd.<locals>.decorate_fwd\u001b[0;34m(*args, **kwargs)\u001b[0m\n\u001b[1;32m    <a href='file:///~/anaconda3/envs/py38/lib/python3.8/site-packages/torch/cuda/amp/autocast_mode.py?line=115'>116</a>\u001b[0m         \u001b[39mreturn\u001b[39;00m fwd(\u001b[39m*\u001b[39m_cast(args, cast_inputs), \u001b[39m*\u001b[39m\u001b[39m*\u001b[39m_cast(kwargs, cast_inputs))\n\u001b[1;32m    <a href='file:///~/anaconda3/envs/py38/lib/python3.8/site-packages/torch/cuda/amp/autocast_mode.py?line=116'>117</a>\u001b[0m \u001b[39melse\u001b[39;00m:\n\u001b[0;32m--> <a href='file:///~/anaconda3/envs/py38/lib/python3.8/site-packages/torch/cuda/amp/autocast_mode.py?line=117'>118</a>\u001b[0m     \u001b[39mreturn\u001b[39;00m fwd(\u001b[39m*\u001b[39;49margs, \u001b[39m*\u001b[39;49m\u001b[39m*\u001b[39;49mkwargs)\n",
      "File \u001b[0;32m~/anaconda3/envs/py38/lib/python3.8/site-packages/dgl-0.9-py3.8-linux-x86_64.egg/dgl/backend/pytorch/sparse.py:106\u001b[0m, in \u001b[0;36mGSpMM.forward\u001b[0;34m(ctx, gidx, op, reduce_op, X, Y)\u001b[0m\n\u001b[1;32m    <a href='file:///~/anaconda3/envs/py38/lib/python3.8/site-packages/dgl-0.9-py3.8-linux-x86_64.egg/dgl/backend/pytorch/sparse.py?line=102'>103</a>\u001b[0m \u001b[39m@staticmethod\u001b[39m\n\u001b[1;32m    <a href='file:///~/anaconda3/envs/py38/lib/python3.8/site-packages/dgl-0.9-py3.8-linux-x86_64.egg/dgl/backend/pytorch/sparse.py?line=103'>104</a>\u001b[0m \u001b[39m@custom_fwd\u001b[39m(cast_inputs\u001b[39m=\u001b[39mth\u001b[39m.\u001b[39mfloat16)\n\u001b[1;32m    <a href='file:///~/anaconda3/envs/py38/lib/python3.8/site-packages/dgl-0.9-py3.8-linux-x86_64.egg/dgl/backend/pytorch/sparse.py?line=104'>105</a>\u001b[0m \u001b[39mdef\u001b[39;00m \u001b[39mforward\u001b[39m(ctx, gidx, op, reduce_op, X, Y):\n\u001b[0;32m--> <a href='file:///~/anaconda3/envs/py38/lib/python3.8/site-packages/dgl-0.9-py3.8-linux-x86_64.egg/dgl/backend/pytorch/sparse.py?line=105'>106</a>\u001b[0m     out, (argX, argY) \u001b[39m=\u001b[39m _gspmm(gidx, op, reduce_op, X, Y)\n\u001b[1;32m    <a href='file:///~/anaconda3/envs/py38/lib/python3.8/site-packages/dgl-0.9-py3.8-linux-x86_64.egg/dgl/backend/pytorch/sparse.py?line=106'>107</a>\u001b[0m     reduce_last \u001b[39m=\u001b[39m _need_reduce_last_dim(X, Y)\n\u001b[1;32m    <a href='file:///~/anaconda3/envs/py38/lib/python3.8/site-packages/dgl-0.9-py3.8-linux-x86_64.egg/dgl/backend/pytorch/sparse.py?line=107'>108</a>\u001b[0m     X_shape \u001b[39m=\u001b[39m X\u001b[39m.\u001b[39mshape \u001b[39mif\u001b[39;00m X \u001b[39mis\u001b[39;00m \u001b[39mnot\u001b[39;00m \u001b[39mNone\u001b[39;00m \u001b[39melse\u001b[39;00m \u001b[39mNone\u001b[39;00m\n",
      "File \u001b[0;32m~/anaconda3/envs/py38/lib/python3.8/site-packages/dgl-0.9-py3.8-linux-x86_64.egg/dgl/sparse.py:229\u001b[0m, in \u001b[0;36m_gspmm\u001b[0;34m(gidx, op, reduce_op, u, e)\u001b[0m\n\u001b[1;32m    <a href='file:///~/anaconda3/envs/py38/lib/python3.8/site-packages/dgl-0.9-py3.8-linux-x86_64.egg/dgl/sparse.py?line=225'>226</a>\u001b[0m arg_e_nd \u001b[39m=\u001b[39m to_dgl_nd_for_write(arg_e)\n\u001b[1;32m    <a href='file:///~/anaconda3/envs/py38/lib/python3.8/site-packages/dgl-0.9-py3.8-linux-x86_64.egg/dgl/sparse.py?line=226'>227</a>\u001b[0m \u001b[39mif\u001b[39;00m gidx\u001b[39m.\u001b[39mnumber_of_edges(\u001b[39m0\u001b[39m) \u001b[39m>\u001b[39m \u001b[39m0\u001b[39m:\n\u001b[1;32m    <a href='file:///~/anaconda3/envs/py38/lib/python3.8/site-packages/dgl-0.9-py3.8-linux-x86_64.egg/dgl/sparse.py?line=227'>228</a>\u001b[0m     _CAPI_DGLKernelSpMM(gidx, op, reduce_op,\n\u001b[0;32m--> <a href='file:///~/anaconda3/envs/py38/lib/python3.8/site-packages/dgl-0.9-py3.8-linux-x86_64.egg/dgl/sparse.py?line=228'>229</a>\u001b[0m                         to_dgl_nd(u \u001b[39mif\u001b[39;49;00m use_u \u001b[39melse\u001b[39;49;00m \u001b[39mNone\u001b[39;49;00m),\n\u001b[1;32m    <a href='file:///~/anaconda3/envs/py38/lib/python3.8/site-packages/dgl-0.9-py3.8-linux-x86_64.egg/dgl/sparse.py?line=229'>230</a>\u001b[0m                         to_dgl_nd(e \u001b[39mif\u001b[39;00m use_e \u001b[39melse\u001b[39;00m \u001b[39mNone\u001b[39;00m),\n\u001b[1;32m    <a href='file:///~/anaconda3/envs/py38/lib/python3.8/site-packages/dgl-0.9-py3.8-linux-x86_64.egg/dgl/sparse.py?line=230'>231</a>\u001b[0m                         to_dgl_nd_for_write(v),\n\u001b[1;32m    <a href='file:///~/anaconda3/envs/py38/lib/python3.8/site-packages/dgl-0.9-py3.8-linux-x86_64.egg/dgl/sparse.py?line=231'>232</a>\u001b[0m                         arg_u_nd,\n\u001b[1;32m    <a href='file:///~/anaconda3/envs/py38/lib/python3.8/site-packages/dgl-0.9-py3.8-linux-x86_64.egg/dgl/sparse.py?line=232'>233</a>\u001b[0m                         arg_e_nd)\n\u001b[1;32m    <a href='file:///~/anaconda3/envs/py38/lib/python3.8/site-packages/dgl-0.9-py3.8-linux-x86_64.egg/dgl/sparse.py?line=233'>234</a>\u001b[0m \u001b[39m# NOTE(zihao): actually we can avoid the following step, because arg_*_nd\u001b[39;00m\n\u001b[1;32m    <a href='file:///~/anaconda3/envs/py38/lib/python3.8/site-packages/dgl-0.9-py3.8-linux-x86_64.egg/dgl/sparse.py?line=234'>235</a>\u001b[0m \u001b[39m# refers to the data that stores arg_*. After we call _CAPI_DGLKernelSpMM,\u001b[39;00m\n\u001b[1;32m    <a href='file:///~/anaconda3/envs/py38/lib/python3.8/site-packages/dgl-0.9-py3.8-linux-x86_64.egg/dgl/sparse.py?line=235'>236</a>\u001b[0m \u001b[39m# arg_* should have already been changed. But we found this doesn't work\u001b[39;00m\n\u001b[0;32m   (...)\u001b[0m\n\u001b[1;32m    <a href='file:///~/anaconda3/envs/py38/lib/python3.8/site-packages/dgl-0.9-py3.8-linux-x86_64.egg/dgl/sparse.py?line=238'>239</a>\u001b[0m \u001b[39m# The workaround is proposed by Jinjing, and we still need to investigate\u001b[39;00m\n\u001b[1;32m    <a href='file:///~/anaconda3/envs/py38/lib/python3.8/site-packages/dgl-0.9-py3.8-linux-x86_64.egg/dgl/sparse.py?line=239'>240</a>\u001b[0m \u001b[39m# where the problem is.\u001b[39;00m\n\u001b[1;32m    <a href='file:///~/anaconda3/envs/py38/lib/python3.8/site-packages/dgl-0.9-py3.8-linux-x86_64.egg/dgl/sparse.py?line=240'>241</a>\u001b[0m arg_u \u001b[39m=\u001b[39m \u001b[39mNone\u001b[39;00m \u001b[39mif\u001b[39;00m arg_u \u001b[39mis\u001b[39;00m \u001b[39mNone\u001b[39;00m \u001b[39melse\u001b[39;00m F\u001b[39m.\u001b[39mzerocopy_from_dgl_ndarray(arg_u_nd)\n",
      "File \u001b[0;32m~/anaconda3/envs/py38/lib/python3.8/site-packages/dgl-0.9-py3.8-linux-x86_64.egg/dgl/sparse.py:59\u001b[0m, in \u001b[0;36mto_dgl_nd\u001b[0;34m(x)\u001b[0m\n\u001b[1;32m     <a href='file:///~/anaconda3/envs/py38/lib/python3.8/site-packages/dgl-0.9-py3.8-linux-x86_64.egg/dgl/sparse.py?line=56'>57</a>\u001b[0m \u001b[39mdef\u001b[39;00m \u001b[39mto_dgl_nd\u001b[39m(x):\n\u001b[1;32m     <a href='file:///~/anaconda3/envs/py38/lib/python3.8/site-packages/dgl-0.9-py3.8-linux-x86_64.egg/dgl/sparse.py?line=57'>58</a>\u001b[0m     \u001b[39m\"\"\"Convert framework-specific tensor/None to dgl ndarray.\"\"\"\u001b[39;00m\n\u001b[0;32m---> <a href='file:///~/anaconda3/envs/py38/lib/python3.8/site-packages/dgl-0.9-py3.8-linux-x86_64.egg/dgl/sparse.py?line=58'>59</a>\u001b[0m     \u001b[39mreturn\u001b[39;00m nd\u001b[39m.\u001b[39mNULL[\u001b[39m'\u001b[39m\u001b[39mint64\u001b[39m\u001b[39m'\u001b[39m] \u001b[39mif\u001b[39;00m x \u001b[39mis\u001b[39;00m \u001b[39mNone\u001b[39;00m \u001b[39melse\u001b[39;00m F\u001b[39m.\u001b[39;49mzerocopy_to_dgl_ndarray(x)\n",
      "File \u001b[0;32m~/anaconda3/envs/py38/lib/python3.8/site-packages/dgl-0.9-py3.8-linux-x86_64.egg/dgl/backend/pytorch/tensor.py:344\u001b[0m, in \u001b[0;36mzerocopy_to_dgl_ndarray\u001b[0;34m(data)\u001b[0m\n\u001b[1;32m    <a href='file:///~/anaconda3/envs/py38/lib/python3.8/site-packages/dgl-0.9-py3.8-linux-x86_64.egg/dgl/backend/pytorch/tensor.py?line=341'>342</a>\u001b[0m \u001b[39mif\u001b[39;00m data\u001b[39m.\u001b[39mdtype \u001b[39m==\u001b[39m th\u001b[39m.\u001b[39mbool:\n\u001b[1;32m    <a href='file:///~/anaconda3/envs/py38/lib/python3.8/site-packages/dgl-0.9-py3.8-linux-x86_64.egg/dgl/backend/pytorch/tensor.py?line=342'>343</a>\u001b[0m     data \u001b[39m=\u001b[39m data\u001b[39m.\u001b[39mbyte()\n\u001b[0;32m--> <a href='file:///~/anaconda3/envs/py38/lib/python3.8/site-packages/dgl-0.9-py3.8-linux-x86_64.egg/dgl/backend/pytorch/tensor.py?line=343'>344</a>\u001b[0m \u001b[39mreturn\u001b[39;00m nd\u001b[39m.\u001b[39mfrom_dlpack(dlpack\u001b[39m.\u001b[39;49mto_dlpack(data\u001b[39m.\u001b[39;49mcontiguous()))\n",
      "\u001b[0;31mKeyboardInterrupt\u001b[0m: "
     ]
    }
   ],
   "source": [
    "device = \"cpu\"\n",
    "# device = \"cuda:0\"\n",
    "\n",
    "model = VanillaModel().to(device)\n",
    "optimizer = torch.optim.Adam(model.parameters(), lr=3e-4)\n",
    "losses = []\n",
    "\n",
    "epoches = 100\n",
    "for e in tqdm(range(epoches)):\n",
    "    for i, data in enumerate(dataset):\n",
    "        if i > num_training:\n",
    "            break\n",
    "\n",
    "        g, congestion = data\n",
    "        g = g.to(device)\n",
    "\n",
    "        pred = model(g)\n",
    "        loss = F.mse_loss(pred, torch.log(congestion+1))\n",
    "        optimizer.zero_grad()\n",
    "        loss.backward()\n",
    "        optimizer.step()\n",
    "\n",
    "        if i % 100 == 0:\n",
    "            print(f\"iteration: {i}; loss = {loss}\")\n",
    "            losses.append(loss.item())\n",
    "            # print(f\"pred = {pred}\")\n",
    "            # print(f\"congestion = {congestion}\")\n",
    "            \n",
    "plt.ylim(0, 20)\n",
    "plt.plot(losses)\n"
   ]
  },
  {
   "cell_type": "code",
   "execution_count": 6,
   "metadata": {},
   "outputs": [
    {
     "name": "stdout",
     "output_type": "stream",
     "text": [
      "iteration: 504; loss = 0.6641845703125\n",
      "pred = [479.1408  428.94254]\n",
      "congestion = [1118.0714  939.2857]\n",
      "iteration: 505; loss = 11.055566787719727\n",
      "pred = [40.299778 16.727673]\n",
      "congestion = [0. 0.]\n",
      "iteration: 506; loss = 10.733789443969727\n",
      "pred = [31.033901 30.370367]\n",
      "congestion = [838.12085 838.4623 ]\n",
      "iteration: 507; loss = 14.412928581237793\n",
      "pred = [-0.33196092 -0.5860933 ]\n",
      "congestion = [132.3   0. ]\n",
      "iteration: 508; loss = 1.6523786783218384\n",
      "pred = [2.1711516 3.5320368]\n",
      "congestion = [0.15441176 0.        ]\n",
      "iteration: 509; loss = 15.886566162109375\n",
      "pred = [27.665281 12.184709]\n",
      "congestion = [4305.2856    0.    ]\n",
      "iteration: 510; loss = 0.40594416856765747\n",
      "pred = [-0.35482025 -0.5449295 ]\n",
      "congestion = [0. 0.]\n",
      "iteration: 511; loss = 1.9137054681777954\n",
      "pred = [34.94242  14.880779]\n",
      "congestion = [88.588036 88.588036]\n",
      "iteration: 512; loss = 4.459554672241211\n",
      "pred = [35.454514 23.467356]\n",
      "congestion = [247.46443 240.16798]\n",
      "iteration: 513; loss = 3.804619789123535\n",
      "pred = [7.46966   4.7252836]\n",
      "congestion = [0. 0.]\n",
      "iteration: 514; loss = 0.3618989586830139\n",
      "pred = [0.9848994 0.6549649]\n",
      "congestion = [0. 0.]\n",
      "iteration: 515; loss = 0.6611666083335876\n",
      "pred = [466.0141  412.57523]\n",
      "congestion = [1080.      906.7143]\n",
      "iteration: 516; loss = 2.0206689834594727\n",
      "pred = [ 0.08154356 -0.2746576 ]\n",
      "congestion = [4.0753503 1.6218487]\n",
      "iteration: 517; loss = 13.929649353027344\n",
      "pred = [64.71887  59.920723]\n",
      "congestion = [2727.8455 2559.1091]\n",
      "iteration: 518; loss = 6.7594404220581055\n",
      "pred = [21.56113  18.796074]\n",
      "congestion = [0.     1.8125]\n",
      "iteration: 519; loss = 0.40729039907455444\n",
      "pred = [-0.35311306 -0.54636985]\n",
      "congestion = [0. 0.]\n",
      "iteration: 520; loss = 0.3540474772453308\n",
      "pred = [617.25964 602.923  ]\n",
      "congestion = [341.83307 330.33224]\n",
      "iteration: 521; loss = 0.056081727147102356\n",
      "pred = [757.2144  811.57965]\n",
      "congestion = [1048.6072  879.2857]\n",
      "iteration: 522; loss = 21.375652313232422\n",
      "pred = [120.51878  109.759346]\n",
      "congestion = [0.         0.30694547]\n",
      "iteration: 523; loss = 0.6200045943260193\n",
      "pred = [1.259552 1.135339]\n",
      "congestion = [0. 0.]\n",
      "iteration: 524; loss = 0.2893029749393463\n",
      "pred = [1.850966  0.8623127]\n",
      "congestion = [0.42727274 1.5545454 ]\n",
      "iteration: 525; loss = 0.3813946843147278\n",
      "pred = [1.3883374 1.019505 ]\n",
      "congestion = [2.7 3.3]\n",
      "iteration: 526; loss = 6.988281726837158\n",
      "pred = [22.60931  19.680994]\n",
      "congestion = [0.     1.8125]\n",
      "iteration: 527; loss = 0.017202313989400864\n",
      "pred = [0.20173347 0.02552009]\n",
      "congestion = [0. 0.]\n",
      "iteration: 528; loss = 0.47145742177963257\n",
      "pred = [510.7486  469.08704]\n",
      "congestion = [1059.9642  891.7143]\n",
      "iteration: 529; loss = 0.08247531950473785\n",
      "pred = [95.572075 75.77375 ]\n",
      "congestion = [109.66493 111.55919]\n",
      "iteration: 530; loss = 1.2543505430221558\n",
      "pred = [3.2994175 2.709271 ]\n",
      "congestion = [0. 1.]\n",
      "iteration: 531; loss = 0.3042873740196228\n",
      "pred = [1.3867128 2.3544395]\n",
      "congestion = [0.33088234 1.        ]\n",
      "iteration: 532; loss = 1.5628876686096191\n",
      "pred = [2.0885594 3.3439035]\n",
      "congestion = [0.15441176 0.        ]\n",
      "iteration: 533; loss = 3.130800247192383\n",
      "pred = [124.45574 122.92356]\n",
      "congestion = [772.0927 690.3414]\n",
      "iteration: 534; loss = 1.1811790466308594\n",
      "pred = [35.325092 15.848339]\n",
      "congestion = [73.  64.8]\n",
      "iteration: 535; loss = 0.2625751793384552\n",
      "pred = [614.8085  588.62573]\n",
      "congestion = [366.26532 353.79355]\n",
      "iteration: 536; loss = 0.017467794939875603\n",
      "pred = [0.20320106 0.02711844]\n",
      "congestion = [0. 0.]\n",
      "iteration: 537; loss = 1.1241533756256104\n",
      "pred = [0.9111221  0.03133047]\n",
      "congestion = [7.557505 0.      ]\n",
      "iteration: 538; loss = 3.9822845458984375\n",
      "pred = [23.41062  5.95985]\n",
      "congestion = [2.1441422 0.       ]\n",
      "iteration: 539; loss = 9.90037727355957\n",
      "pred = [43.547253 31.645386]\n",
      "congestion = [0.        2.2050292]\n",
      "iteration: 540; loss = 1.1987414360046387\n",
      "pred = [2.0697598 1.9080207]\n",
      "congestion = [0. 0.]\n",
      "iteration: 541; loss = 14.66990852355957\n",
      "pred = [48.116173 42.163063]\n",
      "congestion = [0. 0.]\n",
      "iteration: 542; loss = 1.6169885396957397\n",
      "pred = [2.1037674 3.490364 ]\n",
      "congestion = [0.15441176 0.        ]\n",
      "iteration: 543; loss = 0.022252727299928665\n",
      "pred = [-0.10905361 -0.16184789]\n",
      "congestion = [0. 0.]\n",
      "iteration: 544; loss = 0.12873581051826477\n",
      "pred = [0.6014712 0.2079848]\n",
      "congestion = [0. 0.]\n",
      "iteration: 545; loss = 0.30382001399993896\n",
      "pred = [-0.23545289 -0.5189681 ]\n",
      "congestion = [0. 0.]\n",
      "iteration: 546; loss = 10.751814842224121\n",
      "pred = [1.1909585 1.0864515]\n",
      "congestion = [212.33105   0.     ]\n",
      "iteration: 547; loss = 0.4987714886665344\n",
      "pred = [ 0.28781915 -0.30252093]\n",
      "congestion = [2.2689717 0.       ]\n",
      "iteration: 548; loss = 0.24596230685710907\n",
      "pred = [608.817  599.8836]\n",
      "congestion = [1076.3572  904.3571]\n",
      "iteration: 549; loss = 0.3452857732772827\n",
      "pred = [619.9364 618.8575]\n",
      "congestion = [349.9746  337.75162]\n",
      "iteration: 550; loss = 0.33018016815185547\n",
      "pred = [1.4276915 2.4555905]\n",
      "congestion = [0.33088234 1.        ]\n",
      "iteration: 551; loss = 2.4583446979522705\n",
      "pred = [3.9189186 3.6754346]\n",
      "congestion = [0. 0.]\n",
      "iteration: 552; loss = 0.04938316345214844\n",
      "pred = [3.727746   0.31672633]\n",
      "congestion = [3.0616724 0.       ]\n",
      "iteration: 553; loss = 0.24217739701271057\n",
      "pred = [608.8167 599.8839]\n",
      "congestion = [1073.2142  899.6429]\n",
      "iteration: 554; loss = 2.1233110427856445\n",
      "pred = [19.514277  4.489779]\n",
      "congestion = [64.47288  0.     ]\n",
      "iteration: 555; loss = 1.6810102462768555\n",
      "pred = [4.2585573 3.358739 ]\n",
      "congestion = [0. 1.]\n",
      "iteration: 556; loss = 0.3520146608352661\n",
      "pred = [614.8088  588.62573]\n",
      "congestion = [338.09033 325.86935]\n",
      "iteration: 557; loss = 0.13724622130393982\n",
      "pred = [ 0.4014175 -0.3301794]\n",
      "congestion = [0. 0.]\n",
      "iteration: 558; loss = 0.23496127128601074\n",
      "pred = [619.20105 625.0888 ]\n",
      "congestion = [390.      376.07742]\n",
      "******************************\n",
      "average mae loss: 197.6182861328125\n"
     ]
    }
   ],
   "source": [
    "# test accuracy\n",
    "# we use relative error to measure\n",
    "\n",
    "mae_losses = []\n",
    "\n",
    "for i, data in enumerate(dataset):\n",
    "    if i <= num_training:\n",
    "        continue\n",
    "\n",
    "    g, congestion = data\n",
    "    g = g.to(device)\n",
    "\n",
    "    pred = model(g)\n",
    "    loss = F.mse_loss(pred, torch.log(congestion+1))\n",
    "    pred_congestion = torch.exp(pred) - 1\n",
    "\n",
    "    print(f\"iteration: {i}; loss = {loss.item()}\")\n",
    "    print(f\"pred = {pred_congestion.detach().numpy()}\")\n",
    "    print(f\"congestion = {congestion.numpy()}\")\n",
    "\n",
    "    mae_losses.append(F.l1_loss(pred_congestion, congestion))\n",
    "\n",
    "print(\"*\" * 30)\n",
    "mae_losses = torch.stack(mae_losses).mean()\n",
    "print(f\"average mae loss: {mae_losses}\")\n",
    "\n"
   ]
  },
  {
   "cell_type": "code",
   "execution_count": null,
   "metadata": {},
   "outputs": [],
   "source": []
  }
 ],
 "metadata": {
  "interpreter": {
   "hash": "96bcc5b7e4704e2a96f47d0e0ab54a35b61edd90a78c04f0a0f415e769481874"
  },
  "kernelspec": {
   "display_name": "Python 3.9.12 ('gnn')",
   "language": "python",
   "name": "python3"
  },
  "language_info": {
   "codemirror_mode": {
    "name": "ipython",
    "version": 3
   },
   "file_extension": ".py",
   "mimetype": "text/x-python",
   "name": "python",
   "nbconvert_exporter": "python",
   "pygments_lexer": "ipython3",
   "version": "3.8.13"
  },
  "orig_nbformat": 4
 },
 "nbformat": 4,
 "nbformat_minor": 2
}
