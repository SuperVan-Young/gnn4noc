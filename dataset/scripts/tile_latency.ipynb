{
 "cells": [
  {
   "cell_type": "code",
   "execution_count": 2,
   "metadata": {},
   "outputs": [],
   "source": [
    "import os\n",
    "import sys\n",
    "sys.path.append(\"..\")\n",
    "\n",
    "import networkx as nx\n",
    "import matplotlib.pyplot as plt\n",
    "import numpy as np\n",
    "from scipy import stats\n",
    "\n",
    "from trace_analyzer import TraceAnalyzer\n",
    "\n",
    "sim_result_root = \"../sim_result\"\n"
   ]
  },
  {
   "cell_type": "code",
   "execution_count": 3,
   "metadata": {},
   "outputs": [],
   "source": [
    "class LayerAnalyzer():\n",
    "    def __init__(self, trace_analyzer: TraceAnalyzer, layer: int, batch: int):\n",
    "        # fetch subgraph\n",
    "        graph = trace_analyzer.graph.get_graph()\n",
    "        G = graph.subgraph(nodes=[n for n, nattr in graph.nodes(data=True)\n",
    "            if nattr[\"layer\"] == layer\n",
    "            and nattr[\"batch\"] == batch\n",
    "            ])\n",
    "        assert len(G.nodes) > 0\n",
    "        self.G = G\n",
    "\n",
    "        # record useful information about nodes\n",
    "        wsrc = [n for n, attr in G.nodes(data=True) if attr[\"op_type\"] == \"wsrc\"]\n",
    "        assert len(wsrc) == 1\n",
    "        insrc = [n for n, attr in G.nodes(data=True) if attr[\"op_type\"] == \"insrc\"]\n",
    "        assert len(insrc) == 1\n",
    "        workers = [n for n, attr in G.nodes(data=True) if attr[\"op_type\"] == \"worker\"]\n",
    "\n",
    "        self.wsrc = wsrc[0]\n",
    "        self.insrc = insrc[0]\n",
    "        self.workers = workers\n",
    "        worker = workers[0]  # a representative one\n",
    "\n",
    "        self.w_cnt = int(G.nodes[self.wsrc][\"cnt\"])\n",
    "        self.in_cnt = int(G.nodes[self.insrc][\"cnt\"])\n",
    "        self.worker_cnt = int(G.nodes[worker][\"cnt\"])\n",
    "\n",
    "        self.w_delay = int(G.nodes[self.wsrc]['delay'])\n",
    "        self.in_delay = int(G.nodes[self.insrc]['delay'])\n",
    "        self.worker_delay = int(G.nodes[worker]['delay'])\n",
    "\n",
    "    def get_tile_latency(self):\n",
    "        G = self.G\n",
    "        wsrc = self.wsrc\n",
    "        insrc = self.insrc\n",
    "        w_cnt = self.w_cnt\n",
    "        in_cnt = self.in_cnt\n",
    "        workers = self.workers\n",
    "\n",
    "        w_start = [float(\"inf\")] * w_cnt\n",
    "        w_end = [-float(\"inf\")] * w_cnt\n",
    "        in_start = [float(\"inf\")] * in_cnt\n",
    "        in_end = [-float(\"inf\")] * in_cnt\n",
    "\n",
    "        for w in workers:\n",
    "            w_edges = G.edges[wsrc, w][\"pkt\"]\n",
    "            w_pids = sorted(list(w_edges.keys()))\n",
    "\n",
    "            in_edges = G.edges[insrc, w][\"pkt\"]\n",
    "            in_pids = sorted(list(in_edges.keys()))\n",
    "\n",
    "            for t in range(w_cnt):\n",
    "                w_pkt = w_edges[w_pids[t]]\n",
    "                w_start[t] = min(w_start[t], w_pkt[\"start_cycle\"])\n",
    "                w_end[t] = max(w_end[t], w_pkt[\"end_cycle\"])\n",
    "\n",
    "            for t in range(in_cnt):\n",
    "                in_pkt = in_edges[in_pids[t]]\n",
    "                in_start[t] = min(in_start[t], in_pkt[\"start_cycle\"])\n",
    "                in_end[t] = max(in_end[t], in_pkt[\"end_cycle\"])\n",
    "\n",
    "        # align different cnts\n",
    "        if w_cnt > in_cnt:\n",
    "            ratio = w_cnt // in_cnt\n",
    "            w_latency = {i: l[1]-l[0] for i, l in enumerate(zip(w_start, w_end))}\n",
    "            in_latency = {ratio*i: l[1]-l[0] for i, l in enumerate(zip(in_start, in_end))}\n",
    "        elif w_cnt < in_cnt:\n",
    "            ratio = in_cnt // w_cnt\n",
    "            w_latency = {ratio*i: l[1]-l[0] for i, l in enumerate(zip(w_start, w_end))}\n",
    "            in_latency = {i: l[1]-l[0] for i, l in enumerate(zip(in_start, in_end))}\n",
    "        else:\n",
    "            w_latency = {i: l[1]-l[0] for i, l in enumerate(zip(w_start, w_end))}\n",
    "            in_latency = {i: l[1]-l[0] for i, l in enumerate(zip(in_start, in_end))}\n",
    "\n",
    "        return w_latency, in_latency\n",
    "\n",
    "    \n",
    "    def get_slope(self):\n",
    "        w_latency, in_latency = self.get_tile_latency()\n",
    "        w_x = np.array(list(w_latency.keys()))\n",
    "        w_y = np.array(list(w_latency.values()))\n",
    "        in_x = np.array(list(in_latency.keys()))\n",
    "        in_y = np.array(list(in_latency.values()))\n",
    "        \n",
    "        if len(w_x) > 2:\n",
    "            w_lin = stats.linregress(w_x[1:], w_y[1:]).slope\n",
    "        else:\n",
    "            w_lin = 0\n",
    "        if len(in_x) > 2:\n",
    "            in_lin = stats.linregress(in_x[1:], in_y[1:]).slope\n",
    "        else:\n",
    "            in_lin = 0\n",
    "\n",
    "        return w_lin, in_lin\n",
    "\n",
    "    def get_intercept(self):\n",
    "        w_latency, in_latency = self.get_tile_latency()\n",
    "        w_x = np.array(list(w_latency.keys()))\n",
    "        w_y = np.array(list(w_latency.values()))\n",
    "        in_x = np.array(list(in_latency.keys()))\n",
    "        in_y = np.array(list(in_latency.values()))\n",
    "        \n",
    "        if len(w_x) > 2:\n",
    "            w_lin = stats.linregress(w_x[1:], w_y[1:]).intercept\n",
    "        else:\n",
    "            w_lin = 0\n",
    "        if len(in_x) > 2:\n",
    "            in_lin = stats.linregress(in_x[1:], in_y[1:]).intercept\n",
    "        else:\n",
    "            in_lin = 0\n",
    "\n",
    "        return w_lin, in_lin\n",
    "\n",
    "    \n",
    "    def get_throughput(self):\n",
    "        w_lin, in_lin = self.get_slope()\n",
    "        w_throuput = 1 / (max(w_lin, 0) + self.w_delay)\n",
    "        in_throughput = 1 / (max(in_lin, 0) + self.in_delay)\n",
    "        return w_throuput, in_throughput\n",
    "\n",
    "    \n",
    "    def get_delay(self):\n",
    "        return {\n",
    "            \"wsrc\": self.w_delay,\n",
    "            \"insrc\": self.in_delay,\n",
    "            \"worker\": self.worker_delay,\n",
    "        }\n",
    "\n",
    "    def get_cnt(self):\n",
    "        return {\n",
    "            \"wsrc\": self.w_cnt,\n",
    "            \"insrc\": self.in_cnt,\n",
    "            \"worker\": self.worker_cnt,\n",
    "        }"
   ]
  },
  {
   "cell_type": "code",
   "execution_count": 4,
   "metadata": {},
   "outputs": [
    {
     "name": "stdout",
     "output_type": "stream",
     "text": [
      "{}\n"
     ]
    }
   ],
   "source": [
    "# check cnt ratio\n",
    "ratio = dict()\n",
    "\n",
    "for root, dirs, files in os.walk(sim_result_root):\n",
    "    if len(files) < 4:\n",
    "        continue  # no out.log\n",
    "\n",
    "    taskname = os.path.split(root)[1]\n",
    "    print(taskname)\n",
    "    try:\n",
    "        trace_analyzer = TraceAnalyzer(taskname)\n",
    "    except KeyError:\n",
    "        continue\n",
    "\n",
    "    \n",
    "    for layer in sorted(trace_analyzer.get_layers()):\n",
    "        layer_analyzer = LayerAnalyzer(trace_analyzer, layer, 0)\n",
    "        cnt = layer_analyzer.get_cnt()\n",
    "        min_cnt = min(list(cnt.values()))\n",
    "        for k, v in cnt.items():\n",
    "            cnt[k] = cnt[k] / min_cnt\n",
    "\n",
    "        s = f\"{cnt['wsrc']}_{cnt['insrc']}_{cnt['worker']}\"\n",
    "        if s not in ratio.keys():\n",
    "            ratio[s] = 0\n",
    "        ratio[s] += 1\n",
    "\n",
    "print(ratio)"
   ]
  },
  {
   "cell_type": "code",
   "execution_count": 7,
   "metadata": {},
   "outputs": [
    {
     "name": "stdout",
     "output_type": "stream",
     "text": [
      "bert_6_b1w1024_8x8\n",
      "bert_4_b1w1024_8x8\n",
      "inception_8_b1w1024_8x8\n",
      "resnext50_32x4d_4_b1w1024_8x8\n",
      "mobilenet_v3_small_6_b1w1024_8x8\n",
      "ssd_r34_8_b1w1024_8x8\n",
      "mobilenet_v3_small_4_b1w1024_8x8\n",
      "inception_10_b1w1024_8x8\n",
      "vgg16_6_b1w1024_8x8\n",
      "bert-large_8_b1w1024_8x8\n",
      "vgg16_2_b1w1024_8x8\n",
      "resnet50_6_b1w1024_8x8\n",
      "ssd_r34_4_b1w1024_8x8\n",
      "mobilenet_v3_large_8_b1w1024_8x8\n",
      "inception_6_b1w1024_8x8\n",
      "unet_6_b1w1024_8x8\n",
      "ssd_r34_6_b1w1024_8x8\n",
      "unet_4_b1w1024_8x8\n",
      "mobilenet_v3_small_8_b1w1024_8x8\n",
      "alexnet_6_b1w1024_8x8\n",
      "mnasnet_8_b1w1024_8x8\n",
      "resnext50_32x4d_10_b1w1024_8x8\n",
      "vgg16_4_b1w1024_8x8\n",
      "bert-large_4_b1w1024_8x8\n",
      "vgg16_8_b1w1024_8x8\n",
      "wide_resnet50_2_6_b1w1024_8x8\n",
      "mnasnet_10_b1w1024_8x8\n",
      "resnet50_4_b1w1024_8x8\n",
      "inception_4_b1w1024_8x8\n",
      "resnet50_10_b1w1024_8x8\n",
      "wide_resnet50_2_8_b1w1024_8x8\n",
      "alexnet_4_b1w1024_8x8\n",
      "alexnet_8_b1w1024_8x8\n",
      "flappybird_4_b1w1024_8x8\n",
      "unet_2_b1w1024_8x8\n",
      "flappybird_2_b1w1024_8x8\n",
      "mnasnet_4_b1w1024_8x8\n",
      "bert-large_10_b1w1024_8x8\n",
      "flappybird_8_b1w1024_8x8\n",
      "bert_10_b1w1024_8x8\n",
      "resnext50_32x4d_6_b1w1024_8x8\n",
      "alexnet_2_b1w1024_8x8\n",
      "wide_resnet50_2_4_b1w1024_8x8\n",
      "flappybird_6_b1w1024_8x8\n",
      "mnasnet_6_b1w1024_8x8\n",
      "bert-large_6_b1w1024_8x8\n",
      "mobilenet_v3_large_4_b1w1024_8x8\n",
      "mobilenet_v3_large_10_b1w1024_8x8\n",
      "wide_resnet50_2_10_b1w1024_8x8\n",
      "unet_8_b1w1024_8x8\n",
      "mobilenet_v3_large_6_b1w1024_8x8\n",
      "resnext50_32x4d_8_b1w1024_8x8\n",
      "resnet50_8_b1w1024_8x8\n",
      "bert_8_b1w1024_8x8\n"
     ]
    }
   ],
   "source": [
    "# plot theoretical throughput vs. injection rate\n",
    "throughputs = []\n",
    "injection_rates = []\n",
    "\n",
    "for root, dirs, files in os.walk(sim_result_root):\n",
    "    if len(files) < 4:\n",
    "        continue  # no out.log\n",
    "\n",
    "    taskname = os.path.split(root)[1]\n",
    "    print(taskname)\n",
    "    try:\n",
    "        trace_analyzer = TraceAnalyzer(taskname)\n",
    "    except KeyError:\n",
    "        continue\n",
    "\n",
    "    \n",
    "    for layer in sorted(trace_analyzer.get_layers()):\n",
    "        layer_analyzer = LayerAnalyzer(trace_analyzer, layer, 0)\n",
    "        w_delay, in_delay = layer_analyzer.w_delay, layer_analyzer.in_delay\n",
    "        w_slope, in_slope = layer_analyzer.get_slope()\n",
    "\n",
    "        if w_slope > 0:\n",
    "            injection_rates.append(1/w_delay)\n",
    "            throughputs.append(1/(w_slope + w_delay))\n",
    "        if in_slope > 0:\n",
    "            injection_rates.append(1/in_delay)\n",
    "            throughputs.append(1/(in_slope + in_delay))\n"
   ]
  },
  {
   "cell_type": "code",
   "execution_count": 8,
   "metadata": {},
   "outputs": [
    {
     "data": {
      "text/plain": [
       "<matplotlib.collections.PathCollection at 0x7fca638fecd0>"
      ]
     },
     "execution_count": 8,
     "metadata": {},
     "output_type": "execute_result"
    },
    {
     "data": {
      "image/png": "[encoded data removed]",
      "text/plain": [
       "<Figure size 432x288 with 1 Axes>"
      ]
     },
     "metadata": {
      "needs_background": "light"
     },
     "output_type": "display_data"
    }
   ],
   "source": [
    "plt.xlim(0, 1)\n",
    "plt.ylim(0, 1)\n",
    "plt.scatter(injection_rates, throughputs)"
   ]
  },
  {
   "cell_type": "code",
   "execution_count": 9,
   "metadata": {},
   "outputs": [
    {
     "data": {
      "text/plain": [
       "<matplotlib.collections.PathCollection at 0x7fca63ac4a30>"
      ]
     },
     "execution_count": 9,
     "metadata": {},
     "output_type": "execute_result"
    },
    {
     "data": {
      "image/png": "[encoded data removed]",
      "text/plain": [
       "<Figure size 432x288 with 1 Axes>"
      ]
     },
     "metadata": {
      "needs_background": "light"
     },
     "output_type": "display_data"
    }
   ],
   "source": [
    "plt.xlim(0, 1)\n",
    "plt.ylim(0, 0.2)\n",
    "plt.scatter(injection_rates, throughputs)"
   ]
  },
  {
   "cell_type": "code",
   "execution_count": 18,
   "metadata": {},
   "outputs": [
    {
     "data": {
      "text/plain": [
       "<matplotlib.collections.PathCollection at 0x7fca603c96a0>"
      ]
     },
     "execution_count": 18,
     "metadata": {},
     "output_type": "execute_result"
    },
    {
     "data": {
      "image/png": "[encoded data removed]",
      "text/plain": [
       "<Figure size 432x288 with 1 Axes>"
      ]
     },
     "metadata": {
      "needs_background": "light"
     },
     "output_type": "display_data"
    }
   ],
   "source": [
    "plt.xlim(0, 0.005)\n",
    "plt.ylim(0, 0.005)\n",
    "plt.scatter(injection_rates, throughputs)"
   ]
  },
  {
   "cell_type": "code",
   "execution_count": null,
   "metadata": {},
   "outputs": [],
   "source": [
    "# dump slope figures\n",
    "figure_root = \"../figure\"\n",
    "if not os.path.exists(figure_root):\n",
    "    os.mkdir(figure_root)\n",
    "if not os.path.exists(os.path.join(figure_root, \"small\")):\n",
    "    os.mkdir(os.path.join(figure_root, \"small\"))  # congestion < 1\n",
    "if not os.path.exists(os.path.join(figure_root, \"medium\")):\n",
    "    os.mkdir(os.path.join(figure_root, \"medium\")) # congestion 1 ~ 10\n",
    "if not os.path.exists(os.path.join(figure_root, \"large\")):\n",
    "    os.mkdir(os.path.join(figure_root, \"large\"))  # congestion > 10\n",
    "\n",
    "def get_category(x):\n",
    "    return \"small\" if x < 1 else (\n",
    "        \"medium\" if x < 10 else \"large\"\n",
    "    )\n",
    "\n",
    "is_dumping = True\n",
    "\n",
    "for root, dirs, files in os.walk(sim_result_root):\n",
    "    if len(files) < 4:\n",
    "        continue  # no out.log\n",
    "\n",
    "    taskname = os.path.split(root)[1]\n",
    "    print(taskname)\n",
    "    try:\n",
    "        trace_analyzer = TraceAnalyzer(taskname)\n",
    "    except KeyError:\n",
    "        continue\n",
    "\n",
    "    for layer in sorted(trace_analyzer.get_layers()):\n",
    "        layer_analyzer = LayerAnalyzer(trace_analyzer, layer, 0)\n",
    "\n",
    "        w_latency, in_latency = layer_analyzer.get_tile_latency()\n",
    "        w_x = np.array(list(w_latency.keys()))\n",
    "        w_y = np.array(list(w_latency.values()))\n",
    "        in_x = np.array(list(in_latency.keys()))\n",
    "        in_y = np.array(list(in_latency.values()))\n",
    "        \n",
    "        delay = layer_analyzer.get_delay()\n",
    "        cnt = layer_analyzer.get_cnt()\n",
    "        w_slope, in_slope = layer_analyzer.get_slope()\n",
    "        w_intercept, in_intercept = layer_analyzer.get_intercept()\n",
    "\n",
    "        workload = min(list(delay.values()))\n",
    "        congestion = max(w_slope, in_slope)/workload\n",
    "\n",
    "        title = \"\"\n",
    "        title += f\"{layer}\\n\"\n",
    "        title += f\"wsrc cnt: {cnt['wsrc']}; insrc cnt: {cnt['insrc']}; worker cnt: {cnt['worker']}\\n\"\n",
    "        title += f\"wsrc delay: {delay['wsrc']}; insrc delay: {delay['insrc']}; worker delay: {delay['worker']}\\n\"\n",
    "        title += f\"congestion ratio = {congestion}\"\n",
    "        if not is_dumping:\n",
    "            print(title)\n",
    "        else:\n",
    "            plt.title(title)\n",
    "\n",
    "        plt.plot(w_x, w_y, label=\"wsrc\")\n",
    "        plt.plot(in_x, in_y, label=\"insrc\")\n",
    "        plt.plot(w_x, w_x * w_slope + w_intercept, label=\"wsrc_regress\")\n",
    "        plt.plot(in_x, in_x * in_slope + in_intercept, label=\"insrc_regress\")\n",
    "        plt.legend(loc=\"lower right\")\n",
    "\n",
    "        if is_dumping:\n",
    "            category = get_category(congestion)\n",
    "            plt.savefig(os.path.join(figure_root, category, f\"{taskname}_{layer}.jpg\"))\n",
    "            plt.clf()\n",
    "        else:\n",
    "            plt.show()"
   ]
  },
  {
   "cell_type": "code",
   "execution_count": null,
   "metadata": {},
   "outputs": [],
   "source": []
  }
 ],
 "metadata": {
  "interpreter": {
   "hash": "1069a93c212e30c77ea926b889d43007593f0a874464c3f6a74e2fea46d7a567"
  },
  "kernelspec": {
   "display_name": "Python 3.8.10 ('py38')",
   "language": "python",
   "name": "python3"
  },
  "language_info": {
   "codemirror_mode": {
    "name": "ipython",
    "version": 3
   },
   "file_extension": ".py",
   "mimetype": "text/x-python",
   "name": "python",
   "nbconvert_exporter": "python",
   "pygments_lexer": "ipython3",
   "version": "3.8.13"
  },
  "orig_nbformat": 4
 },
 "nbformat": 4,
 "nbformat_minor": 2
}
