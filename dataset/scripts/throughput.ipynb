{
 "cells": [
  {
   "cell_type": "markdown",
   "metadata": {},
   "source": [
    "With invariant mapping and injection pattern, when NoC is in congestion, we wanna see if the performance is relevant to injection rate."
   ]
  },
  {
   "cell_type": "code",
   "execution_count": 1,
   "metadata": {},
   "outputs": [],
   "source": [
    "import sys\n",
    "sys.path.append(\"..\")\n",
    "\n",
    "import os\n",
    "import copy\n",
    "import numpy as np\n",
    "from tqdm import tqdm\n",
    "import matplotlib.pyplot as plt\n",
    "from scipy import stats\n",
    "import itertools\n",
    "\n",
    "import global_control as gc\n",
    "from focus_agent.sampler import LayerSampler, LayerSample\n",
    "from focus_agent.focus_agent import FocusAgent\n",
    "from trace_parser.trace_parser import TraceParser\n",
    "from graph_generator.hyper import HyperGraphGenerator\n",
    "from trace_parser.visualizer import OpGraphVisualizer\n",
    "from exp_predictor import ExperiencePredictor\n"
   ]
  },
  {
   "cell_type": "code",
   "execution_count": 2,
   "metadata": {},
   "outputs": [
    {
     "name": "stdout",
     "output_type": "stream",
     "text": [
      "cw64_ci1856_co64_bw0_bi1_fw9_fi8_fo12_dw58_di2_do58_n14\n"
     ]
    }
   ],
   "source": [
    "from re import template\n",
    "\n",
    "\n",
    "random_sample = False\n",
    "# seed = 1919810\n",
    "seed = 231411 \n",
    "# seed = 32419031 # x:x:1\n",
    "# you can customize a sample here, or use a random sample.\n",
    "\n",
    "delay_tags =  ['delay_w', 'delay_i', 'delay_o']\n",
    "if random_sample is True:\n",
    "    sampler = LayerSampler(seed=seed)\n",
    "    sample = sampler.get_random_sample()\n",
    "\n",
    "    # minimize delay to 1\n",
    "    min_delay = min([sample.params['delay_w'], sample.params['delay_i'], sample.params['delay_o']])\n",
    "    for d in delay_tags:\n",
    "        sample.params[d] = sample.params[d] // min_delay\n",
    "else:\n",
    "    # sample = LayerSample({\n",
    "    #     'cnt_w': 64,\n",
    "    #     'cnt_i': 64,\n",
    "    #     'cnt_o': 64,\n",
    "    #     'flit_w': 2,\n",
    "    #     'flit_i': 2,\n",
    "    #     'flit_o': 2,\n",
    "    #     'delay_w': 1,\n",
    "    #     'delay_i': 1,\n",
    "    #     'delay_o': 1,\n",
    "    #     'broadcast_w': 1,\n",
    "    #     'broadcast_i': 0,\n",
    "    #     'worker': 8,\n",
    "    # })\n",
    "    sample = LayerSample(\"cw64_ci1856_co64_bw0_bi1_fw9_fi8_fo12_dw58_di2_do58_n14\")\n",
    "\n",
    "template_sample = sample\n",
    "print(template_sample)"
   ]
  },
  {
   "cell_type": "code",
   "execution_count": 3,
   "metadata": {},
   "outputs": [
    {
     "name": "stderr",
     "output_type": "stream",
     "text": [
      "100%|██████████| 4/4 [00:31<00:00,  7.83s/it]\n"
     ]
    }
   ],
   "source": [
    "# run simulation\n",
    "samples = []\n",
    "\n",
    "agent = FocusAgent(fake_trace=True, simulate=True)\n",
    "task_root = os.path.join(gc.dataset_root, \"scripts\", \"throuput\")\n",
    "if not os.path.exists(task_root):\n",
    "    os.mkdir(task_root)\n",
    "\n",
    "# let's try exponential delay increment first\n",
    "# factors = [1, 2, 4, 8, 16, 32, 64, 128, 256, 300, 400, 500, 600, 700, 800, 900, 1024]\n",
    "# factors = [ 2, 4, 8, 16, 32, 48, 64, 96, 128, 192, 256, 512, 1024]\n",
    "factors = [2, 4, 8, 16]\n",
    "# factors = [2, 3, 4, 5, 6, 7, 8, 9, 10, 11, 12, 13, 14, 15, 16, 18, 20, 22, 24, 32, 48, 64]\n",
    "for w_factor in tqdm(factors):\n",
    "    sample_ = copy.deepcopy(template_sample)\n",
    "    \n",
    "    # modify wsrc flit size\n",
    "    sample_.params['flit_i'] = w_factor\n",
    "    samples.append(sample_)\n",
    "\n",
    "    sample_.dump(task_root, \"model\")\n",
    "    benchmark_path = os.path.join(task_root, \"model.yaml\")\n",
    "    try:\n",
    "        agent.run_focus(benchmark_path, 8, 1024, timeout=300, verbose=False)\n",
    "    except TimeoutError:\n",
    "        print(f\"Simulation timeout\")\n"
   ]
  },
  {
   "cell_type": "code",
   "execution_count": 4,
   "metadata": {},
   "outputs": [
    {
     "data": {
      "image/png": "[encoded data removed]",
      "text/plain": [
       "<Figure size 576x576 with 1 Axes>"
      ]
     },
     "metadata": {
      "needs_background": "light"
     },
     "output_type": "display_data"
    }
   ],
   "source": [
    "# visualize the first sample\n",
    "def plot_sample_mapping(sample):\n",
    "\n",
    "    taskname = str(sample) + f\"_b1w1024_8x8\"\n",
    "\n",
    "    trace_parser = TraceParser(\n",
    "        agent.get_op_graph_path(taskname),\n",
    "        agent.get_outlog_path(taskname),\n",
    "        agent.get_routing_path(taskname),\n",
    "        agent.get_spec_path(taskname),\n",
    "    )\n",
    "    G = trace_parser.graph_parser.get_graph()\n",
    "    visualizer = OpGraphVisualizer(None, trace_parser)\n",
    "\n",
    "    visualizer.plot_mapping(str(sample))\n",
    "\n",
    "plot_sample_mapping(samples[0])"
   ]
  },
  {
   "cell_type": "code",
   "execution_count": 5,
   "metadata": {},
   "outputs": [
    {
     "name": "stdout",
     "output_type": "stream",
     "text": [
      "flit_w = 9, flit_i = 2, wsrc_worker = 389, insrc_worker = 13\n",
      "estimation: wsrc_worker = 315.0\n",
      "estimation: insrc_worker = 5.0\n",
      "{'wsrc': 1.0, 'insrc': 29.0, 'worker': 1.0}\n",
      "estimated_latency=20160, ground_truth=25587\n",
      "flit_w = 9, flit_i = 4, wsrc_worker = 566, insrc_worker = 19\n",
      "estimation: wsrc_worker = 315.0\n",
      "estimation: insrc_worker = 10.0\n",
      "{'wsrc': 1.0, 'insrc': 29.0, 'worker': 1.0}\n",
      "estimated_latency=20160, ground_truth=37201\n",
      "flit_w = 9, flit_i = 8, wsrc_worker = 739, insrc_worker = 25\n",
      "estimation: wsrc_worker = 315.0\n",
      "estimation: insrc_worker = 20.0\n",
      "{'wsrc': 1.0, 'insrc': 29.0, 'worker': 1.0}\n",
      "estimated_latency=37120, ground_truth=48306\n",
      "flit_w = 9, flit_i = 16, wsrc_worker = 1444, insrc_worker = 49\n",
      "estimation: wsrc_worker = 315.0\n",
      "estimation: insrc_worker = 40.0\n",
      "{'wsrc': 1.0, 'insrc': 29.0, 'worker': 1.0}\n",
      "estimated_latency=74240, ground_truth=93468\n"
     ]
    }
   ],
   "source": [
    "# check each flow's throughput\n",
    "# returns: type -> type\n",
    "def check_flow_throughput(sample, verbose=False):\n",
    "    taskname = str(sample) + f\"_b1w1024_8x8\"\n",
    "\n",
    "    trace_parser = TraceParser(\n",
    "        agent.get_op_graph_path(taskname),\n",
    "        agent.get_outlog_path(taskname),\n",
    "        agent.get_routing_path(taskname),\n",
    "        agent.get_spec_path(taskname),\n",
    "    )\n",
    "    G = trace_parser.graph_parser.get_graph()\n",
    "\n",
    "    end_intervals = {\n",
    "        \"insrc_worker\": 0,\n",
    "        \"wsrc_worker\": 0,\n",
    "        \"worker_sink\": 0,\n",
    "    }\n",
    "\n",
    "    for u, v, eattr in G.edges(data=True):\n",
    "        p = trace_parser.outlog_parser\n",
    "        array_size = trace_parser.spec_parser.get_array_size()\n",
    "        node2pe = lambda x: G.nodes[x][\"p_pe\"]\n",
    "        pe2pos = lambda x: (x % array_size, x // array_size)\n",
    "        uid, vid = node2pe(u), node2pe(v)\n",
    "\n",
    "        pid2lat = lambda pid: p.get_latency(uid, vid, pid)[\"end_cycle\"]\n",
    "        end_cycles = np.array([pid2lat(pid) for pid in G.edges[u, v]['pkt']])\n",
    "        end_interval = np.diff(end_cycles)\n",
    "\n",
    "        upos, vpos = pe2pos(uid), pe2pos(vid)\n",
    "        utype, vtype = G.nodes[u]['op_type'], G.nodes[v]['op_type']\n",
    "\n",
    "        if verbose:\n",
    "            print(f\"{upos}({utype}) -> {vpos}({vtype}): mean {int(end_interval.mean())}, std: {int(end_interval.std())}\")\n",
    "            print(end_interval)\n",
    "            print()\n",
    "        end_intervals[f\"{utype}_{vtype}\"] = max(end_intervals[f\"{utype}_{vtype}\"], int(end_interval.mean()))\n",
    "    \n",
    "    print(f\"flit_w = {sample.params['flit_w']}, flit_i = {sample.params['flit_i']}, wsrc_worker = {end_intervals['wsrc_worker']}, insrc_worker = {end_intervals['insrc_worker']}\")\n",
    "    \n",
    "    predictor = ExperiencePredictor(trace_parser)\n",
    "    src_to_worker_throughput = predictor.estimate_src_to_worker(str(sample))\n",
    "    \n",
    "    # debug: check estimation result\n",
    "    print(f\"estimation: wsrc_worker = {src_to_worker_throughput['wsrc']}\")\n",
    "    print(f\"estimation: insrc_worker = {src_to_worker_throughput['insrc']}\")\n",
    "\n",
    "    estimated_latency = int(predictor.predict_latency(str(sample)))\n",
    "    ground_truth = trace_parser.outlog_parser.get_total_latency()\n",
    "    print(f\"estimated_latency={estimated_latency}, ground_truth={ground_truth}\")\n",
    "\n",
    "    return end_intervals\n",
    "\n",
    "for sample in samples:\n",
    "    end_interval = check_flow_throughput(sample, False)\n",
    "    "
   ]
  },
  {
   "cell_type": "code",
   "execution_count": 87,
   "metadata": {},
   "outputs": [
    {
     "name": "stdout",
     "output_type": "stream",
     "text": [
      "flit_w = 2, flit_i = 2\n",
      "w_interval / 8 = 2.625\n",
      "w_interval / 8 - flit_w * 2 = -1.375\n",
      "2.0\n",
      "flit_w = 4, flit_i = 2\n",
      "w_interval / 8 = 2.625\n",
      "w_interval / 8 - flit_w * 2 = -5.375\n",
      "4.0\n",
      "flit_w = 8, flit_i = 2\n",
      "w_interval / 8 = 3.25\n",
      "w_interval / 8 - flit_w * 2 = -12.75\n",
      "6.666666666666667\n",
      "flit_w = 16, flit_i = 2\n",
      "w_interval / 8 = 5.625\n",
      "w_interval / 8 - flit_w * 2 = -26.375\n",
      "7.0\n",
      "flit_w = 32, flit_i = 2\n",
      "w_interval / 8 = 9.75\n",
      "w_interval / 8 - flit_w * 2 = -54.25\n",
      "7.0\n",
      "flit_w = 48, flit_i = 2\n",
      "w_interval / 8 = 13.75\n",
      "w_interval / 8 - flit_w * 2 = -82.25\n",
      "7.0\n",
      "flit_w = 64, flit_i = 2\n",
      "w_interval / 8 = 17.75\n",
      "w_interval / 8 - flit_w * 2 = -110.25\n",
      "7.0\n",
      "flit_w = 96, flit_i = 2\n",
      "w_interval / 8 = 25.75\n",
      "w_interval / 8 - flit_w * 2 = -166.25\n",
      "7.0\n",
      "flit_w = 128, flit_i = 2\n",
      "w_interval / 8 = 33.75\n",
      "w_interval / 8 - flit_w * 2 = -222.25\n",
      "7.0\n",
      "flit_w = 192, flit_i = 2\n",
      "w_interval / 8 = 49.75\n",
      "w_interval / 8 - flit_w * 2 = -334.25\n",
      "7.0\n",
      "flit_w = 256, flit_i = 2\n",
      "w_interval / 8 = 65.75\n",
      "w_interval / 8 - flit_w * 2 = -446.25\n",
      "7.0\n",
      "flit_w = 512, flit_i = 2\n",
      "w_interval / 8 = 129.5\n",
      "w_interval / 8 - flit_w * 2 = -894.5\n",
      "7.0\n",
      "flit_w = 1024, flit_i = 2\n",
      "w_interval / 8 = 257.5\n",
      "w_interval / 8 - flit_w * 2 = -1790.5\n",
      "7.0\n"
     ]
    }
   ],
   "source": [
    "for sample in samples:\n",
    "    flit_w = sample.params['flit_w']\n",
    "    num_worker = sample.params['worker']\n",
    "    end_interval = check_flow_throughput(sample, False)\n",
    "    print(f\"flit_w = {sample.params['flit_w']}, flit_i = {sample.params['flit_i']}\")\n",
    "    print(f\"w_interval / {num_worker} = {end_interval['wsrc_worker'] / num_worker}\")\n",
    "    print(f\"w_interval / {num_worker} - flit_w * 2 = {end_interval['wsrc_worker'] / num_worker - sample.params['flit_w'] * 2}\")\n",
    "\n",
    "    bufs = [2, 3, 3, 4, 4, 5]\n",
    "    offset = sum([min(flit_w, 2*buf) for buf in bufs]) / len(bufs)\n",
    "    print(offset)"
   ]
  },
  {
   "cell_type": "code",
   "execution_count": 38,
   "metadata": {},
   "outputs": [
    {
     "name": "stdout",
     "output_type": "stream",
     "text": [
      "src - worker estimated latency = 5763\n",
      "ground truth latency = 22429\n",
      "[  121   150   182   211   240   269   300   329   359   388   417   446\n",
      "   477   508   538   568   598   627   657   686   716   747   776   805\n",
      "   834   863   892   921   950   986  1017  1046  1075  1108  1137  1166\n",
      "  1195  1224  1255  1287  1317  1346  1375  1404  1434  1464  1493  1522\n",
      "  1552  1582  1612  1644  1674  1703  1732  1763  1792  1821  1850  1882\n",
      "  1914  1945  1975  2004  2033  2062  2092  2123  2152  2183  2212  2241\n",
      "  2270  2299  2332  2361  2390  2421  2450  2480  2509  2538  2567  2596\n",
      "  2626  2657  2686  2715  2744  2774  2809  2839  2868  2897  2928  2958\n",
      "  2987  3016  3045  3074  3105  3135  3164  3194  3223  3252  3281  3314\n",
      "  3344  3375  3406  3435  3464  3493  3524  3553  3582  3611  3641  3671\n",
      "  3700  3729  3761  3790  3820  3850  3879  3910  3941  3975  4004  4035\n",
      "  4064  4095  4124  4153  4183  4212  4241  4271  4302  4331  4360  4389\n",
      "  4418  4447  4476  4505  4535  4564  4593  4622  4652  4681  4710  4741\n",
      "  4770  4799  4828  4862  4897  4928  4957  4986  5018  5050  5079  5109\n",
      "  5138  5167  5197  5227  5256  5285  5314  5343  5372  5404  5433  5462\n",
      "  5491  5522  5551  5580  5612  5643  5672  5701  5730  5761  5791  5820\n",
      "  5849  5878  5910  5940  5972  6002  6031  6060  6091  6120  6149  6180\n",
      "  6210  6240  6277  6307  6337  6366  6396  6425  6454  6483  6512  6541\n",
      "  6570  6601  6631  6660  6690  6719  6748  6777  6806  6841  6871  6901\n",
      "  6930  6959  6988  7017  7046  7077  7108  7138  7167  7200  7232  7262\n",
      "  7291  7321  7350  7380  7411  7441  7472  7503  7534  7563  7592  7622\n",
      "  7655  7689  7721  7750  7780  7813  7845  7876  7911  7940  7969  7998\n",
      "  8030  8059  8088  8117  8146  8175  8204  8233  8262  8291  8320  8349\n",
      "  8381  8410  8439  8472  8503  8532  8561  8591  8620  8649  8678  8707\n",
      "  8736  8766  8798  8827  8857  8888  8917  8946  8975  9005  9034  9068\n",
      "  9098  9127  9157  9187  9216  9246  9275  9304  9337  9367  9396  9426\n",
      "  9456  9486  9516  9545  9575  9604  9633  9664  9693  9722  9751  9780\n",
      "  9809  9838  9867  9896  9925  9954  9983 10012 10045 10076 10105 10134\n",
      " 10163 10192 10221 10250 10279 10308 10339 10368 10397 10428 10459 10488\n",
      " 10517 10546 10575 10604 10633 10662 10692 10726 10757 10787 10816 10845\n",
      " 10877 10907 10937 10966 10995 11026 11055 11086 11122 11153 11182 11211\n",
      " 11247 11278 11313 11342 11375 11405 11434 11463 11495 11524 11553 11582\n",
      " 11611 11641 11670 11699 11728 11760 11790 11819 11848 11880 11912 11941\n",
      " 11970 12001 12030 12062 12091 12120 12149 12178 12207 12236 12267 12297\n",
      " 12327 12356 12386 12415 12444 12473 12502 12534 12564 12594 12624 12653\n",
      " 12682 12711 12742 12772 12801 12830 12859 12888 12918 12949 12979 13010\n",
      " 13040 13069 13098 13127 13162 13195 13224 13253 13284 13315 13344 13373\n",
      " 13405 13435 13468 13498 13528 13559 13589 13620 13649 13678 13709 13741\n",
      " 13771 13803 13833 13866 13895 13924 13953 13983 14012 14041 14071 14100\n",
      " 14131 14160 14189 14219 14248 14277 14306 14335 14364 14393 14427 14457\n",
      " 14486 14515 14544 14573 14604 14634 14667 14696 14725 14755 14787 14816\n",
      " 14845 14874 14904 14933 14963 14992 15021 15053 15085 15115 15144 15177\n",
      " 15206 15235 15264 15293 15323 15353 15383 15413 15442 15471 15500 15530\n",
      " 15562 15591 15620 15649 15678 15707 15736 15767 15796 15826 15855 15884\n",
      " 15913 15942 15971 16000 16029 16059 16088 16118 16148 16177 16207 16236\n",
      " 16265 16294 16324 16355 16384 16413 16442 16471 16502 16533 16565 16595\n",
      " 16627 16659 16688 16717 16746 16775 16804 16835 16864 16893 16922 16951\n",
      " 16980 17010 17041 17070 17099 17128 17157 17186 17216 17248 17278 17307\n",
      " 17336 17366 17395 17425 17455 17484 17514 17543 17574 17605 17634 17665\n",
      " 17696 17725 17754 17783 17812 17842 17871 17900 17930 17959 17991 18020\n",
      " 18049 18078 18107 18136 18165 18194 18223 18254 18284 18314 18343 18372\n",
      " 18401 18430 18459 18488 18517 18546 18575 18606 18637 18666 18695 18724\n",
      " 18753 18782 18811 18842 18871 18900 18929 18958 18988 19017 19046 19076\n",
      " 19105 19135 19166 19195]\n",
      "worker - dst estimated latency = 19074\n",
      "ground truth latency = 22429\n",
      "src - worker estimated latency = 5780\n",
      "ground truth latency = 22429\n",
      "[19196 19197 19198 19199 19200 19201 19202 19203 19204 19205 19206 19207\n",
      " 19208 19209 19210 19211 19212 19213 19214 19215 19216 19217 19218 19219\n",
      " 19220 19221 19222 19223 19224 19225 19226 19227 19228 19229 19230 19231\n",
      " 19232 19233 19234 19235 19236 19237 19238 19239 19240 19241 19242 19243\n",
      " 19244 19245 19246 19247 19248 19249 19250 19251 19252 19253 19254 19255\n",
      " 19256 19257 19258 19259 19260 19261 19262 19263 19264 19265 19266 19267\n",
      " 19268 19269 19270 19271 19272 19273 19274 19275 19276 19277 19278 19279\n",
      " 19280 19281 19282 19283 19284 19285 19286 19287 19288 19289 19290 19291\n",
      " 19292 19293 19294 19295 19296 19297 19298 19299 19300 19301 19302 19303\n",
      " 19304 19305 19306 19307 19308 19309 19310 19311 19312 19313 19314 19315\n",
      " 19316 19317 19318 19319 19320 19321 19322 19323 19324 19325 19326 19327\n",
      " 19328 19329 19330 19331 19332 19333 19334 19335 19336 19337 19338 19339\n",
      " 19340 19341 19342 19343 19344 19345 19346 19347 19348 19349 19350 19351\n",
      " 19352 19353 19354 19355 19356 19357 19358 19359 19360 19361 19362 19363\n",
      " 19364 19365 19366 19367 19368 19369 19370 19371 19372 19373 19374 19375\n",
      " 19376 19377 19378 19379 19380 19381 19382 19383 19384 19385 19386 19387\n",
      " 19388 19389 19390 19391 19392 19393 19394 19395 19396 19397 19398 19399\n",
      " 19400 19401 19402 19403 19404 19405 19406 19407 19408 19409 19410 19411\n",
      " 19412 19413 19414 19415 19416 19417 19418 19419 19420 19421 19422 19423\n",
      " 19424 19425 19426 19427 19428 19429 19430 19431 19432 19433 19434 19435\n",
      " 19436 19437 19438 19439 19440 19441 19442 19443 19444 19445 19446 19447\n",
      " 19448 19449 19450 19451 19452 19453 19454 19455 19456 19457 19458 19459\n",
      " 19460 19461 19462 19463 19464 19465 19466 19467 19468 19469 19470 19471\n",
      " 19472 19473 19474 19475 19476 19477 19478 19479 19480 19481 19482 19483\n",
      " 19484 19485 19486 19487 19488 19489 19490 19491 19492 19493 19494 19495\n",
      " 19496 19497 19498 19499 19500 19501 19502 19503 19504 19505 19506 19507\n",
      " 19508 19509 19510 19511 19512 19513 19514 19515 19516 19517 19518 19519\n",
      " 19520 19521 19522 19523 19524 19525 19526 19527 19528 19529 19530 19531\n",
      " 19532 19533 19534 19535 19536 19537 19538 19539 19540 19541 19542 19543\n",
      " 19544 19545 19546 19547 19548 19549 19550 19551 19552 19553 19554 19555\n",
      " 19556 19557 19558 19559 19560 19561 19562 19563 19564 19565 19566 19567\n",
      " 19568 19569 19570 19571 19572 19573 19574 19575 19576 19577 19578 19579\n",
      " 19580 19581 19582 19583 19584 19585 19586 19587 19588 19589 19590 19591\n",
      " 19592 19593 19594 19595 19596 19597 19598 19599 19600 19601 19602 19603\n",
      " 19604 19605 19606 19607 19608 19609 19610 19611 19612 19613 19614 19615\n",
      " 19616 19617 19618 19619 19620 19621 19622 19623 19624 19625 19626 19627\n",
      " 19628 19629 19630 19631 19632 19633 19634 19635 19636 19637 19638 19639\n",
      " 19640 19641 19642 19643 19644 19645 19646 19647 19648 19649 19650 19651\n",
      " 19652 19653 19654 19655 19656 19657 19658 19659 19660 19661 19662 19663\n",
      " 19664 19665 19666 19667 19668 19669 19670 19671 19672 19673 19674 19675\n",
      " 19676 19677 19678 19679 19680 19681 19682 19683 19684 19685 19686 19687\n",
      " 19688 19689 19690 19691 19692 19693 19694 19695 19696 19697 19698 19699\n",
      " 19700 19701 19702 19703 19704 19705 19706 19707 19708 19709 19710 19711\n",
      " 19712 19713 19714 19715 19716 19717 19718 19719 19720 19721 19722 19723\n",
      " 19724 19725 19726 19727 19728 19729 19730 19731 19732 19733 19734 19735\n",
      " 19736 19737 19738 19739 19740 19741 19742 19743 19744 19745 19746 19747\n",
      " 19748 19749 19750 19751 19752 19753 19754 19787 19820 19853 19886 19919\n",
      " 19952 19985 20018 20051 20084 20117 20150 20183 20216 20249 20282 20315\n",
      " 20348 20381 20414 20447 20480 20513 20546 20579 20612 20645 20678 20711\n",
      " 20744 20777 20810 20843 20876 20909 20942 20975 21008 21041 21074 21107\n",
      " 21140 21173 21206 21239 21272 21305 21338 21371 21404 21437 21470 21503\n",
      " 21536 21569 21602 21635 21668 21701 21734 21767 21800 21833 21866 21899\n",
      " 21932 21965 21998 22031 22064 22097 22130 22163 22196 22229 22262 22295\n",
      " 22328 22361 22394 22427]\n",
      "worker - dst estimated latency = 3231\n",
      "ground truth latency = 22429\n"
     ]
    },
    {
     "data": {
      "image/png": "[encoded data removed]",
      "text/plain": [
       "<Figure size 432x288 with 1 Axes>"
      ]
     },
     "metadata": {
      "needs_background": "light"
     },
     "output_type": "display_data"
    },
    {
     "data": {
      "image/png": "[encoded data removed]",
      "text/plain": [
       "<Figure size 432x288 with 1 Axes>"
      ]
     },
     "metadata": {
      "needs_background": "light"
     },
     "output_type": "display_data"
    },
    {
     "data": {
      "image/png": "[encoded data removed]",
      "text/plain": [
       "<Figure size 432x288 with 1 Axes>"
      ]
     },
     "metadata": {
      "needs_background": "light"
     },
     "output_type": "display_data"
    },
    {
     "data": {
      "image/png": "[encoded data removed]",
      "text/plain": [
       "<Figure size 432x288 with 1 Axes>"
      ]
     },
     "metadata": {
      "needs_background": "light"
     },
     "output_type": "display_data"
    },
    {
     "data": {
      "image/png": "[encoded data removed]",
      "text/plain": [
       "<Figure size 432x288 with 1 Axes>"
      ]
     },
     "metadata": {
      "needs_background": "light"
     },
     "output_type": "display_data"
    },
    {
     "data": {
      "image/png": "[encoded data removed]",
      "text/plain": [
       "<Figure size 432x288 with 1 Axes>"
      ]
     },
     "metadata": {
      "needs_background": "light"
     },
     "output_type": "display_data"
    }
   ],
   "source": [
    "# check packet arrival interval (which approximately is throughput)\n",
    "\n",
    "end_interval_mean = dict()\n",
    "end_interval_std = dict()\n",
    "\n",
    "for factor in factors:\n",
    "    if factor > 1:\n",
    "        break\n",
    "\n",
    "    sample_ = copy.deepcopy(sample)\n",
    "    for d in delay_tags:\n",
    "        sample_.params[d] *= factor\n",
    "\n",
    "    # parse results\n",
    "    taskname = str(sample_) + f\"_b1w1024_8x8\"\n",
    "    trace_parser = TraceParser(\n",
    "        agent.get_op_graph_path(taskname),\n",
    "        agent.get_outlog_path(taskname),\n",
    "        agent.get_routing_path(taskname),\n",
    "        agent.get_spec_path(taskname),\n",
    "    )\n",
    "    G = trace_parser.graph_parser.get_graph()\n",
    "\n",
    "    # analyze packet arrival time interval\n",
    "    srcs = [n for n, op_type in G.nodes(data=\"op_type\")\n",
    "                if op_type == 'wsrc' or op_type == 'insrc']\n",
    "    workers  = [n for n, op_type in G.nodes(data=\"op_type\")\n",
    "            if op_type == 'worker']\n",
    "    sinks = [n for n, op_type in G.nodes(data=\"op_type\") if op_type == \"sink\"]\n",
    "    node2pe = lambda x: G.nodes[x][\"p_pe\"]\n",
    "    p = trace_parser.outlog_parser\n",
    "\n",
    "    for w in workers:\n",
    "        cnt = G.nodes[w]['cnt']\n",
    "        delay = G.nodes[w]['delay']\n",
    "        wid = node2pe(w)\n",
    "\n",
    "        # src to worker edge\n",
    "        for s in srcs:\n",
    "            src_type = G.nodes[s]['op_type']\n",
    "            sid = node2pe(s)\n",
    "            pid2lat = lambda pid: p.get_latency(sid, wid, pid)[\"end_cycle\"]\n",
    "            end_cycles = np.array([pid2lat(pid) for pid in G.edges[s, w]['pkt']])\n",
    "            end_interval = np.diff(end_cycles)\n",
    "\n",
    "            edge_name = f\"({src_type}={sid}, worker={wid})\"\n",
    "            try:\n",
    "                end_interval_mean[edge_name].append(np.mean(end_interval))\n",
    "            except:\n",
    "                end_interval_mean[edge_name] = [np.mean(end_interval)]\n",
    "            try:\n",
    "                end_interval_std[edge_name].append(np.std(end_interval))\n",
    "            except:\n",
    "                end_interval_std[edge_name] = [np.std(end_interval)]\n",
    "\n",
    "        # estimate overall latency\n",
    "        est_lat = (max(end_cycles) - min(end_cycles))\n",
    "        true_lat = trace_parser.outlog_parser.get_total_latency()\n",
    "        # print(f\"src - worker estimated latency = {est_lat}\")\n",
    "        # print(f\"ground truth latency = {true_lat}\")\n",
    "\n",
    "        # break\n",
    "\n",
    "        # not very useful\n",
    "        # worker to dst\n",
    "        for s in sinks:\n",
    "            sid = node2pe(s)\n",
    "            pid2lat = lambda pid: p.get_latency(wid, sid, pid)[\"end_cycle\"]\n",
    "            end_cycles = np.array([pid2lat(pid) for pid in G.edges[w, s]['pkt']])\n",
    "            end_interval = np.diff(end_cycles)\n",
    "\n",
    "            print(end_cycles)\n",
    "\n",
    "            edge_name = f\"(worker={wid}, sink={sid})\"\n",
    "            try:\n",
    "                end_interval_mean[edge_name].append(np.mean(end_interval))\n",
    "            except:\n",
    "                end_interval_mean[edge_name] = [np.mean(end_interval)]\n",
    "            try:\n",
    "                end_interval_std[edge_name].append(np.std(end_interval))\n",
    "            except:\n",
    "                end_interval_std[edge_name] = [np.std(end_interval)]\n",
    "\n",
    "            est_lat = (max(end_cycles) - min(end_cycles))\n",
    "            true_lat = trace_parser.outlog_parser.get_total_latency()\n",
    "            # print(f\"worker - dst estimated latency = {est_lat}\")\n",
    "            # print(f\"ground truth latency = {true_lat}\")\n",
    "\n",
    "\n",
    "for k in end_interval_mean.keys():\n",
    "    means = end_interval_mean[k]\n",
    "    stds = end_interval_std[k]\n",
    "    l = len(means)\n",
    "\n",
    "    plt.title(k)\n",
    "    plt.errorbar(x=factors[:l], y=means, yerr=stds, marker='x')\n",
    "    plt.show()"
   ]
  },
  {
   "cell_type": "code",
   "execution_count": null,
   "metadata": {},
   "outputs": [],
   "source": []
  }
 ],
 "metadata": {
  "kernelspec": {
   "display_name": "Python 3.8.13 ('py38')",
   "language": "python",
   "name": "python3"
  },
  "language_info": {
   "codemirror_mode": {
    "name": "ipython",
    "version": 3
   },
   "file_extension": ".py",
   "mimetype": "text/x-python",
   "name": "python",
   "nbconvert_exporter": "python",
   "pygments_lexer": "ipython3",
   "version": "3.8.13"
  },
  "orig_nbformat": 4,
  "vscode": {
   "interpreter": {
    "hash": "1069a93c212e30c77ea926b889d43007593f0a874464c3f6a74e2fea46d7a567"
   }
  }
 },
 "nbformat": 4,
 "nbformat_minor": 2
}
