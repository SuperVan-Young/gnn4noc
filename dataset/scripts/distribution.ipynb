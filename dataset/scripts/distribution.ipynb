{
 "cells": [
  {
   "cell_type": "code",
   "execution_count": 1,
   "metadata": {},
   "outputs": [],
   "source": [
    "import os\n",
    "import sys\n",
    "sys.path.append(\"..\")"
   ]
  },
  {
   "cell_type": "code",
   "execution_count": 4,
   "metadata": {},
   "outputs": [
    {
     "name": "stderr",
     "output_type": "stream",
     "text": [
      "100%|██████████| 4428/4428 [00:19<00:00, 232.47it/s]\n"
     ]
    },
    {
     "data": {
      "text/plain": [
       "(array([4.194e+03, 1.430e+02, 4.900e+01, 2.200e+01, 1.200e+01, 5.000e+00,\n",
       "        1.000e+00, 0.000e+00, 0.000e+00, 2.000e+00]),\n",
       " array([   0.     ,  132.83125,  265.6625 ,  398.49375,  531.325  ,\n",
       "         664.15625,  796.9875 ,  929.81875, 1062.65   , 1195.48125,\n",
       "        1328.3125 ]),\n",
       " <BarContainer object of 10 artists>)"
      ]
     },
     "execution_count": 4,
     "metadata": {},
     "output_type": "execute_result"
    },
    {
     "data": {
      "image/png": "[encoded data removed]",
      "text/plain": [
       "<Figure size 432x288 with 1 Axes>"
      ]
     },
     "metadata": {
      "needs_background": "light"
     },
     "output_type": "display_data"
    }
   ],
   "source": [
    "from dataset import NoCDataset\n",
    "import matplotlib.pyplot as plt\n",
    "from tqdm import tqdm\n",
    "\n",
    "d = NoCDataset()\n",
    "ls = []\n",
    "for g, c in tqdm(d):\n",
    "    ls.append(c.item())"
   ]
  },
  {
   "cell_type": "code",
   "execution_count": 7,
   "metadata": {},
   "outputs": [
    {
     "data": {
      "text/plain": [
       "(array([2.03e+03, 2.55e+02, 1.65e+02, 1.20e+02, 9.90e+01, 8.30e+01,\n",
       "        7.30e+01, 7.40e+01, 6.70e+01, 5.30e+01, 4.90e+01, 4.20e+01,\n",
       "        4.00e+01, 5.00e+01, 3.10e+01, 3.40e+01, 4.90e+01, 4.10e+01,\n",
       "        3.50e+01, 3.50e+01, 2.60e+01, 1.80e+01, 2.90e+01, 1.60e+01,\n",
       "        1.30e+01, 1.80e+01, 1.90e+01, 1.70e+01, 1.60e+01, 1.00e+01,\n",
       "        2.80e+01, 2.20e+01, 1.50e+01, 1.70e+01, 1.50e+01, 1.10e+01,\n",
       "        1.40e+01, 1.70e+01, 1.40e+01, 8.00e+00, 1.50e+01, 1.10e+01,\n",
       "        1.10e+01, 9.00e+00, 9.00e+00, 1.30e+01, 1.80e+01, 9.00e+00,\n",
       "        1.10e+01, 5.00e+00, 1.40e+01, 8.00e+00, 7.00e+00, 5.00e+00,\n",
       "        6.00e+00, 9.00e+00, 4.00e+00, 4.00e+00, 5.00e+00, 8.00e+00,\n",
       "        3.00e+00, 9.00e+00, 2.00e+00, 6.00e+00, 3.00e+00, 7.00e+00,\n",
       "        3.00e+00, 4.00e+00, 4.00e+00, 5.00e+00, 5.00e+00, 8.00e+00,\n",
       "        2.00e+00, 3.00e+00, 6.00e+00, 2.00e+00, 7.00e+00, 7.00e+00,\n",
       "        4.00e+00, 7.00e+00, 2.00e+00, 4.00e+00, 4.00e+00, 2.00e+00,\n",
       "        4.00e+00, 4.00e+00, 2.00e+00, 5.00e+00, 5.00e+00, 4.00e+00,\n",
       "        5.00e+00, 4.00e+00, 0.00e+00, 4.00e+00, 7.00e+00, 3.00e+00,\n",
       "        1.00e+00, 2.00e+00, 0.00e+00]),\n",
       " array([ 0,  1,  2,  3,  4,  5,  6,  7,  8,  9, 10, 11, 12, 13, 14, 15, 16,\n",
       "        17, 18, 19, 20, 21, 22, 23, 24, 25, 26, 27, 28, 29, 30, 31, 32, 33,\n",
       "        34, 35, 36, 37, 38, 39, 40, 41, 42, 43, 44, 45, 46, 47, 48, 49, 50,\n",
       "        51, 52, 53, 54, 55, 56, 57, 58, 59, 60, 61, 62, 63, 64, 65, 66, 67,\n",
       "        68, 69, 70, 71, 72, 73, 74, 75, 76, 77, 78, 79, 80, 81, 82, 83, 84,\n",
       "        85, 86, 87, 88, 89, 90, 91, 92, 93, 94, 95, 96, 97, 98, 99]),\n",
       " <BarContainer object of 99 artists>)"
      ]
     },
     "execution_count": 7,
     "metadata": {},
     "output_type": "execute_result"
    },
    {
     "data": {
      "image/png": "[encoded data removed]",
      "text/plain": [
       "<Figure size 432x288 with 1 Axes>"
      ]
     },
     "metadata": {
      "needs_background": "light"
     },
     "output_type": "display_data"
    }
   ],
   "source": [
    "plt.hist(ls, bins=list(range(0, 100)))"
   ]
  },
  {
   "cell_type": "code",
   "execution_count": null,
   "metadata": {},
   "outputs": [],
   "source": []
  }
 ],
 "metadata": {
  "kernelspec": {
   "display_name": "Python 3.8.13 ('py38')",
   "language": "python",
   "name": "python3"
  },
  "language_info": {
   "codemirror_mode": {
    "name": "ipython",
    "version": 3
   },
   "file_extension": ".py",
   "mimetype": "text/x-python",
   "name": "python",
   "nbconvert_exporter": "python",
   "pygments_lexer": "ipython3",
   "version": "3.8.13"
  },
  "orig_nbformat": 4,
  "vscode": {
   "interpreter": {
    "hash": "1069a93c212e30c77ea926b889d43007593f0a874464c3f6a74e2fea46d7a567"
   }
  }
 },
 "nbformat": 4,
 "nbformat_minor": 2
}
