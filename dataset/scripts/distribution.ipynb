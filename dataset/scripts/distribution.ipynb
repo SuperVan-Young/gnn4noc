{
 "cells": [
  {
   "cell_type": "code",
   "execution_count": 1,
   "metadata": {},
   "outputs": [],
   "source": [
    "import os\n",
    "import sys\n",
    "sys.path.append(\"..\")"
   ]
  },
  {
   "cell_type": "code",
   "execution_count": 20,
   "metadata": {},
   "outputs": [
    {
     "name": "stderr",
     "output_type": "stream",
     "text": [
      "100%|██████████| 4428/4428 [00:03<00:00, 1428.82it/s]\n"
     ]
    }
   ],
   "source": [
    "from dataset import NoCDataset\n",
    "import matplotlib.pyplot as plt\n",
    "from tqdm import tqdm\n",
    "\n",
    "d = NoCDataset(-9, 9)\n",
    "ls = []\n",
    "for g, c in tqdm(d):\n",
    "    ls.append(c.item())\n",
    "total = sum(ls)"
   ]
  },
  {
   "cell_type": "code",
   "execution_count": 21,
   "metadata": {},
   "outputs": [
    {
     "name": "stdout",
     "output_type": "stream",
     "text": [
      "0 17\n"
     ]
    },
    {
     "data": {
      "text/plain": [
       "array([0.18360434, 0.0697832 , 0.08107498, 0.03093948, 0.0564589 ,\n",
       "       0.09417344, 0.06436314, 0.15695574, 0.15898826, 0.10365854])"
      ]
     },
     "execution_count": 21,
     "metadata": {},
     "output_type": "execute_result"
    },
    {
     "data": {
      "image/png": "[encoded data removed]",
      "text/plain": [
       "<Figure size 432x288 with 1 Axes>"
      ]
     },
     "metadata": {
      "needs_background": "light"
     },
     "output_type": "display_data"
    }
   ],
   "source": [
    "print(min(ls), max(ls))\n",
    "a = plt.hist(ls)\n",
    "a[0] / sum(a[0])"
   ]
  },
  {
   "cell_type": "code",
   "execution_count": null,
   "metadata": {},
   "outputs": [],
   "source": []
  }
 ],
 "metadata": {
  "kernelspec": {
   "display_name": "Python 3.8.13 ('py38')",
   "language": "python",
   "name": "python3"
  },
  "language_info": {
   "codemirror_mode": {
    "name": "ipython",
    "version": 3
   },
   "file_extension": ".py",
   "mimetype": "text/x-python",
   "name": "python",
   "nbconvert_exporter": "python",
   "pygments_lexer": "ipython3",
   "version": "3.8.13"
  },
  "orig_nbformat": 4,
  "vscode": {
   "interpreter": {
    "hash": "1069a93c212e30c77ea926b889d43007593f0a874464c3f6a74e2fea46d7a567"
   }
  }
 },
 "nbformat": 4,
 "nbformat_minor": 2
}
