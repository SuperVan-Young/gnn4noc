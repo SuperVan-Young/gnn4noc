{
 "cells": [
  {
   "cell_type": "markdown",
   "metadata": {},
   "source": [
    "We wanna check how congestion bins lead to imbalance on dataset."
   ]
  },
  {
   "cell_type": "code",
   "execution_count": 1,
   "metadata": {},
   "outputs": [],
   "source": [
    "import os\n",
    "import sys\n",
    "sys.path.append(\"..\")\n",
    "sys.path.append(\"../../model\")\n",
    "\n",
    "import matplotlib.pyplot as plt\n",
    "from tqdm import tqdm\n",
    "\n",
    "from dataset import NoCDataset\n",
    "from hyper_graph_model import PredictionHead\n"
   ]
  },
  {
   "cell_type": "code",
   "execution_count": 2,
   "metadata": {},
   "outputs": [
    {
     "name": "stderr",
     "output_type": "stream",
     "text": [
      "100%|██████████| 3290/3290 [00:05<00:00, 587.54it/s]\n"
     ]
    }
   ],
   "source": [
    "data_root = \"/home/xuechenhao/gnn4noc/dataset/data/router_cnt/\"\n",
    "dataset = NoCDataset(data_root=data_root)\n",
    "head = PredictionHead(n_pred=2, pred_base=2.0, pred_exp_min=-1, pred_exp_max=9)\n",
    "\n",
    "labels = []\n",
    "for graph, congestion in tqdm(dataset):\n",
    "    label = head.congestion_to_label(congestion)\n",
    "    labels.append(int(label.item()))"
   ]
  },
  {
   "cell_type": "code",
   "execution_count": 3,
   "metadata": {},
   "outputs": [
    {
     "data": {
      "text/plain": [
       "(array([   4.,   86., 1275.,  372.,  357.,  336.,  267.,  237.,  168.,\n",
       "         188.]),\n",
       " array([0. , 0.9, 1.8, 2.7, 3.6, 4.5, 5.4, 6.3, 7.2, 8.1, 9. ]),\n",
       " <BarContainer object of 10 artists>)"
      ]
     },
     "execution_count": 3,
     "metadata": {},
     "output_type": "execute_result"
    },
    {
     "data": {
      "image/png": "[encoded data removed]",
      "text/plain": [
       "<Figure size 432x288 with 1 Axes>"
      ]
     },
     "metadata": {
      "needs_background": "light"
     },
     "output_type": "display_data"
    }
   ],
   "source": [
    "plt.hist(labels, bins=10)"
   ]
  },
  {
   "cell_type": "code",
   "execution_count": null,
   "metadata": {},
   "outputs": [],
   "source": []
  }
 ],
 "metadata": {
  "kernelspec": {
   "display_name": "Python 3.8.13 ('py38')",
   "language": "python",
   "name": "python3"
  },
  "language_info": {
   "codemirror_mode": {
    "name": "ipython",
    "version": 3
   },
   "file_extension": ".py",
   "mimetype": "text/x-python",
   "name": "python",
   "nbconvert_exporter": "python",
   "pygments_lexer": "ipython3",
   "version": "3.8.13"
  },
  "orig_nbformat": 4,
  "vscode": {
   "interpreter": {
    "hash": "1069a93c212e30c77ea926b889d43007593f0a874464c3f6a74e2fea46d7a567"
   }
  }
 },
 "nbformat": 4,
 "nbformat_minor": 2
}
